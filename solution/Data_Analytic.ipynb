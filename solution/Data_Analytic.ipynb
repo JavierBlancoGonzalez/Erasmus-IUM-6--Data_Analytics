{
 "cells": [
  {
   "cell_type": "code",
   "execution_count": 1,
   "id": "initial_id",
   "metadata": {
    "collapsed": true,
    "ExecuteTime": {
     "end_time": "2024-01-30T11:39:26.193451Z",
     "start_time": "2024-01-30T11:39:23.292149800Z"
    }
   },
   "outputs": [],
   "source": [
    "import pymongo\n",
    "import matplotlib.pyplot as plt\n",
    "import seaborn as sns\n",
    "import pandas as pd\n",
    "import warnings\n",
    "\n",
    "warnings.filterwarnings(\"ignore\")\n",
    "\n",
    "#Create the connection with the date base\n",
    "def create_connection():\n",
    "    try:\n",
    "        client = pymongo.MongoClient(\"mongodb://localhost:27017/\")\n",
    "        return client[\"IUM\"], client # Change the database name for your name\n",
    "    except pymongo.errors.ConnectionFailure as e:\n",
    "        print(f\"Connection failed: {e}\")\n",
    "        return None, None\n",
    "\n",
    "#Close the connection with the database\n",
    "def close_connection(client):\n",
    "    # Close connection\n",
    "    if client is not None:  # Check for None explicitly\n",
    "        client.close()\n",
    "\n",
    "db, client = create_connection()"
   ]
  },
  {
   "cell_type": "markdown",
   "source": [
    "CREATION OF THE DATAFRAMES FOR EACH COLLECTION OF MONGODB"
   ],
   "metadata": {
    "collapsed": false
   },
   "id": "64f1682f486ae83b"
  },
  {
   "cell_type": "code",
   "execution_count": 2,
   "outputs": [
    {
     "data": {
      "text/plain": "                            _id  game_id competition_id  season  \\\n0      65944f08b6c1148df9b5a41b  2222597            RU1    2012   \n1      65944f08b6c1148df9b5a41c  2222627            RU1    2012   \n2      65944f08b6c1148df9b5a41d  2222658            RU1    2012   \n3      65944f08b6c1148df9b5a41e  2222664            RU1    2012   \n4      65944f08b6c1148df9b5a41f  2222683            RU1    2012   \n...                         ...      ...            ...     ...   \n65211  65944f0fb6c1148df9b6a2d8  2367292             EL    2013   \n65212  65944f0fb6c1148df9b6a2d9  2629035            NLP    2015   \n65213  65944f0fb6c1148df9b6a2da  3092951            CLQ    2018   \n65214  65944f0fb6c1148df9b6a2db  4164101            CGB    2023   \n65215  65944f0fb6c1148df9b6a2dc  4013659            FAC    2022   \n\n                          round       date  home_club_id  away_club_id  \\\n0                   6. Matchday 2012-08-25          3725           232   \n1                   5. Matchday 2012-08-20          2696          4128   \n2                  10. Matchday 2012-09-30          2410           121   \n3                   8. Matchday 2012-09-15           932          2698   \n4                  12. Matchday 2012-10-22          2696         12438   \n...                         ...        ...           ...           ...   \n65211                   Group B 2013-11-07           383           419   \n65212               Third Round 2015-10-27           383         16866   \n65213  Qualifying Round 2nd leg 2018-08-29           383           713   \n65214              Second Round 2023-08-29           512          1194   \n65215              Fourth Round 2023-01-29           512          3684   \n\n       home_club_goals  away_club_goals  ...          stadium  attendance  \\\n0                    2                1  ...     Akhmat-Arena     21700.0   \n1                    0                2  ...        Metallurg     11400.0   \n2                    0                2  ...     Arena Khimki     12000.0   \n3                    1                0  ...        RZD Arena     11408.0   \n4                    0                1  ...        Metallurg      7534.0   \n...                ...              ...  ...              ...         ...   \n65211                2                0  ...  Philips Stadion     10000.0   \n65212                6                0  ...  Philips Stadion     31000.0   \n65213                3                0  ...  Philips Stadion     34200.0   \n65214                6                1  ...   bet365 Stadium      9410.0   \n65215                3                1  ...   bet365 Stadium     14392.0   \n\n                    referee  \\\n0      Vladislav Bezborodov   \n1             Sergey Ivanov   \n2            Sergey Karasev   \n3            Sergey Karasev   \n4         Timur Arslanbekov   \n...                     ...   \n65211        Cristian Balaj   \n65212       Allard Lindhout   \n65213        Anthony Taylor   \n65214     Michael Salisbury   \n65215            David Webb   \n\n                                                     url  \\\n0      https://www.transfermarkt.co.uk/terek-grozny_s...   \n1      https://www.transfermarkt.co.uk/krylya-sovetov...   \n2      https://www.transfermarkt.co.uk/cska-moscow_di...   \n3      https://www.transfermarkt.co.uk/lokomotiv-mosc...   \n4      https://www.transfermarkt.co.uk/krylya-sovetov...   \n...                                                  ...   \n65211  https://www.transfermarkt.co.uk/spielbericht/i...   \n65212  https://www.transfermarkt.co.uk/spielbericht/i...   \n65213  https://www.transfermarkt.co.uk/spielbericht/i...   \n65214  https://www.transfermarkt.co.uk/spielbericht/i...   \n65215  https://www.transfermarkt.co.uk/spielbericht/i...   \n\n                                          home_club_name  \\\n0                                      RFK Akhmat Grozny   \n1                              PFK Krylya Sovetov Samara   \n2                                        PFK CSKA Moskva   \n3                     Футбольный клуб \"Локомотив\" Москва   \n4                              PFK Krylya Sovetov Samara   \n...                                                  ...   \n65211  Eindhovense Voetbalvereniging Philips Sport Ve...   \n65212  Eindhovense Voetbalvereniging Philips Sport Ve...   \n65213  Eindhovense Voetbalvereniging Philips Sport Ve...   \n65214                                         Stoke City   \n65215                                         Stoke City   \n\n                        away_club_name aggregate   competition_type  \\\n0                    FK Spartak Moskva       2:1    domestic_league   \n1                           Amkar Perm       0:2    domestic_league   \n2                     FK Dinamo Moskva       0:2    domestic_league   \n3                       FC Rubin Kazan       1:0    domestic_league   \n4      Volga Nizhniy Novgorod (- 2016)       0:1    domestic_league   \n...                                ...       ...                ...   \n65211                              NaN       2:0  international_cup   \n65212                              NaN       6:0       domestic_cup   \n65213                              NaN       3:0  international_cup   \n65214                              NaN       6:1              other   \n65215                              NaN       3:1       domestic_cup   \n\n      home_club_formation away_club_formation  \n0                     NaN                 NaN  \n1                     NaN                 NaN  \n2                     NaN                 NaN  \n3                     NaN                 NaN  \n4                     NaN                 NaN  \n...                   ...                 ...  \n65211                 NaN                 NaN  \n65212                 NaN                 NaN  \n65213                 NaN                 NaN  \n65214             4-2-3-1             4-2-3-1  \n65215                 NaN                 NaN  \n\n[65216 rows x 24 columns]",
      "text/html": "<div>\n<style scoped>\n    .dataframe tbody tr th:only-of-type {\n        vertical-align: middle;\n    }\n\n    .dataframe tbody tr th {\n        vertical-align: top;\n    }\n\n    .dataframe thead th {\n        text-align: right;\n    }\n</style>\n<table border=\"1\" class=\"dataframe\">\n  <thead>\n    <tr style=\"text-align: right;\">\n      <th></th>\n      <th>_id</th>\n      <th>game_id</th>\n      <th>competition_id</th>\n      <th>season</th>\n      <th>round</th>\n      <th>date</th>\n      <th>home_club_id</th>\n      <th>away_club_id</th>\n      <th>home_club_goals</th>\n      <th>away_club_goals</th>\n      <th>...</th>\n      <th>stadium</th>\n      <th>attendance</th>\n      <th>referee</th>\n      <th>url</th>\n      <th>home_club_name</th>\n      <th>away_club_name</th>\n      <th>aggregate</th>\n      <th>competition_type</th>\n      <th>home_club_formation</th>\n      <th>away_club_formation</th>\n    </tr>\n  </thead>\n  <tbody>\n    <tr>\n      <th>0</th>\n      <td>65944f08b6c1148df9b5a41b</td>\n      <td>2222597</td>\n      <td>RU1</td>\n      <td>2012</td>\n      <td>6. Matchday</td>\n      <td>2012-08-25</td>\n      <td>3725</td>\n      <td>232</td>\n      <td>2</td>\n      <td>1</td>\n      <td>...</td>\n      <td>Akhmat-Arena</td>\n      <td>21700.0</td>\n      <td>Vladislav Bezborodov</td>\n      <td>https://www.transfermarkt.co.uk/terek-grozny_s...</td>\n      <td>RFK Akhmat Grozny</td>\n      <td>FK Spartak Moskva</td>\n      <td>2:1</td>\n      <td>domestic_league</td>\n      <td>NaN</td>\n      <td>NaN</td>\n    </tr>\n    <tr>\n      <th>1</th>\n      <td>65944f08b6c1148df9b5a41c</td>\n      <td>2222627</td>\n      <td>RU1</td>\n      <td>2012</td>\n      <td>5. Matchday</td>\n      <td>2012-08-20</td>\n      <td>2696</td>\n      <td>4128</td>\n      <td>0</td>\n      <td>2</td>\n      <td>...</td>\n      <td>Metallurg</td>\n      <td>11400.0</td>\n      <td>Sergey Ivanov</td>\n      <td>https://www.transfermarkt.co.uk/krylya-sovetov...</td>\n      <td>PFK Krylya Sovetov Samara</td>\n      <td>Amkar Perm</td>\n      <td>0:2</td>\n      <td>domestic_league</td>\n      <td>NaN</td>\n      <td>NaN</td>\n    </tr>\n    <tr>\n      <th>2</th>\n      <td>65944f08b6c1148df9b5a41d</td>\n      <td>2222658</td>\n      <td>RU1</td>\n      <td>2012</td>\n      <td>10. Matchday</td>\n      <td>2012-09-30</td>\n      <td>2410</td>\n      <td>121</td>\n      <td>0</td>\n      <td>2</td>\n      <td>...</td>\n      <td>Arena Khimki</td>\n      <td>12000.0</td>\n      <td>Sergey Karasev</td>\n      <td>https://www.transfermarkt.co.uk/cska-moscow_di...</td>\n      <td>PFK CSKA Moskva</td>\n      <td>FK Dinamo Moskva</td>\n      <td>0:2</td>\n      <td>domestic_league</td>\n      <td>NaN</td>\n      <td>NaN</td>\n    </tr>\n    <tr>\n      <th>3</th>\n      <td>65944f08b6c1148df9b5a41e</td>\n      <td>2222664</td>\n      <td>RU1</td>\n      <td>2012</td>\n      <td>8. Matchday</td>\n      <td>2012-09-15</td>\n      <td>932</td>\n      <td>2698</td>\n      <td>1</td>\n      <td>0</td>\n      <td>...</td>\n      <td>RZD Arena</td>\n      <td>11408.0</td>\n      <td>Sergey Karasev</td>\n      <td>https://www.transfermarkt.co.uk/lokomotiv-mosc...</td>\n      <td>Футбольный клуб \"Локомотив\" Москва</td>\n      <td>FC Rubin Kazan</td>\n      <td>1:0</td>\n      <td>domestic_league</td>\n      <td>NaN</td>\n      <td>NaN</td>\n    </tr>\n    <tr>\n      <th>4</th>\n      <td>65944f08b6c1148df9b5a41f</td>\n      <td>2222683</td>\n      <td>RU1</td>\n      <td>2012</td>\n      <td>12. Matchday</td>\n      <td>2012-10-22</td>\n      <td>2696</td>\n      <td>12438</td>\n      <td>0</td>\n      <td>1</td>\n      <td>...</td>\n      <td>Metallurg</td>\n      <td>7534.0</td>\n      <td>Timur Arslanbekov</td>\n      <td>https://www.transfermarkt.co.uk/krylya-sovetov...</td>\n      <td>PFK Krylya Sovetov Samara</td>\n      <td>Volga Nizhniy Novgorod (- 2016)</td>\n      <td>0:1</td>\n      <td>domestic_league</td>\n      <td>NaN</td>\n      <td>NaN</td>\n    </tr>\n    <tr>\n      <th>...</th>\n      <td>...</td>\n      <td>...</td>\n      <td>...</td>\n      <td>...</td>\n      <td>...</td>\n      <td>...</td>\n      <td>...</td>\n      <td>...</td>\n      <td>...</td>\n      <td>...</td>\n      <td>...</td>\n      <td>...</td>\n      <td>...</td>\n      <td>...</td>\n      <td>...</td>\n      <td>...</td>\n      <td>...</td>\n      <td>...</td>\n      <td>...</td>\n      <td>...</td>\n      <td>...</td>\n    </tr>\n    <tr>\n      <th>65211</th>\n      <td>65944f0fb6c1148df9b6a2d8</td>\n      <td>2367292</td>\n      <td>EL</td>\n      <td>2013</td>\n      <td>Group B</td>\n      <td>2013-11-07</td>\n      <td>383</td>\n      <td>419</td>\n      <td>2</td>\n      <td>0</td>\n      <td>...</td>\n      <td>Philips Stadion</td>\n      <td>10000.0</td>\n      <td>Cristian Balaj</td>\n      <td>https://www.transfermarkt.co.uk/spielbericht/i...</td>\n      <td>Eindhovense Voetbalvereniging Philips Sport Ve...</td>\n      <td>NaN</td>\n      <td>2:0</td>\n      <td>international_cup</td>\n      <td>NaN</td>\n      <td>NaN</td>\n    </tr>\n    <tr>\n      <th>65212</th>\n      <td>65944f0fb6c1148df9b6a2d9</td>\n      <td>2629035</td>\n      <td>NLP</td>\n      <td>2015</td>\n      <td>Third Round</td>\n      <td>2015-10-27</td>\n      <td>383</td>\n      <td>16866</td>\n      <td>6</td>\n      <td>0</td>\n      <td>...</td>\n      <td>Philips Stadion</td>\n      <td>31000.0</td>\n      <td>Allard Lindhout</td>\n      <td>https://www.transfermarkt.co.uk/spielbericht/i...</td>\n      <td>Eindhovense Voetbalvereniging Philips Sport Ve...</td>\n      <td>NaN</td>\n      <td>6:0</td>\n      <td>domestic_cup</td>\n      <td>NaN</td>\n      <td>NaN</td>\n    </tr>\n    <tr>\n      <th>65213</th>\n      <td>65944f0fb6c1148df9b6a2da</td>\n      <td>3092951</td>\n      <td>CLQ</td>\n      <td>2018</td>\n      <td>Qualifying Round 2nd leg</td>\n      <td>2018-08-29</td>\n      <td>383</td>\n      <td>713</td>\n      <td>3</td>\n      <td>0</td>\n      <td>...</td>\n      <td>Philips Stadion</td>\n      <td>34200.0</td>\n      <td>Anthony Taylor</td>\n      <td>https://www.transfermarkt.co.uk/spielbericht/i...</td>\n      <td>Eindhovense Voetbalvereniging Philips Sport Ve...</td>\n      <td>NaN</td>\n      <td>3:0</td>\n      <td>international_cup</td>\n      <td>NaN</td>\n      <td>NaN</td>\n    </tr>\n    <tr>\n      <th>65214</th>\n      <td>65944f0fb6c1148df9b6a2db</td>\n      <td>4164101</td>\n      <td>CGB</td>\n      <td>2023</td>\n      <td>Second Round</td>\n      <td>2023-08-29</td>\n      <td>512</td>\n      <td>1194</td>\n      <td>6</td>\n      <td>1</td>\n      <td>...</td>\n      <td>bet365 Stadium</td>\n      <td>9410.0</td>\n      <td>Michael Salisbury</td>\n      <td>https://www.transfermarkt.co.uk/spielbericht/i...</td>\n      <td>Stoke City</td>\n      <td>NaN</td>\n      <td>6:1</td>\n      <td>other</td>\n      <td>4-2-3-1</td>\n      <td>4-2-3-1</td>\n    </tr>\n    <tr>\n      <th>65215</th>\n      <td>65944f0fb6c1148df9b6a2dc</td>\n      <td>4013659</td>\n      <td>FAC</td>\n      <td>2022</td>\n      <td>Fourth Round</td>\n      <td>2023-01-29</td>\n      <td>512</td>\n      <td>3684</td>\n      <td>3</td>\n      <td>1</td>\n      <td>...</td>\n      <td>bet365 Stadium</td>\n      <td>14392.0</td>\n      <td>David Webb</td>\n      <td>https://www.transfermarkt.co.uk/spielbericht/i...</td>\n      <td>Stoke City</td>\n      <td>NaN</td>\n      <td>3:1</td>\n      <td>domestic_cup</td>\n      <td>NaN</td>\n      <td>NaN</td>\n    </tr>\n  </tbody>\n</table>\n<p>65216 rows × 24 columns</p>\n</div>"
     },
     "execution_count": 2,
     "metadata": {},
     "output_type": "execute_result"
    }
   ],
   "source": [
    "def getGames(db):\n",
    "    try:\n",
    "        collection = db[\"games\"]\n",
    "        games = list(collection.find())\n",
    "        return games\n",
    "    except Exception as e:\n",
    "            print(f\"Retrieval of Games failed: {e}\")\n",
    "            return []\n",
    "\n",
    "gamesInfo = getGames(db)   \n",
    "games_df = pd.DataFrame(gamesInfo)\n",
    "games_df"
   ],
   "metadata": {
    "collapsed": false,
    "ExecuteTime": {
     "end_time": "2024-01-30T11:39:28.144566700Z",
     "start_time": "2024-01-30T11:39:23.546202600Z"
    }
   },
   "id": "ae474dddc865ed97"
  },
  {
   "cell_type": "code",
   "execution_count": 3,
   "outputs": [
    {
     "data": {
      "text/plain": "                          _id  club_id             club_code  \\\n0    65944d8cb6c1148df990a787      105       sv-darmstadt-98   \n1    65944d8cb6c1148df990a788    11127     ural-ekaterinburg   \n2    65944d8cb6c1148df990a789      114     besiktas-istanbul   \n3    65944d8cb6c1148df990a78a       12                as-rom   \n4    65944d8cb6c1148df990a78b      148     tottenham-hotspur   \n..                        ...      ...                   ...   \n421  65944d8cb6c1148df990a92c    68608      cf-os-belenenses   \n422  65944d8cb6c1148df990a92d      724           fc-volendam   \n423  65944d8cb6c1148df990a92e      800      atalanta-bergamo   \n424  65944d8cb6c1148df990a92f      979         moreirense-fc   \n425  65944d8cb6c1148df990a930      984  west-bromwich-albion   \n\n                                  name domestic_competition_id  squad_size  \\\n0     Sportverein Darmstadt 1898 e. V.                      L1          30   \n1                FK Ural Yekaterinburg                     RU1          25   \n2            Beşiktaş Jimnastik Kulübü                     TR1          32   \n3           Associazione Sportiva Roma                     IT1          26   \n4      Tottenham Hotspur Football Club                     GB1          29   \n..                                 ...                     ...         ...   \n421                   CF Os Belenenses                     PO1          30   \n422             Football Club Volendam                     NL1          29   \n423  Atalanta Bergamasca Calcio S.p.a.                     IT1          25   \n424           Moreirense Futebol Clube                     PO1          26   \n425               West Bromwich Albion                     GB1          25   \n\n     average_age  foreigners_number  foreigners_percentage  \\\n0           26.4                 11                   36.7   \n1           28.2                 13                   52.0   \n2           27.4                 16                   50.0   \n3           27.4                 17                   65.4   \n4           26.2                 21                   72.4   \n..           ...                ...                    ...   \n421         25.7                  5                   16.7   \n422         22.8                 14                   48.3   \n423         27.2                 17                   68.0   \n424         26.0                 17                   65.4   \n425         27.8                  8                   32.0   \n\n     national_team_players                      stadium_name  stadium_seats  \\\n0                        1    Merck-Stadion am Böllenfalltor          17810   \n1                        5               Yekaterinburg Arena          23000   \n2                       13                   Tüpraş Stadyumu          42590   \n3                       17                  Olimpico di Roma          73261   \n4                       22         Tottenham Hotspur Stadium          62062   \n..                     ...                               ...            ...   \n421                      0                Estádio do Restelo          19980   \n422                      3                      Kras Stadion           7384   \n423                     15                    Gewiss Stadium          21747   \n424                      2  Estádio C. J. de Almeida Freitas           6153   \n425                      4                     The Hawthorns          26850   \n\n    net_transfer_record  last_season  \\\n0               €-1.60m         2023   \n1                €-770k         2023   \n2              €-14.50m         2023   \n3              +€65.20m         2023   \n4             €-130.40m         2023   \n..                  ...          ...   \n421                 +-0         2017   \n422             +€1.80m         2023   \n423            +€87.00m         2023   \n424             €-2.05m         2023   \n425             €-1.35m         2020   \n\n                                                   url  \n0    https://www.transfermarkt.co.uk/sv-darmstadt-9...  \n1    https://www.transfermarkt.co.uk/ural-ekaterinb...  \n2    https://www.transfermarkt.co.uk/besiktas-istan...  \n3    https://www.transfermarkt.co.uk/as-rom/startse...  \n4    https://www.transfermarkt.co.uk/tottenham-hots...  \n..                                                 ...  \n421  https://www.transfermarkt.co.uk/cf-os-belenens...  \n422  https://www.transfermarkt.co.uk/fc-volendam/st...  \n423  https://www.transfermarkt.co.uk/atalanta-berga...  \n424  https://www.transfermarkt.co.uk/moreirense-fc/...  \n425  https://www.transfermarkt.co.uk/west-bromwich-...  \n\n[426 rows x 15 columns]",
      "text/html": "<div>\n<style scoped>\n    .dataframe tbody tr th:only-of-type {\n        vertical-align: middle;\n    }\n\n    .dataframe tbody tr th {\n        vertical-align: top;\n    }\n\n    .dataframe thead th {\n        text-align: right;\n    }\n</style>\n<table border=\"1\" class=\"dataframe\">\n  <thead>\n    <tr style=\"text-align: right;\">\n      <th></th>\n      <th>_id</th>\n      <th>club_id</th>\n      <th>club_code</th>\n      <th>name</th>\n      <th>domestic_competition_id</th>\n      <th>squad_size</th>\n      <th>average_age</th>\n      <th>foreigners_number</th>\n      <th>foreigners_percentage</th>\n      <th>national_team_players</th>\n      <th>stadium_name</th>\n      <th>stadium_seats</th>\n      <th>net_transfer_record</th>\n      <th>last_season</th>\n      <th>url</th>\n    </tr>\n  </thead>\n  <tbody>\n    <tr>\n      <th>0</th>\n      <td>65944d8cb6c1148df990a787</td>\n      <td>105</td>\n      <td>sv-darmstadt-98</td>\n      <td>Sportverein Darmstadt 1898 e. V.</td>\n      <td>L1</td>\n      <td>30</td>\n      <td>26.4</td>\n      <td>11</td>\n      <td>36.7</td>\n      <td>1</td>\n      <td>Merck-Stadion am Böllenfalltor</td>\n      <td>17810</td>\n      <td>€-1.60m</td>\n      <td>2023</td>\n      <td>https://www.transfermarkt.co.uk/sv-darmstadt-9...</td>\n    </tr>\n    <tr>\n      <th>1</th>\n      <td>65944d8cb6c1148df990a788</td>\n      <td>11127</td>\n      <td>ural-ekaterinburg</td>\n      <td>FK Ural Yekaterinburg</td>\n      <td>RU1</td>\n      <td>25</td>\n      <td>28.2</td>\n      <td>13</td>\n      <td>52.0</td>\n      <td>5</td>\n      <td>Yekaterinburg Arena</td>\n      <td>23000</td>\n      <td>€-770k</td>\n      <td>2023</td>\n      <td>https://www.transfermarkt.co.uk/ural-ekaterinb...</td>\n    </tr>\n    <tr>\n      <th>2</th>\n      <td>65944d8cb6c1148df990a789</td>\n      <td>114</td>\n      <td>besiktas-istanbul</td>\n      <td>Beşiktaş Jimnastik Kulübü</td>\n      <td>TR1</td>\n      <td>32</td>\n      <td>27.4</td>\n      <td>16</td>\n      <td>50.0</td>\n      <td>13</td>\n      <td>Tüpraş Stadyumu</td>\n      <td>42590</td>\n      <td>€-14.50m</td>\n      <td>2023</td>\n      <td>https://www.transfermarkt.co.uk/besiktas-istan...</td>\n    </tr>\n    <tr>\n      <th>3</th>\n      <td>65944d8cb6c1148df990a78a</td>\n      <td>12</td>\n      <td>as-rom</td>\n      <td>Associazione Sportiva Roma</td>\n      <td>IT1</td>\n      <td>26</td>\n      <td>27.4</td>\n      <td>17</td>\n      <td>65.4</td>\n      <td>17</td>\n      <td>Olimpico di Roma</td>\n      <td>73261</td>\n      <td>+€65.20m</td>\n      <td>2023</td>\n      <td>https://www.transfermarkt.co.uk/as-rom/startse...</td>\n    </tr>\n    <tr>\n      <th>4</th>\n      <td>65944d8cb6c1148df990a78b</td>\n      <td>148</td>\n      <td>tottenham-hotspur</td>\n      <td>Tottenham Hotspur Football Club</td>\n      <td>GB1</td>\n      <td>29</td>\n      <td>26.2</td>\n      <td>21</td>\n      <td>72.4</td>\n      <td>22</td>\n      <td>Tottenham Hotspur Stadium</td>\n      <td>62062</td>\n      <td>€-130.40m</td>\n      <td>2023</td>\n      <td>https://www.transfermarkt.co.uk/tottenham-hots...</td>\n    </tr>\n    <tr>\n      <th>...</th>\n      <td>...</td>\n      <td>...</td>\n      <td>...</td>\n      <td>...</td>\n      <td>...</td>\n      <td>...</td>\n      <td>...</td>\n      <td>...</td>\n      <td>...</td>\n      <td>...</td>\n      <td>...</td>\n      <td>...</td>\n      <td>...</td>\n      <td>...</td>\n      <td>...</td>\n    </tr>\n    <tr>\n      <th>421</th>\n      <td>65944d8cb6c1148df990a92c</td>\n      <td>68608</td>\n      <td>cf-os-belenenses</td>\n      <td>CF Os Belenenses</td>\n      <td>PO1</td>\n      <td>30</td>\n      <td>25.7</td>\n      <td>5</td>\n      <td>16.7</td>\n      <td>0</td>\n      <td>Estádio do Restelo</td>\n      <td>19980</td>\n      <td>+-0</td>\n      <td>2017</td>\n      <td>https://www.transfermarkt.co.uk/cf-os-belenens...</td>\n    </tr>\n    <tr>\n      <th>422</th>\n      <td>65944d8cb6c1148df990a92d</td>\n      <td>724</td>\n      <td>fc-volendam</td>\n      <td>Football Club Volendam</td>\n      <td>NL1</td>\n      <td>29</td>\n      <td>22.8</td>\n      <td>14</td>\n      <td>48.3</td>\n      <td>3</td>\n      <td>Kras Stadion</td>\n      <td>7384</td>\n      <td>+€1.80m</td>\n      <td>2023</td>\n      <td>https://www.transfermarkt.co.uk/fc-volendam/st...</td>\n    </tr>\n    <tr>\n      <th>423</th>\n      <td>65944d8cb6c1148df990a92e</td>\n      <td>800</td>\n      <td>atalanta-bergamo</td>\n      <td>Atalanta Bergamasca Calcio S.p.a.</td>\n      <td>IT1</td>\n      <td>25</td>\n      <td>27.2</td>\n      <td>17</td>\n      <td>68.0</td>\n      <td>15</td>\n      <td>Gewiss Stadium</td>\n      <td>21747</td>\n      <td>+€87.00m</td>\n      <td>2023</td>\n      <td>https://www.transfermarkt.co.uk/atalanta-berga...</td>\n    </tr>\n    <tr>\n      <th>424</th>\n      <td>65944d8cb6c1148df990a92f</td>\n      <td>979</td>\n      <td>moreirense-fc</td>\n      <td>Moreirense Futebol Clube</td>\n      <td>PO1</td>\n      <td>26</td>\n      <td>26.0</td>\n      <td>17</td>\n      <td>65.4</td>\n      <td>2</td>\n      <td>Estádio C. J. de Almeida Freitas</td>\n      <td>6153</td>\n      <td>€-2.05m</td>\n      <td>2023</td>\n      <td>https://www.transfermarkt.co.uk/moreirense-fc/...</td>\n    </tr>\n    <tr>\n      <th>425</th>\n      <td>65944d8cb6c1148df990a930</td>\n      <td>984</td>\n      <td>west-bromwich-albion</td>\n      <td>West Bromwich Albion</td>\n      <td>GB1</td>\n      <td>25</td>\n      <td>27.8</td>\n      <td>8</td>\n      <td>32.0</td>\n      <td>4</td>\n      <td>The Hawthorns</td>\n      <td>26850</td>\n      <td>€-1.35m</td>\n      <td>2020</td>\n      <td>https://www.transfermarkt.co.uk/west-bromwich-...</td>\n    </tr>\n  </tbody>\n</table>\n<p>426 rows × 15 columns</p>\n</div>"
     },
     "execution_count": 3,
     "metadata": {},
     "output_type": "execute_result"
    }
   ],
   "source": [
    "def getClubs(db):\n",
    "    try:\n",
    "        collection = db[\"clubs\"]\n",
    "        clubs = list(collection.find())\n",
    "        return clubs\n",
    "    except Exception as e:\n",
    "            print(f\"Retrieval of Clubs failed: {e}\")\n",
    "            return []\n",
    "    \n",
    "clubsInfo = getClubs(db)\n",
    "clubs_df = pd.DataFrame(clubsInfo)\n",
    "clubs_df"
   ],
   "metadata": {
    "collapsed": false,
    "ExecuteTime": {
     "end_time": "2024-01-30T11:39:28.144566700Z",
     "start_time": "2024-01-30T11:39:24.613787Z"
    }
   },
   "id": "c2c541288c1a2dfc"
  },
  {
   "cell_type": "code",
   "execution_count": 4,
   "outputs": [
    {
     "data": {
      "text/plain": "                              _id   appearance_id  game_id  player_id  \\\n0        65944dbeb6c1148df992a6b3   2231978_38004  2231978      38004   \n1        65944dbeb6c1148df992a6b4   2233748_79232  2233748      79232   \n2        65944dbeb6c1148df992a6b5   2234413_42792  2234413      42792   \n3        65944dbeb6c1148df992a6b6   2234418_73333  2234418      73333   \n4        65944dbeb6c1148df992a6b7  2234421_122011  2234421     122011   \n...                           ...             ...      ...        ...   \n1507346  65944e7cb6c1148df9a9a6cb  4172154_659813  4172154     659813   \n1507347  65944e7cb6c1148df9a9a6cc  4172154_696027  4172154     696027   \n1507348  65944e7cb6c1148df9a9a6cd    4172154_7161  4172154       7161   \n1507349  65944e7cb6c1148df9a9a6ce  4172154_743395  4172154     743395   \n1507350  65944e7cb6c1148df9a9a6cf  4172154_936981  4172154     936981   \n\n         player_club_id  player_current_club_id       date       player_name  \\\n0                   853                     235 2012-07-03  Aurélien Joachim   \n1                  8841                    2698 2012-07-05    Ruslan Abyshov   \n2                  6251                     465 2012-07-05       Sander Puri   \n3                  1274                    6646 2012-07-05   Vegar Hedenstad   \n4                   195                    3008 2012-07-05  Markus Henriksen   \n...                 ...                     ...        ...               ...   \n1507346              15                      15 2023-11-30    Piero Hincapié   \n1507347              15                      15 2023-11-30      Ayman Aourir   \n1507348              15                      15 2023-11-30     Jonas Hofmann   \n1507349              15                      15 2023-11-30       Noah Mbamba   \n1507350              15                      15 2023-11-30    Gustavo Puerta   \n\n        competition_id  yellow_cards  red_cards  goals  assists  \\\n0                  CLQ             0          0      2        0   \n1                  ELQ             0          0      0        0   \n2                  ELQ             0          0      0        0   \n3                  ELQ             0          0      0        0   \n4                  ELQ             0          0      0        1   \n...                ...           ...        ...    ...      ...   \n1507346             EL             0          0      0        0   \n1507347             EL             0          0      0        0   \n1507348             EL             0          0      0        0   \n1507349             EL             0          0      0        0   \n1507350             EL             0          0      0        0   \n\n         minutes_played  \n0                    90  \n1                    90  \n2                    45  \n3                    90  \n4                    90  \n...                 ...  \n1507346              90  \n1507347               2  \n1507348              10  \n1507349              45  \n1507350              88  \n\n[1507351 rows x 14 columns]",
      "text/html": "<div>\n<style scoped>\n    .dataframe tbody tr th:only-of-type {\n        vertical-align: middle;\n    }\n\n    .dataframe tbody tr th {\n        vertical-align: top;\n    }\n\n    .dataframe thead th {\n        text-align: right;\n    }\n</style>\n<table border=\"1\" class=\"dataframe\">\n  <thead>\n    <tr style=\"text-align: right;\">\n      <th></th>\n      <th>_id</th>\n      <th>appearance_id</th>\n      <th>game_id</th>\n      <th>player_id</th>\n      <th>player_club_id</th>\n      <th>player_current_club_id</th>\n      <th>date</th>\n      <th>player_name</th>\n      <th>competition_id</th>\n      <th>yellow_cards</th>\n      <th>red_cards</th>\n      <th>goals</th>\n      <th>assists</th>\n      <th>minutes_played</th>\n    </tr>\n  </thead>\n  <tbody>\n    <tr>\n      <th>0</th>\n      <td>65944dbeb6c1148df992a6b3</td>\n      <td>2231978_38004</td>\n      <td>2231978</td>\n      <td>38004</td>\n      <td>853</td>\n      <td>235</td>\n      <td>2012-07-03</td>\n      <td>Aurélien Joachim</td>\n      <td>CLQ</td>\n      <td>0</td>\n      <td>0</td>\n      <td>2</td>\n      <td>0</td>\n      <td>90</td>\n    </tr>\n    <tr>\n      <th>1</th>\n      <td>65944dbeb6c1148df992a6b4</td>\n      <td>2233748_79232</td>\n      <td>2233748</td>\n      <td>79232</td>\n      <td>8841</td>\n      <td>2698</td>\n      <td>2012-07-05</td>\n      <td>Ruslan Abyshov</td>\n      <td>ELQ</td>\n      <td>0</td>\n      <td>0</td>\n      <td>0</td>\n      <td>0</td>\n      <td>90</td>\n    </tr>\n    <tr>\n      <th>2</th>\n      <td>65944dbeb6c1148df992a6b5</td>\n      <td>2234413_42792</td>\n      <td>2234413</td>\n      <td>42792</td>\n      <td>6251</td>\n      <td>465</td>\n      <td>2012-07-05</td>\n      <td>Sander Puri</td>\n      <td>ELQ</td>\n      <td>0</td>\n      <td>0</td>\n      <td>0</td>\n      <td>0</td>\n      <td>45</td>\n    </tr>\n    <tr>\n      <th>3</th>\n      <td>65944dbeb6c1148df992a6b6</td>\n      <td>2234418_73333</td>\n      <td>2234418</td>\n      <td>73333</td>\n      <td>1274</td>\n      <td>6646</td>\n      <td>2012-07-05</td>\n      <td>Vegar Hedenstad</td>\n      <td>ELQ</td>\n      <td>0</td>\n      <td>0</td>\n      <td>0</td>\n      <td>0</td>\n      <td>90</td>\n    </tr>\n    <tr>\n      <th>4</th>\n      <td>65944dbeb6c1148df992a6b7</td>\n      <td>2234421_122011</td>\n      <td>2234421</td>\n      <td>122011</td>\n      <td>195</td>\n      <td>3008</td>\n      <td>2012-07-05</td>\n      <td>Markus Henriksen</td>\n      <td>ELQ</td>\n      <td>0</td>\n      <td>0</td>\n      <td>0</td>\n      <td>1</td>\n      <td>90</td>\n    </tr>\n    <tr>\n      <th>...</th>\n      <td>...</td>\n      <td>...</td>\n      <td>...</td>\n      <td>...</td>\n      <td>...</td>\n      <td>...</td>\n      <td>...</td>\n      <td>...</td>\n      <td>...</td>\n      <td>...</td>\n      <td>...</td>\n      <td>...</td>\n      <td>...</td>\n      <td>...</td>\n    </tr>\n    <tr>\n      <th>1507346</th>\n      <td>65944e7cb6c1148df9a9a6cb</td>\n      <td>4172154_659813</td>\n      <td>4172154</td>\n      <td>659813</td>\n      <td>15</td>\n      <td>15</td>\n      <td>2023-11-30</td>\n      <td>Piero Hincapié</td>\n      <td>EL</td>\n      <td>0</td>\n      <td>0</td>\n      <td>0</td>\n      <td>0</td>\n      <td>90</td>\n    </tr>\n    <tr>\n      <th>1507347</th>\n      <td>65944e7cb6c1148df9a9a6cc</td>\n      <td>4172154_696027</td>\n      <td>4172154</td>\n      <td>696027</td>\n      <td>15</td>\n      <td>15</td>\n      <td>2023-11-30</td>\n      <td>Ayman Aourir</td>\n      <td>EL</td>\n      <td>0</td>\n      <td>0</td>\n      <td>0</td>\n      <td>0</td>\n      <td>2</td>\n    </tr>\n    <tr>\n      <th>1507348</th>\n      <td>65944e7cb6c1148df9a9a6cd</td>\n      <td>4172154_7161</td>\n      <td>4172154</td>\n      <td>7161</td>\n      <td>15</td>\n      <td>15</td>\n      <td>2023-11-30</td>\n      <td>Jonas Hofmann</td>\n      <td>EL</td>\n      <td>0</td>\n      <td>0</td>\n      <td>0</td>\n      <td>0</td>\n      <td>10</td>\n    </tr>\n    <tr>\n      <th>1507349</th>\n      <td>65944e7cb6c1148df9a9a6ce</td>\n      <td>4172154_743395</td>\n      <td>4172154</td>\n      <td>743395</td>\n      <td>15</td>\n      <td>15</td>\n      <td>2023-11-30</td>\n      <td>Noah Mbamba</td>\n      <td>EL</td>\n      <td>0</td>\n      <td>0</td>\n      <td>0</td>\n      <td>0</td>\n      <td>45</td>\n    </tr>\n    <tr>\n      <th>1507350</th>\n      <td>65944e7cb6c1148df9a9a6cf</td>\n      <td>4172154_936981</td>\n      <td>4172154</td>\n      <td>936981</td>\n      <td>15</td>\n      <td>15</td>\n      <td>2023-11-30</td>\n      <td>Gustavo Puerta</td>\n      <td>EL</td>\n      <td>0</td>\n      <td>0</td>\n      <td>0</td>\n      <td>0</td>\n      <td>88</td>\n    </tr>\n  </tbody>\n</table>\n<p>1507351 rows × 14 columns</p>\n</div>"
     },
     "execution_count": 4,
     "metadata": {},
     "output_type": "execute_result"
    }
   ],
   "source": [
    "#appearances\n",
    "def getAppearances(db):\n",
    "    try:\n",
    "        collection = db[\"appearances\"]\n",
    "        appearances = list(collection.find())\n",
    "        return appearances\n",
    "    except Exception as e:\n",
    "            print(f\"Retrieval of Apparances failed: {e}\")\n",
    "            return []\n",
    "\n",
    "AppearancesInfo = getAppearances(db)   \n",
    "Appearances_df = pd.DataFrame(AppearancesInfo)\n",
    "Appearances_df"
   ],
   "metadata": {
    "collapsed": false,
    "ExecuteTime": {
     "end_time": "2024-01-30T11:39:41.513907600Z",
     "start_time": "2024-01-30T11:39:24.636148300Z"
    }
   },
   "id": "3558882307bb7ee8"
  },
  {
   "cell_type": "code",
   "execution_count": 5,
   "outputs": [
    {
     "data": {
      "text/plain": "                             _id  game_id  club_id  own_goals  \\\n0       65944d9ab6c1148df990a932  2221751      431          1   \n1       65944d9ab6c1148df990a933  2221755       83          3   \n2       65944d9ab6c1148df990a934  2222597     3725          2   \n3       65944d9ab6c1148df990a935  2222627     2696          0   \n4       65944d9ab6c1148df990a936  2222658     2410          0   \n...                          ...      ...      ...        ...   \n130427  65944da6b6c1148df992a6ae  4126931    20923          2   \n130428  65944da6b6c1148df992a6af  4148237      920          0   \n130429  65944da6b6c1148df992a6b0  4171268      681          2   \n130430  65944da6b6c1148df992a6b1  4148252      144          3   \n130431  65944da6b6c1148df992a6b2  4171248      418          3   \n\n            own_manager_name  opponent_id  opponent_goals  \\\n0              Lutz Göttling           60               2   \n1           Ralph Hasenhüttl         4795               0   \n2       Stanislav Cherchesov          232               1   \n3             Andrey Kobelev         4128               2   \n4             Leonid Slutski          121               2   \n...                      ...          ...             ...   \n130427       Sergey Perednya        12065               1   \n130428      Ruaidhri Higgins        10481               1   \n130429       Imanol Alguacil          409               0   \n130430      Sergej Jakirovic        10532               1   \n130431       Carlo Ancelotti         6195               2   \n\n       opponent_manager_name hosting  is_win  own_position  opponent_position  \n0          Christian Streich    Home       0           NaN                NaN  \n1                 Tomas Oral    Home       1           NaN                NaN  \n2                 Unai Emery    Home       1           2.0                5.0  \n3              Rustem Khuzin    Home       0          11.0               10.0  \n4               Dan Petrescu    Home       0           2.0               13.0  \n...                      ...     ...     ...           ...                ...  \n130427   Aleksandr Gorbachev    Away       1           NaN                NaN  \n130428          Milic Curcic    Away       0           NaN                NaN  \n130429       Gerhard Struber    Away       1           NaN                NaN  \n130430          Dan Brimsvík    Away       1           NaN                NaN  \n130431           Rudi Garcia    Away       1           NaN                NaN  \n\n[130432 rows x 12 columns]",
      "text/html": "<div>\n<style scoped>\n    .dataframe tbody tr th:only-of-type {\n        vertical-align: middle;\n    }\n\n    .dataframe tbody tr th {\n        vertical-align: top;\n    }\n\n    .dataframe thead th {\n        text-align: right;\n    }\n</style>\n<table border=\"1\" class=\"dataframe\">\n  <thead>\n    <tr style=\"text-align: right;\">\n      <th></th>\n      <th>_id</th>\n      <th>game_id</th>\n      <th>club_id</th>\n      <th>own_goals</th>\n      <th>own_manager_name</th>\n      <th>opponent_id</th>\n      <th>opponent_goals</th>\n      <th>opponent_manager_name</th>\n      <th>hosting</th>\n      <th>is_win</th>\n      <th>own_position</th>\n      <th>opponent_position</th>\n    </tr>\n  </thead>\n  <tbody>\n    <tr>\n      <th>0</th>\n      <td>65944d9ab6c1148df990a932</td>\n      <td>2221751</td>\n      <td>431</td>\n      <td>1</td>\n      <td>Lutz Göttling</td>\n      <td>60</td>\n      <td>2</td>\n      <td>Christian Streich</td>\n      <td>Home</td>\n      <td>0</td>\n      <td>NaN</td>\n      <td>NaN</td>\n    </tr>\n    <tr>\n      <th>1</th>\n      <td>65944d9ab6c1148df990a933</td>\n      <td>2221755</td>\n      <td>83</td>\n      <td>3</td>\n      <td>Ralph Hasenhüttl</td>\n      <td>4795</td>\n      <td>0</td>\n      <td>Tomas Oral</td>\n      <td>Home</td>\n      <td>1</td>\n      <td>NaN</td>\n      <td>NaN</td>\n    </tr>\n    <tr>\n      <th>2</th>\n      <td>65944d9ab6c1148df990a934</td>\n      <td>2222597</td>\n      <td>3725</td>\n      <td>2</td>\n      <td>Stanislav Cherchesov</td>\n      <td>232</td>\n      <td>1</td>\n      <td>Unai Emery</td>\n      <td>Home</td>\n      <td>1</td>\n      <td>2.0</td>\n      <td>5.0</td>\n    </tr>\n    <tr>\n      <th>3</th>\n      <td>65944d9ab6c1148df990a935</td>\n      <td>2222627</td>\n      <td>2696</td>\n      <td>0</td>\n      <td>Andrey Kobelev</td>\n      <td>4128</td>\n      <td>2</td>\n      <td>Rustem Khuzin</td>\n      <td>Home</td>\n      <td>0</td>\n      <td>11.0</td>\n      <td>10.0</td>\n    </tr>\n    <tr>\n      <th>4</th>\n      <td>65944d9ab6c1148df990a936</td>\n      <td>2222658</td>\n      <td>2410</td>\n      <td>0</td>\n      <td>Leonid Slutski</td>\n      <td>121</td>\n      <td>2</td>\n      <td>Dan Petrescu</td>\n      <td>Home</td>\n      <td>0</td>\n      <td>2.0</td>\n      <td>13.0</td>\n    </tr>\n    <tr>\n      <th>...</th>\n      <td>...</td>\n      <td>...</td>\n      <td>...</td>\n      <td>...</td>\n      <td>...</td>\n      <td>...</td>\n      <td>...</td>\n      <td>...</td>\n      <td>...</td>\n      <td>...</td>\n      <td>...</td>\n      <td>...</td>\n    </tr>\n    <tr>\n      <th>130427</th>\n      <td>65944da6b6c1148df992a6ae</td>\n      <td>4126931</td>\n      <td>20923</td>\n      <td>2</td>\n      <td>Sergey Perednya</td>\n      <td>12065</td>\n      <td>1</td>\n      <td>Aleksandr Gorbachev</td>\n      <td>Away</td>\n      <td>1</td>\n      <td>NaN</td>\n      <td>NaN</td>\n    </tr>\n    <tr>\n      <th>130428</th>\n      <td>65944da6b6c1148df992a6af</td>\n      <td>4148237</td>\n      <td>920</td>\n      <td>0</td>\n      <td>Ruaidhri Higgins</td>\n      <td>10481</td>\n      <td>1</td>\n      <td>Milic Curcic</td>\n      <td>Away</td>\n      <td>0</td>\n      <td>NaN</td>\n      <td>NaN</td>\n    </tr>\n    <tr>\n      <th>130429</th>\n      <td>65944da6b6c1148df992a6b0</td>\n      <td>4171268</td>\n      <td>681</td>\n      <td>2</td>\n      <td>Imanol Alguacil</td>\n      <td>409</td>\n      <td>0</td>\n      <td>Gerhard Struber</td>\n      <td>Away</td>\n      <td>1</td>\n      <td>NaN</td>\n      <td>NaN</td>\n    </tr>\n    <tr>\n      <th>130430</th>\n      <td>65944da6b6c1148df992a6b1</td>\n      <td>4148252</td>\n      <td>144</td>\n      <td>3</td>\n      <td>Sergej Jakirovic</td>\n      <td>10532</td>\n      <td>1</td>\n      <td>Dan Brimsvík</td>\n      <td>Away</td>\n      <td>1</td>\n      <td>NaN</td>\n      <td>NaN</td>\n    </tr>\n    <tr>\n      <th>130431</th>\n      <td>65944da6b6c1148df992a6b2</td>\n      <td>4171248</td>\n      <td>418</td>\n      <td>3</td>\n      <td>Carlo Ancelotti</td>\n      <td>6195</td>\n      <td>2</td>\n      <td>Rudi Garcia</td>\n      <td>Away</td>\n      <td>1</td>\n      <td>NaN</td>\n      <td>NaN</td>\n    </tr>\n  </tbody>\n</table>\n<p>130432 rows × 12 columns</p>\n</div>"
     },
     "execution_count": 5,
     "metadata": {},
     "output_type": "execute_result"
    }
   ],
   "source": [
    "#club_games\n",
    "def getClubGames(db):\n",
    "    try: \n",
    "        collection = db[\"club_games\"]\n",
    "        club_games = list(collection.find())\n",
    "        return club_games\n",
    "    except Exception as e:\n",
    "            print(f\"Retrieval of ClubGames failed: {e}\")\n",
    "            return []\n",
    "    \n",
    "ClubGamesInfo = getClubGames(db)\n",
    "club_games_df = pd.DataFrame(ClubGamesInfo)\n",
    "club_games_df"
   ],
   "metadata": {
    "collapsed": false,
    "ExecuteTime": {
     "end_time": "2024-01-30T11:39:44.817401200Z",
     "start_time": "2024-01-30T11:39:41.505227700Z"
    }
   },
   "id": "3714b696316ba16b"
  },
  {
   "cell_type": "code",
   "execution_count": 6,
   "outputs": [
    {
     "data": {
      "text/plain": "                            _id  player_id first_name    last_name  \\\n0      65944f3fb6c1148df9bd5c36        598       Timo   Hildebrand   \n1      65944f3fb6c1148df9bd5c37        670     Martin       Petrov   \n2      65944f3fb6c1148df9bd5c38       1323     Martin      Amedick   \n3      65944f3fb6c1148df9bd5c39       3195   Jermaine      Pennant   \n4      65944f3fb6c1148df9bd5c3a       3259     Damien         Duff   \n...                         ...        ...        ...          ...   \n30297  65944f42b6c1148df9bdd28f     371851       Jaka        Bijol   \n30298  65944f42b6c1148df9bdd290     537171     Semuel  Pizzignacco   \n30299  65944f42b6c1148df9bdd291     586756      Festy      Ebosele   \n30300  65944f42b6c1148df9bdd292     704692     Nicolò      Cocetta   \n30301  65944f42b6c1148df9bdd293     925584       Axel     Guessand   \n\n                     name  last_season  current_club_id         player_code  \\\n0         Timo Hildebrand         2014               24     timo-hildebrand   \n1           Martin Petrov         2012              714       martin-petrov   \n2          Martin Amedick         2012               24      martin-amedick   \n3        Jermaine Pennant         2013              512    jermaine-pennant   \n4             Damien Duff         2013              931         damien-duff   \n...                   ...          ...              ...                 ...   \n30297          Jaka Bijol         2023              410          jaka-bijol   \n30298  Semuel Pizzignacco         2018              410  semuel-pizzignacco   \n30299       Festy Ebosele         2023              410       festy-ebosele   \n30300      Nicolò Cocetta         2022              410      nicolo-cocetta   \n30301       Axel Guessand         2023              410       axel-guessand   \n\n      country_of_birth           city_of_birth  ...  \\\n0              Germany                   Worms  ...   \n1             Bulgaria                  Vratsa  ...   \n2              Germany               Paderborn  ...   \n3              England              Nottingham  ...   \n4              Ireland              Ballyboden  ...   \n...                ...                     ...  ...   \n30297         Slovenia                Vuzenica  ...   \n30298            Italy              Monfalcone  ...   \n30299          Ireland    Enniscorthy, Wexford  ...   \n30300            Italy  San Daniele del Friuli  ...   \n30301           France            Schiltigheim  ...   \n\n      highest_market_value_in_eur  \\\n0                      10000000.0   \n1                      12000000.0   \n2                       2750000.0   \n3                      10500000.0   \n4                      17000000.0   \n...                           ...   \n30297                  10000000.0   \n30298                    350000.0   \n30299                   4500000.0   \n30300                     75000.0   \n30301                    300000.0   \n\n                                               image_url  \\\n0      https://img.a.transfermarkt.technology/portrai...   \n1      https://img.a.transfermarkt.technology/portrai...   \n2      https://img.a.transfermarkt.technology/portrai...   \n3      https://img.a.transfermarkt.technology/portrai...   \n4      https://img.a.transfermarkt.technology/portrai...   \n...                                                  ...   \n30297  https://img.a.transfermarkt.technology/portrai...   \n30298  https://img.a.transfermarkt.technology/portrai...   \n30299  https://img.a.transfermarkt.technology/portrai...   \n30300  https://img.a.transfermarkt.technology/portrai...   \n30301  https://img.a.transfermarkt.technology/portrai...   \n\n                                                     url  \\\n0      https://www.transfermarkt.co.uk/timo-hildebran...   \n1      https://www.transfermarkt.co.uk/martin-petrov/...   \n2      https://www.transfermarkt.co.uk/martin-amedick...   \n3      https://www.transfermarkt.co.uk/jermaine-penna...   \n4      https://www.transfermarkt.co.uk/damien-duff/pr...   \n...                                                  ...   \n30297  https://www.transfermarkt.co.uk/jaka-bijol/pro...   \n30298  https://www.transfermarkt.co.uk/semuel-pizzign...   \n30299  https://www.transfermarkt.co.uk/festy-ebosele/...   \n30300  https://www.transfermarkt.co.uk/nicolo-cocetta...   \n30301  https://www.transfermarkt.co.uk/axel-guessand/...   \n\n      current_club_domestic_competition_id       current_club_name  \\\n0                                       L1     Eintracht Frankfurt   \n1                                      ES1  RCD Espanyol Barcelona   \n2                                       L1     Eintracht Frankfurt   \n3                                      GB1              Stoke City   \n4                                      GB1               Fulham FC   \n...                                    ...                     ...   \n30297                                  IT1          Udinese Calcio   \n30298                                  IT1          Udinese Calcio   \n30299                                  IT1          Udinese Calcio   \n30300                                  IT1          Udinese Calcio   \n30301                                  IT1          Udinese Calcio   \n\n              agent_name   foot height_in_cm market_value_in_eur  \\\n0                    NaN    NaN          NaN                 NaN   \n1                    IFM    NaN          NaN                 NaN   \n2                    NaN    NaN          NaN                 NaN   \n3             Andrew Sky  right        173.0                 NaN   \n4                    NaN   left        177.0                 NaN   \n...                  ...    ...          ...                 ...   \n30297          MSC GROUP  right        190.0          10000000.0   \n30298                NaN  right        188.0            325000.0   \n30299  The Kulture Group  right        180.0           4500000.0   \n30300                NaN    NaN          NaN             75000.0   \n30301        CAA Stellar   left        184.0            250000.0   \n\n      contract_expiration_date  \n0                          NaN  \n1                          NaN  \n2                          NaN  \n3                          NaN  \n4                          NaN  \n...                        ...  \n30297      2027-06-30 00:00:00  \n30298      2025-06-30 00:00:00  \n30299      2027-06-30 00:00:00  \n30300      2023-06-30 00:00:00  \n30301      2027-06-30 00:00:00  \n\n[30302 rows x 24 columns]",
      "text/html": "<div>\n<style scoped>\n    .dataframe tbody tr th:only-of-type {\n        vertical-align: middle;\n    }\n\n    .dataframe tbody tr th {\n        vertical-align: top;\n    }\n\n    .dataframe thead th {\n        text-align: right;\n    }\n</style>\n<table border=\"1\" class=\"dataframe\">\n  <thead>\n    <tr style=\"text-align: right;\">\n      <th></th>\n      <th>_id</th>\n      <th>player_id</th>\n      <th>first_name</th>\n      <th>last_name</th>\n      <th>name</th>\n      <th>last_season</th>\n      <th>current_club_id</th>\n      <th>player_code</th>\n      <th>country_of_birth</th>\n      <th>city_of_birth</th>\n      <th>...</th>\n      <th>highest_market_value_in_eur</th>\n      <th>image_url</th>\n      <th>url</th>\n      <th>current_club_domestic_competition_id</th>\n      <th>current_club_name</th>\n      <th>agent_name</th>\n      <th>foot</th>\n      <th>height_in_cm</th>\n      <th>market_value_in_eur</th>\n      <th>contract_expiration_date</th>\n    </tr>\n  </thead>\n  <tbody>\n    <tr>\n      <th>0</th>\n      <td>65944f3fb6c1148df9bd5c36</td>\n      <td>598</td>\n      <td>Timo</td>\n      <td>Hildebrand</td>\n      <td>Timo Hildebrand</td>\n      <td>2014</td>\n      <td>24</td>\n      <td>timo-hildebrand</td>\n      <td>Germany</td>\n      <td>Worms</td>\n      <td>...</td>\n      <td>10000000.0</td>\n      <td>https://img.a.transfermarkt.technology/portrai...</td>\n      <td>https://www.transfermarkt.co.uk/timo-hildebran...</td>\n      <td>L1</td>\n      <td>Eintracht Frankfurt</td>\n      <td>NaN</td>\n      <td>NaN</td>\n      <td>NaN</td>\n      <td>NaN</td>\n      <td>NaN</td>\n    </tr>\n    <tr>\n      <th>1</th>\n      <td>65944f3fb6c1148df9bd5c37</td>\n      <td>670</td>\n      <td>Martin</td>\n      <td>Petrov</td>\n      <td>Martin Petrov</td>\n      <td>2012</td>\n      <td>714</td>\n      <td>martin-petrov</td>\n      <td>Bulgaria</td>\n      <td>Vratsa</td>\n      <td>...</td>\n      <td>12000000.0</td>\n      <td>https://img.a.transfermarkt.technology/portrai...</td>\n      <td>https://www.transfermarkt.co.uk/martin-petrov/...</td>\n      <td>ES1</td>\n      <td>RCD Espanyol Barcelona</td>\n      <td>IFM</td>\n      <td>NaN</td>\n      <td>NaN</td>\n      <td>NaN</td>\n      <td>NaN</td>\n    </tr>\n    <tr>\n      <th>2</th>\n      <td>65944f3fb6c1148df9bd5c38</td>\n      <td>1323</td>\n      <td>Martin</td>\n      <td>Amedick</td>\n      <td>Martin Amedick</td>\n      <td>2012</td>\n      <td>24</td>\n      <td>martin-amedick</td>\n      <td>Germany</td>\n      <td>Paderborn</td>\n      <td>...</td>\n      <td>2750000.0</td>\n      <td>https://img.a.transfermarkt.technology/portrai...</td>\n      <td>https://www.transfermarkt.co.uk/martin-amedick...</td>\n      <td>L1</td>\n      <td>Eintracht Frankfurt</td>\n      <td>NaN</td>\n      <td>NaN</td>\n      <td>NaN</td>\n      <td>NaN</td>\n      <td>NaN</td>\n    </tr>\n    <tr>\n      <th>3</th>\n      <td>65944f3fb6c1148df9bd5c39</td>\n      <td>3195</td>\n      <td>Jermaine</td>\n      <td>Pennant</td>\n      <td>Jermaine Pennant</td>\n      <td>2013</td>\n      <td>512</td>\n      <td>jermaine-pennant</td>\n      <td>England</td>\n      <td>Nottingham</td>\n      <td>...</td>\n      <td>10500000.0</td>\n      <td>https://img.a.transfermarkt.technology/portrai...</td>\n      <td>https://www.transfermarkt.co.uk/jermaine-penna...</td>\n      <td>GB1</td>\n      <td>Stoke City</td>\n      <td>Andrew Sky</td>\n      <td>right</td>\n      <td>173.0</td>\n      <td>NaN</td>\n      <td>NaN</td>\n    </tr>\n    <tr>\n      <th>4</th>\n      <td>65944f3fb6c1148df9bd5c3a</td>\n      <td>3259</td>\n      <td>Damien</td>\n      <td>Duff</td>\n      <td>Damien Duff</td>\n      <td>2013</td>\n      <td>931</td>\n      <td>damien-duff</td>\n      <td>Ireland</td>\n      <td>Ballyboden</td>\n      <td>...</td>\n      <td>17000000.0</td>\n      <td>https://img.a.transfermarkt.technology/portrai...</td>\n      <td>https://www.transfermarkt.co.uk/damien-duff/pr...</td>\n      <td>GB1</td>\n      <td>Fulham FC</td>\n      <td>NaN</td>\n      <td>left</td>\n      <td>177.0</td>\n      <td>NaN</td>\n      <td>NaN</td>\n    </tr>\n    <tr>\n      <th>...</th>\n      <td>...</td>\n      <td>...</td>\n      <td>...</td>\n      <td>...</td>\n      <td>...</td>\n      <td>...</td>\n      <td>...</td>\n      <td>...</td>\n      <td>...</td>\n      <td>...</td>\n      <td>...</td>\n      <td>...</td>\n      <td>...</td>\n      <td>...</td>\n      <td>...</td>\n      <td>...</td>\n      <td>...</td>\n      <td>...</td>\n      <td>...</td>\n      <td>...</td>\n      <td>...</td>\n    </tr>\n    <tr>\n      <th>30297</th>\n      <td>65944f42b6c1148df9bdd28f</td>\n      <td>371851</td>\n      <td>Jaka</td>\n      <td>Bijol</td>\n      <td>Jaka Bijol</td>\n      <td>2023</td>\n      <td>410</td>\n      <td>jaka-bijol</td>\n      <td>Slovenia</td>\n      <td>Vuzenica</td>\n      <td>...</td>\n      <td>10000000.0</td>\n      <td>https://img.a.transfermarkt.technology/portrai...</td>\n      <td>https://www.transfermarkt.co.uk/jaka-bijol/pro...</td>\n      <td>IT1</td>\n      <td>Udinese Calcio</td>\n      <td>MSC GROUP</td>\n      <td>right</td>\n      <td>190.0</td>\n      <td>10000000.0</td>\n      <td>2027-06-30 00:00:00</td>\n    </tr>\n    <tr>\n      <th>30298</th>\n      <td>65944f42b6c1148df9bdd290</td>\n      <td>537171</td>\n      <td>Semuel</td>\n      <td>Pizzignacco</td>\n      <td>Semuel Pizzignacco</td>\n      <td>2018</td>\n      <td>410</td>\n      <td>semuel-pizzignacco</td>\n      <td>Italy</td>\n      <td>Monfalcone</td>\n      <td>...</td>\n      <td>350000.0</td>\n      <td>https://img.a.transfermarkt.technology/portrai...</td>\n      <td>https://www.transfermarkt.co.uk/semuel-pizzign...</td>\n      <td>IT1</td>\n      <td>Udinese Calcio</td>\n      <td>NaN</td>\n      <td>right</td>\n      <td>188.0</td>\n      <td>325000.0</td>\n      <td>2025-06-30 00:00:00</td>\n    </tr>\n    <tr>\n      <th>30299</th>\n      <td>65944f42b6c1148df9bdd291</td>\n      <td>586756</td>\n      <td>Festy</td>\n      <td>Ebosele</td>\n      <td>Festy Ebosele</td>\n      <td>2023</td>\n      <td>410</td>\n      <td>festy-ebosele</td>\n      <td>Ireland</td>\n      <td>Enniscorthy, Wexford</td>\n      <td>...</td>\n      <td>4500000.0</td>\n      <td>https://img.a.transfermarkt.technology/portrai...</td>\n      <td>https://www.transfermarkt.co.uk/festy-ebosele/...</td>\n      <td>IT1</td>\n      <td>Udinese Calcio</td>\n      <td>The Kulture Group</td>\n      <td>right</td>\n      <td>180.0</td>\n      <td>4500000.0</td>\n      <td>2027-06-30 00:00:00</td>\n    </tr>\n    <tr>\n      <th>30300</th>\n      <td>65944f42b6c1148df9bdd292</td>\n      <td>704692</td>\n      <td>Nicolò</td>\n      <td>Cocetta</td>\n      <td>Nicolò Cocetta</td>\n      <td>2022</td>\n      <td>410</td>\n      <td>nicolo-cocetta</td>\n      <td>Italy</td>\n      <td>San Daniele del Friuli</td>\n      <td>...</td>\n      <td>75000.0</td>\n      <td>https://img.a.transfermarkt.technology/portrai...</td>\n      <td>https://www.transfermarkt.co.uk/nicolo-cocetta...</td>\n      <td>IT1</td>\n      <td>Udinese Calcio</td>\n      <td>NaN</td>\n      <td>NaN</td>\n      <td>NaN</td>\n      <td>75000.0</td>\n      <td>2023-06-30 00:00:00</td>\n    </tr>\n    <tr>\n      <th>30301</th>\n      <td>65944f42b6c1148df9bdd293</td>\n      <td>925584</td>\n      <td>Axel</td>\n      <td>Guessand</td>\n      <td>Axel Guessand</td>\n      <td>2023</td>\n      <td>410</td>\n      <td>axel-guessand</td>\n      <td>France</td>\n      <td>Schiltigheim</td>\n      <td>...</td>\n      <td>300000.0</td>\n      <td>https://img.a.transfermarkt.technology/portrai...</td>\n      <td>https://www.transfermarkt.co.uk/axel-guessand/...</td>\n      <td>IT1</td>\n      <td>Udinese Calcio</td>\n      <td>CAA Stellar</td>\n      <td>left</td>\n      <td>184.0</td>\n      <td>250000.0</td>\n      <td>2027-06-30 00:00:00</td>\n    </tr>\n  </tbody>\n</table>\n<p>30302 rows × 24 columns</p>\n</div>"
     },
     "execution_count": 6,
     "metadata": {},
     "output_type": "execute_result"
    }
   ],
   "source": [
    "#players\n",
    "def getPlayers(db):\n",
    "    try: \n",
    "        collection = db[\"players\"]\n",
    "        players = list(collection.find())\n",
    "        return players\n",
    "    except Exception as e:\n",
    "            print(f\"Retrieval of Players failed: {e}\")\n",
    "            return []\n",
    "    \n",
    "PlayersInfo = getPlayers(db)\n",
    "players_df = pd.DataFrame(PlayersInfo)\n",
    "players_df"
   ],
   "metadata": {
    "collapsed": false,
    "ExecuteTime": {
     "end_time": "2024-01-30T11:39:45.276250200Z",
     "start_time": "2024-01-30T11:39:44.801764100Z"
    }
   },
   "id": "675d6f8cdc663fd"
  },
  {
   "cell_type": "code",
   "execution_count": 7,
   "outputs": [
    {
     "data": {
      "text/plain": "                             _id  player_id  last_season             datetime  \\\n0       65944f19b6c1148df9b6a2de       3132         2013  2003-12-09 00:00:00   \n1       65944f19b6c1148df9b6a2df       6893         2012  2003-12-15 00:00:00   \n2       65944f19b6c1148df9b6a2e0         10         2015  2004-10-04 00:00:00   \n3       65944f19b6c1148df9b6a2e1         26         2017  2004-10-04 00:00:00   \n4       65944f19b6c1148df9b6a2e2         65         2015  2004-10-04 00:00:00   \n...                          ...        ...          ...                  ...   \n440658  65944f39b6c1148df9bd5c31     950091         2023  2023-09-21 00:00:00   \n440659  65944f39b6c1148df9bd5c32     968903         2023  2023-09-21 00:00:00   \n440660  65944f39b6c1148df9bd5c33    1031590         2023  2023-09-21 00:00:00   \n440661  65944f39b6c1148df9bd5c34    1166093         2023  2023-09-21 00:00:00   \n440662  65944f39b6c1148df9bd5c35     405676         2018  2023-12-19 00:00:00   \n\n             date   dateweek  market_value_in_eur  n  current_club_id  \\\n0      2003-12-09 2003-12-08               400000  1              126   \n1      2003-12-15 2003-12-15               900000  1              984   \n2      2004-10-04 2004-10-04              7000000  1              398   \n3      2004-10-04 2004-10-04              1500000  1               16   \n4      2004-10-04 2004-10-04              8000000  1             1091   \n...           ...        ...                  ... ..              ...   \n440658 2023-09-21 2023-09-18              1000000  1             1091   \n440659 2023-09-21 2023-09-18                50000  1              653   \n440660 2023-09-21 2023-09-18                50000  1             6418   \n440661 2023-09-21 2023-09-18                50000  1            30120   \n440662 2023-12-19 2023-12-18                50000  1            23826   \n\n       player_club_domestic_competition_id  \n0                                      TR1  \n1                                      GB1  \n2                                      IT1  \n3                                       L1  \n4                                      GR1  \n...                                    ...  \n440658                                 GR1  \n440659                                 GR1  \n440660                                 GR1  \n440661                                 GR1  \n440662                                  L1  \n\n[440663 rows x 10 columns]",
      "text/html": "<div>\n<style scoped>\n    .dataframe tbody tr th:only-of-type {\n        vertical-align: middle;\n    }\n\n    .dataframe tbody tr th {\n        vertical-align: top;\n    }\n\n    .dataframe thead th {\n        text-align: right;\n    }\n</style>\n<table border=\"1\" class=\"dataframe\">\n  <thead>\n    <tr style=\"text-align: right;\">\n      <th></th>\n      <th>_id</th>\n      <th>player_id</th>\n      <th>last_season</th>\n      <th>datetime</th>\n      <th>date</th>\n      <th>dateweek</th>\n      <th>market_value_in_eur</th>\n      <th>n</th>\n      <th>current_club_id</th>\n      <th>player_club_domestic_competition_id</th>\n    </tr>\n  </thead>\n  <tbody>\n    <tr>\n      <th>0</th>\n      <td>65944f19b6c1148df9b6a2de</td>\n      <td>3132</td>\n      <td>2013</td>\n      <td>2003-12-09 00:00:00</td>\n      <td>2003-12-09</td>\n      <td>2003-12-08</td>\n      <td>400000</td>\n      <td>1</td>\n      <td>126</td>\n      <td>TR1</td>\n    </tr>\n    <tr>\n      <th>1</th>\n      <td>65944f19b6c1148df9b6a2df</td>\n      <td>6893</td>\n      <td>2012</td>\n      <td>2003-12-15 00:00:00</td>\n      <td>2003-12-15</td>\n      <td>2003-12-15</td>\n      <td>900000</td>\n      <td>1</td>\n      <td>984</td>\n      <td>GB1</td>\n    </tr>\n    <tr>\n      <th>2</th>\n      <td>65944f19b6c1148df9b6a2e0</td>\n      <td>10</td>\n      <td>2015</td>\n      <td>2004-10-04 00:00:00</td>\n      <td>2004-10-04</td>\n      <td>2004-10-04</td>\n      <td>7000000</td>\n      <td>1</td>\n      <td>398</td>\n      <td>IT1</td>\n    </tr>\n    <tr>\n      <th>3</th>\n      <td>65944f19b6c1148df9b6a2e1</td>\n      <td>26</td>\n      <td>2017</td>\n      <td>2004-10-04 00:00:00</td>\n      <td>2004-10-04</td>\n      <td>2004-10-04</td>\n      <td>1500000</td>\n      <td>1</td>\n      <td>16</td>\n      <td>L1</td>\n    </tr>\n    <tr>\n      <th>4</th>\n      <td>65944f19b6c1148df9b6a2e2</td>\n      <td>65</td>\n      <td>2015</td>\n      <td>2004-10-04 00:00:00</td>\n      <td>2004-10-04</td>\n      <td>2004-10-04</td>\n      <td>8000000</td>\n      <td>1</td>\n      <td>1091</td>\n      <td>GR1</td>\n    </tr>\n    <tr>\n      <th>...</th>\n      <td>...</td>\n      <td>...</td>\n      <td>...</td>\n      <td>...</td>\n      <td>...</td>\n      <td>...</td>\n      <td>...</td>\n      <td>...</td>\n      <td>...</td>\n      <td>...</td>\n    </tr>\n    <tr>\n      <th>440658</th>\n      <td>65944f39b6c1148df9bd5c31</td>\n      <td>950091</td>\n      <td>2023</td>\n      <td>2023-09-21 00:00:00</td>\n      <td>2023-09-21</td>\n      <td>2023-09-18</td>\n      <td>1000000</td>\n      <td>1</td>\n      <td>1091</td>\n      <td>GR1</td>\n    </tr>\n    <tr>\n      <th>440659</th>\n      <td>65944f39b6c1148df9bd5c32</td>\n      <td>968903</td>\n      <td>2023</td>\n      <td>2023-09-21 00:00:00</td>\n      <td>2023-09-21</td>\n      <td>2023-09-18</td>\n      <td>50000</td>\n      <td>1</td>\n      <td>653</td>\n      <td>GR1</td>\n    </tr>\n    <tr>\n      <th>440660</th>\n      <td>65944f39b6c1148df9bd5c33</td>\n      <td>1031590</td>\n      <td>2023</td>\n      <td>2023-09-21 00:00:00</td>\n      <td>2023-09-21</td>\n      <td>2023-09-18</td>\n      <td>50000</td>\n      <td>1</td>\n      <td>6418</td>\n      <td>GR1</td>\n    </tr>\n    <tr>\n      <th>440661</th>\n      <td>65944f39b6c1148df9bd5c34</td>\n      <td>1166093</td>\n      <td>2023</td>\n      <td>2023-09-21 00:00:00</td>\n      <td>2023-09-21</td>\n      <td>2023-09-18</td>\n      <td>50000</td>\n      <td>1</td>\n      <td>30120</td>\n      <td>GR1</td>\n    </tr>\n    <tr>\n      <th>440662</th>\n      <td>65944f39b6c1148df9bd5c35</td>\n      <td>405676</td>\n      <td>2018</td>\n      <td>2023-12-19 00:00:00</td>\n      <td>2023-12-19</td>\n      <td>2023-12-18</td>\n      <td>50000</td>\n      <td>1</td>\n      <td>23826</td>\n      <td>L1</td>\n    </tr>\n  </tbody>\n</table>\n<p>440663 rows × 10 columns</p>\n</div>"
     },
     "execution_count": 7,
     "metadata": {},
     "output_type": "execute_result"
    }
   ],
   "source": [
    "#player_valuations\n",
    "def getPlayerValuations(db):\n",
    "    try: \n",
    "        collection = db[\"player_valuations\"]\n",
    "        player_valuations = list(collection.find())\n",
    "        return player_valuations\n",
    "    except Exception as e:\n",
    "            print(f\"Retrieval of Player Valuations failed: {e}\")\n",
    "            return []\n",
    "    \n",
    "PlayerValsInfo = getPlayerValuations(db)\n",
    "player_valuations_df = pd.DataFrame(PlayerValsInfo)\n",
    "player_valuations_df"
   ],
   "metadata": {
    "collapsed": false,
    "ExecuteTime": {
     "end_time": "2024-01-30T11:39:50.798710700Z",
     "start_time": "2024-01-30T11:39:45.257608300Z"
    }
   },
   "id": "341b3ca10e149b36"
  },
  {
   "cell_type": "code",
   "execution_count": 8,
   "outputs": [
    {
     "data": {
      "text/plain": "                             _id                     game_event_id       date  \\\n0       65944ec2b6c1148df9a9a6fe  2f41da30c471492e7d4a984951671677 2012-08-05   \n1       65944ec2b6c1148df9a9a6ff  a72f7186d132775f234d3e2f7bc0ed5b 2012-08-05   \n2       65944ec2b6c1148df9a9a700  b2d721eaed4692a5c59a92323689ef18 2012-08-05   \n3       65944ec2b6c1148df9a9a701  aef768899cedac0c9a650980219075a2 2012-08-05   \n4       65944ec2b6c1148df9a9a702  5d6d9533023057b6619ecd145a038bbe 2012-08-05   \n...                          ...                               ...        ...   \n666553  65944ee4b6c1148df9b3d2b7  7f5a6b61ca858e0cd63a58c554b56bb7 2023-11-15   \n666554  65944ee4b6c1148df9b3d2b8  5b93d1bc9e8bf42965682d491e1dd6c7 2023-11-15   \n666555  65944ee4b6c1148df9b3d2b9  d638b1e72f531c413487d413258a3130 2023-11-15   \n666556  65944ee4b6c1148df9b3d2ba  0ff7774aa1383af83e40c435325463af 2023-11-15   \n666557  65944ee4b6c1148df9b3d2bb  c2ba59ead8ee0f17e74e49c506e0d92f 2023-11-15   \n\n        game_id  minute           type  club_id  player_id  \\\n0       2211607      77          Cards      610       4425   \n1       2211607      77          Cards      383      33210   \n2       2211607       3          Goals      383      36500   \n3       2211607      53          Goals      383      36500   \n4       2211607      74  Substitutions      383      36500   \n...         ...     ...            ...      ...        ...   \n666553  4228114      82  Substitutions      358     874064   \n666554  4228114      44          Goals    46889     922572   \n666555  4228114      68  Substitutions    46889     922572   \n666556  4228114      68  Substitutions    46889    1200864   \n666557  4228114      85          Goals      358    1203715   \n\n                                              description  player_assist_id  \\\n0                    1. Yellow card  , Mass confrontation               NaN   \n1                    1. Yellow card  , Mass confrontation               NaN   \n2       , Header, 1. Tournament Goal Assist: , Corner,...           56416.0   \n3       , Right-footed shot, 2. Tournament Goal Assist...          146258.0   \n4                                          , Not reported               NaN   \n...                                                   ...               ...   \n666553                                         , Tactical               NaN   \n666554                      , Penalty, 1. Tournament Goal               NaN   \n666555                                         , Tactical               NaN   \n666556                                         , Tactical               NaN   \n666557            , Right-footed shot, 1. Tournament Goal               NaN   \n\n        player_in_id  \n0                NaN  \n1                NaN  \n2                NaN  \n3                NaN  \n4            49499.0  \n...              ...  \n666553      965607.0  \n666554           NaN  \n666555     1200869.0  \n666556      921121.0  \n666557           NaN  \n\n[666558 rows x 11 columns]",
      "text/html": "<div>\n<style scoped>\n    .dataframe tbody tr th:only-of-type {\n        vertical-align: middle;\n    }\n\n    .dataframe tbody tr th {\n        vertical-align: top;\n    }\n\n    .dataframe thead th {\n        text-align: right;\n    }\n</style>\n<table border=\"1\" class=\"dataframe\">\n  <thead>\n    <tr style=\"text-align: right;\">\n      <th></th>\n      <th>_id</th>\n      <th>game_event_id</th>\n      <th>date</th>\n      <th>game_id</th>\n      <th>minute</th>\n      <th>type</th>\n      <th>club_id</th>\n      <th>player_id</th>\n      <th>description</th>\n      <th>player_assist_id</th>\n      <th>player_in_id</th>\n    </tr>\n  </thead>\n  <tbody>\n    <tr>\n      <th>0</th>\n      <td>65944ec2b6c1148df9a9a6fe</td>\n      <td>2f41da30c471492e7d4a984951671677</td>\n      <td>2012-08-05</td>\n      <td>2211607</td>\n      <td>77</td>\n      <td>Cards</td>\n      <td>610</td>\n      <td>4425</td>\n      <td>1. Yellow card  , Mass confrontation</td>\n      <td>NaN</td>\n      <td>NaN</td>\n    </tr>\n    <tr>\n      <th>1</th>\n      <td>65944ec2b6c1148df9a9a6ff</td>\n      <td>a72f7186d132775f234d3e2f7bc0ed5b</td>\n      <td>2012-08-05</td>\n      <td>2211607</td>\n      <td>77</td>\n      <td>Cards</td>\n      <td>383</td>\n      <td>33210</td>\n      <td>1. Yellow card  , Mass confrontation</td>\n      <td>NaN</td>\n      <td>NaN</td>\n    </tr>\n    <tr>\n      <th>2</th>\n      <td>65944ec2b6c1148df9a9a700</td>\n      <td>b2d721eaed4692a5c59a92323689ef18</td>\n      <td>2012-08-05</td>\n      <td>2211607</td>\n      <td>3</td>\n      <td>Goals</td>\n      <td>383</td>\n      <td>36500</td>\n      <td>, Header, 1. Tournament Goal Assist: , Corner,...</td>\n      <td>56416.0</td>\n      <td>NaN</td>\n    </tr>\n    <tr>\n      <th>3</th>\n      <td>65944ec2b6c1148df9a9a701</td>\n      <td>aef768899cedac0c9a650980219075a2</td>\n      <td>2012-08-05</td>\n      <td>2211607</td>\n      <td>53</td>\n      <td>Goals</td>\n      <td>383</td>\n      <td>36500</td>\n      <td>, Right-footed shot, 2. Tournament Goal Assist...</td>\n      <td>146258.0</td>\n      <td>NaN</td>\n    </tr>\n    <tr>\n      <th>4</th>\n      <td>65944ec2b6c1148df9a9a702</td>\n      <td>5d6d9533023057b6619ecd145a038bbe</td>\n      <td>2012-08-05</td>\n      <td>2211607</td>\n      <td>74</td>\n      <td>Substitutions</td>\n      <td>383</td>\n      <td>36500</td>\n      <td>, Not reported</td>\n      <td>NaN</td>\n      <td>49499.0</td>\n    </tr>\n    <tr>\n      <th>...</th>\n      <td>...</td>\n      <td>...</td>\n      <td>...</td>\n      <td>...</td>\n      <td>...</td>\n      <td>...</td>\n      <td>...</td>\n      <td>...</td>\n      <td>...</td>\n      <td>...</td>\n      <td>...</td>\n    </tr>\n    <tr>\n      <th>666553</th>\n      <td>65944ee4b6c1148df9b3d2b7</td>\n      <td>7f5a6b61ca858e0cd63a58c554b56bb7</td>\n      <td>2023-11-15</td>\n      <td>4228114</td>\n      <td>82</td>\n      <td>Substitutions</td>\n      <td>358</td>\n      <td>874064</td>\n      <td>, Tactical</td>\n      <td>NaN</td>\n      <td>965607.0</td>\n    </tr>\n    <tr>\n      <th>666554</th>\n      <td>65944ee4b6c1148df9b3d2b8</td>\n      <td>5b93d1bc9e8bf42965682d491e1dd6c7</td>\n      <td>2023-11-15</td>\n      <td>4228114</td>\n      <td>44</td>\n      <td>Goals</td>\n      <td>46889</td>\n      <td>922572</td>\n      <td>, Penalty, 1. Tournament Goal</td>\n      <td>NaN</td>\n      <td>NaN</td>\n    </tr>\n    <tr>\n      <th>666555</th>\n      <td>65944ee4b6c1148df9b3d2b9</td>\n      <td>d638b1e72f531c413487d413258a3130</td>\n      <td>2023-11-15</td>\n      <td>4228114</td>\n      <td>68</td>\n      <td>Substitutions</td>\n      <td>46889</td>\n      <td>922572</td>\n      <td>, Tactical</td>\n      <td>NaN</td>\n      <td>1200869.0</td>\n    </tr>\n    <tr>\n      <th>666556</th>\n      <td>65944ee4b6c1148df9b3d2ba</td>\n      <td>0ff7774aa1383af83e40c435325463af</td>\n      <td>2023-11-15</td>\n      <td>4228114</td>\n      <td>68</td>\n      <td>Substitutions</td>\n      <td>46889</td>\n      <td>1200864</td>\n      <td>, Tactical</td>\n      <td>NaN</td>\n      <td>921121.0</td>\n    </tr>\n    <tr>\n      <th>666557</th>\n      <td>65944ee4b6c1148df9b3d2bb</td>\n      <td>c2ba59ead8ee0f17e74e49c506e0d92f</td>\n      <td>2023-11-15</td>\n      <td>4228114</td>\n      <td>85</td>\n      <td>Goals</td>\n      <td>358</td>\n      <td>1203715</td>\n      <td>, Right-footed shot, 1. Tournament Goal</td>\n      <td>NaN</td>\n      <td>NaN</td>\n    </tr>\n  </tbody>\n</table>\n<p>666558 rows × 11 columns</p>\n</div>"
     },
     "execution_count": 8,
     "metadata": {},
     "output_type": "execute_result"
    }
   ],
   "source": [
    "#game_events\n",
    "def getGameEvents(db):\n",
    "    try: \n",
    "        collection = db[\"game_events\"]\n",
    "        game_events = list(collection.find())\n",
    "        return game_events\n",
    "    except Exception as e:\n",
    "            print(f\"Retrieval of Game Events failed: {e}\")\n",
    "            return []\n",
    "\n",
    "GameEvents = getGameEvents(db)\n",
    "game_events_df = pd.DataFrame(GameEvents)\n",
    "game_events_df"
   ],
   "metadata": {
    "collapsed": false,
    "ExecuteTime": {
     "end_time": "2024-01-30T11:39:58.006484Z",
     "start_time": "2024-01-30T11:39:50.790965300Z"
    }
   },
   "id": "a10781146ab54f61"
  },
  {
   "cell_type": "code",
   "execution_count": 9,
   "outputs": [
    {
     "data": {
      "text/plain": "                             _id                   game_lineups_id  game_id  \\\n0       65944ef9b6c1148df9b3d2bd  77b0f371923e0c8bdf050a1e269faaac  3606208   \n1       65944ef9b6c1148df9b3d2be  cb6eeedb9f728570615d37b6fe7facaf  3606208   \n2       65944ef9b6c1148df9b3d2bf  8e63d5f47aac2bdb0e54f5481986e104  3606208   \n3       65944ef9b6c1148df9b3d2c0  ea4a96d8be410f2d646cf095c4faae7f  3606208   \n4       65944ef9b6c1148df9b3d2c1  e6abe553801b09bc623c3deb96acba17  3606208   \n...                          ...                               ...      ...   \n119128  65944f03b6c1148df9b5a416  f4e6a6b2e3d24d12290c6ce4168e1bdb  4228114   \n119129  65944f03b6c1148df9b5a417  7a78814a66c59c79e8d40c8669a67d3f  4228114   \n119130  65944f03b6c1148df9b5a418  09cc07767ce441b4de4a76c102fd17d5  4228114   \n119131  65944f03b6c1148df9b5a419  3c259f1849421af021aba3e84a4da8de  4228114   \n119132  65944f03b6c1148df9b5a41a  92f069e6041dae45375081d7662b2c12  4228114   \n\n        club_id             type number  player_id              player_name  \\\n0           338  starting_lineup     89     419061       Vladyslav Supryaga   \n1           338  starting_lineup     10     368611        Mykola Shaparenko   \n2           338  starting_lineup      5     124182         Sergiy Sydorchuk   \n3           338  starting_lineup     94     181118          Tomasz Kedziora   \n4           338  starting_lineup     16     404842        Vitaliy Mykolenko   \n...         ...              ...    ...        ...                      ...   \n119128    46889      substitutes      3    1200869          Thomas Chambers   \n119129    46889      substitutes      5    1203716  Mohammed-Idris Oshilaja   \n119130    46889      substitutes     13    1200870              Max Ovenden   \n119131    46889      substitutes     12     550816              Julien Anau   \n119132    46889      substitutes     10     128198             Adam Coombes   \n\n        team_captain            position  \n0                  0      Centre-Forward  \n1                  0    Central Midfield  \n2                  1  Defensive Midfield  \n3                  0          Right-Back  \n4                  0           Left-Back  \n...              ...                 ...  \n119128             0           Left-Back  \n119129             0            Defender  \n119130             0          Goalkeeper  \n119131             0  Attacking Midfield  \n119132             0              Attack  \n\n[119133 rows x 10 columns]",
      "text/html": "<div>\n<style scoped>\n    .dataframe tbody tr th:only-of-type {\n        vertical-align: middle;\n    }\n\n    .dataframe tbody tr th {\n        vertical-align: top;\n    }\n\n    .dataframe thead th {\n        text-align: right;\n    }\n</style>\n<table border=\"1\" class=\"dataframe\">\n  <thead>\n    <tr style=\"text-align: right;\">\n      <th></th>\n      <th>_id</th>\n      <th>game_lineups_id</th>\n      <th>game_id</th>\n      <th>club_id</th>\n      <th>type</th>\n      <th>number</th>\n      <th>player_id</th>\n      <th>player_name</th>\n      <th>team_captain</th>\n      <th>position</th>\n    </tr>\n  </thead>\n  <tbody>\n    <tr>\n      <th>0</th>\n      <td>65944ef9b6c1148df9b3d2bd</td>\n      <td>77b0f371923e0c8bdf050a1e269faaac</td>\n      <td>3606208</td>\n      <td>338</td>\n      <td>starting_lineup</td>\n      <td>89</td>\n      <td>419061</td>\n      <td>Vladyslav Supryaga</td>\n      <td>0</td>\n      <td>Centre-Forward</td>\n    </tr>\n    <tr>\n      <th>1</th>\n      <td>65944ef9b6c1148df9b3d2be</td>\n      <td>cb6eeedb9f728570615d37b6fe7facaf</td>\n      <td>3606208</td>\n      <td>338</td>\n      <td>starting_lineup</td>\n      <td>10</td>\n      <td>368611</td>\n      <td>Mykola Shaparenko</td>\n      <td>0</td>\n      <td>Central Midfield</td>\n    </tr>\n    <tr>\n      <th>2</th>\n      <td>65944ef9b6c1148df9b3d2bf</td>\n      <td>8e63d5f47aac2bdb0e54f5481986e104</td>\n      <td>3606208</td>\n      <td>338</td>\n      <td>starting_lineup</td>\n      <td>5</td>\n      <td>124182</td>\n      <td>Sergiy Sydorchuk</td>\n      <td>1</td>\n      <td>Defensive Midfield</td>\n    </tr>\n    <tr>\n      <th>3</th>\n      <td>65944ef9b6c1148df9b3d2c0</td>\n      <td>ea4a96d8be410f2d646cf095c4faae7f</td>\n      <td>3606208</td>\n      <td>338</td>\n      <td>starting_lineup</td>\n      <td>94</td>\n      <td>181118</td>\n      <td>Tomasz Kedziora</td>\n      <td>0</td>\n      <td>Right-Back</td>\n    </tr>\n    <tr>\n      <th>4</th>\n      <td>65944ef9b6c1148df9b3d2c1</td>\n      <td>e6abe553801b09bc623c3deb96acba17</td>\n      <td>3606208</td>\n      <td>338</td>\n      <td>starting_lineup</td>\n      <td>16</td>\n      <td>404842</td>\n      <td>Vitaliy Mykolenko</td>\n      <td>0</td>\n      <td>Left-Back</td>\n    </tr>\n    <tr>\n      <th>...</th>\n      <td>...</td>\n      <td>...</td>\n      <td>...</td>\n      <td>...</td>\n      <td>...</td>\n      <td>...</td>\n      <td>...</td>\n      <td>...</td>\n      <td>...</td>\n      <td>...</td>\n    </tr>\n    <tr>\n      <th>119128</th>\n      <td>65944f03b6c1148df9b5a416</td>\n      <td>f4e6a6b2e3d24d12290c6ce4168e1bdb</td>\n      <td>4228114</td>\n      <td>46889</td>\n      <td>substitutes</td>\n      <td>3</td>\n      <td>1200869</td>\n      <td>Thomas Chambers</td>\n      <td>0</td>\n      <td>Left-Back</td>\n    </tr>\n    <tr>\n      <th>119129</th>\n      <td>65944f03b6c1148df9b5a417</td>\n      <td>7a78814a66c59c79e8d40c8669a67d3f</td>\n      <td>4228114</td>\n      <td>46889</td>\n      <td>substitutes</td>\n      <td>5</td>\n      <td>1203716</td>\n      <td>Mohammed-Idris Oshilaja</td>\n      <td>0</td>\n      <td>Defender</td>\n    </tr>\n    <tr>\n      <th>119130</th>\n      <td>65944f03b6c1148df9b5a418</td>\n      <td>09cc07767ce441b4de4a76c102fd17d5</td>\n      <td>4228114</td>\n      <td>46889</td>\n      <td>substitutes</td>\n      <td>13</td>\n      <td>1200870</td>\n      <td>Max Ovenden</td>\n      <td>0</td>\n      <td>Goalkeeper</td>\n    </tr>\n    <tr>\n      <th>119131</th>\n      <td>65944f03b6c1148df9b5a419</td>\n      <td>3c259f1849421af021aba3e84a4da8de</td>\n      <td>4228114</td>\n      <td>46889</td>\n      <td>substitutes</td>\n      <td>12</td>\n      <td>550816</td>\n      <td>Julien Anau</td>\n      <td>0</td>\n      <td>Attacking Midfield</td>\n    </tr>\n    <tr>\n      <th>119132</th>\n      <td>65944f03b6c1148df9b5a41a</td>\n      <td>92f069e6041dae45375081d7662b2c12</td>\n      <td>4228114</td>\n      <td>46889</td>\n      <td>substitutes</td>\n      <td>10</td>\n      <td>128198</td>\n      <td>Adam Coombes</td>\n      <td>0</td>\n      <td>Attack</td>\n    </tr>\n  </tbody>\n</table>\n<p>119133 rows × 10 columns</p>\n</div>"
     },
     "execution_count": 9,
     "metadata": {},
     "output_type": "execute_result"
    }
   ],
   "source": [
    "#game_lineups\n",
    "def getGameLineUps(db):\n",
    "    try: \n",
    "        collection = db[\"game_lineups\"]\n",
    "        game_lineups = list(collection.find())\n",
    "        return game_lineups\n",
    "    except Exception as e:\n",
    "            print(f\"Retrieval of Game Line Ups failed: {e}\")\n",
    "            return []\n",
    "    \n",
    "GameLineupsInfo = getGameLineUps(db)\n",
    "game_lineups_df = pd.DataFrame(GameLineupsInfo)\n",
    "game_lineups_df"
   ],
   "metadata": {
    "collapsed": false,
    "ExecuteTime": {
     "end_time": "2024-01-30T11:40:00.011020600Z",
     "start_time": "2024-01-30T11:39:57.997138100Z"
    }
   },
   "id": "66739b2650e8c5e0"
  },
  {
   "cell_type": "code",
   "execution_count": 10,
   "outputs": [
    {
     "data": {
      "text/plain": "                         _id competition_id  \\\n0   65944ea7b6c1148df9a9a6d2            CIT   \n1   65944ea7b6c1148df9a9a6d3           NLSC   \n2   65944ea7b6c1148df9a9a6d4            GRP   \n3   65944ea7b6c1148df9a9a6d5           POSU   \n4   65944ea7b6c1148df9a9a6d6           RUSS   \n5   65944ea7b6c1148df9a9a6d7            SUC   \n6   65944ea7b6c1148df9a9a6d8            USC   \n7   65944ea7b6c1148df9a9a6d9            DK1   \n8   65944ea7b6c1148df9a9a6da             EL   \n9   65944ea7b6c1148df9a9a6db            ES1   \n10  65944ea7b6c1148df9a9a6dc            FR1   \n11  65944ea7b6c1148df9a9a6dd            IT1   \n12  65944ea7b6c1148df9a9a6de            NL1   \n13  65944ea7b6c1148df9a9a6df            RUP   \n14  65944ea7b6c1148df9a9a6e0            PO1   \n15  65944ea7b6c1148df9a9a6e1           BESC   \n16  65944ea7b6c1148df9a9a6e2            GB1   \n17  65944ea7b6c1148df9a9a6e3            ELQ   \n18  65944ea7b6c1148df9a9a6e4            CGB   \n19  65944ea7b6c1148df9a9a6e5            DKP   \n20  65944ea7b6c1148df9a9a6e6           ECLQ   \n21  65944ea7b6c1148df9a9a6e7            FAC   \n22  65944ea7b6c1148df9a9a6e8            NLP   \n23  65944ea7b6c1148df9a9a6e9           UKRS   \n24  65944ea7b6c1148df9a9a6ea           UKR1   \n25  65944ea7b6c1148df9a9a6eb            CDR   \n26  65944ea7b6c1148df9a9a6ec             CL   \n27  65944ea7b6c1148df9a9a6ed            GR1   \n28  65944ea7b6c1148df9a9a6ee            TR1   \n29  65944ea7b6c1148df9a9a6ef           POCP   \n30  65944ea7b6c1148df9a9a6f0           GBCS   \n31  65944ea7b6c1148df9a9a6f1           KLUB   \n32  65944ea7b6c1148df9a9a6f2             L1   \n33  65944ea7b6c1148df9a9a6f3            RU1   \n34  65944ea7b6c1148df9a9a6f4            SC1   \n35  65944ea7b6c1148df9a9a6f5            SCI   \n36  65944ea7b6c1148df9a9a6f6            BE1   \n37  65944ea7b6c1148df9a9a6f7            CLQ   \n38  65944ea7b6c1148df9a9a6f8            DFL   \n39  65944ea7b6c1148df9a9a6f9            SFA   \n40  65944ea7b6c1148df9a9a6fa           UKRP   \n41  65944ea7b6c1148df9a9a6fb            DFB   \n42  65944ea7b6c1148df9a9a6fc           FRCH   \n\n                               competition_code  \\\n0                                     italy-cup   \n1                          johan-cruijff-schaal   \n2                               kypello-elladas   \n3                 supertaca-candido-de-oliveira   \n4                             russian-super-cup   \n5                                     supercopa   \n6                                uefa-super-cup   \n7                                   superligaen   \n8                                 europa-league   \n9                                        laliga   \n10                                      ligue-1   \n11                                      serie-a   \n12                                   eredivisie   \n13                                  russian-cup   \n14                           liga-portugal-bwin   \n15                             belgian-supercup   \n16                               premier-league   \n17                  europa-league-qualifikation   \n18                                      efl-cup   \n19                              sydbank-pokalen   \n20  uefa-europa-conference-league-qualifikation   \n21                                       fa-cup   \n22                              toto-knvb-beker   \n23                          ukrainian-super-cup   \n24                                 premier-liga   \n25                                 copa-del-rey   \n26                        uefa-champions-league   \n27                               super-league-1   \n28                                    super-lig   \n29                                  allianz-cup   \n30                             community-shield   \n31                                 fifa-klub-wm   \n32                                   bundesliga   \n33                                 premier-liga   \n34                         scottish-premiership   \n35                          supercoppa-italiana   \n36                           jupiler-pro-league   \n37          uefa-champions-league-qualifikation   \n38                                 dfl-supercup   \n39                                      sfa-cup   \n40                                ukrainian-cup   \n41                                    dfb-pokal   \n42                        trophee-des-champions   \n\n                                           name  \\\n0                                     italy-cup   \n1                          johan-cruijff-schaal   \n2                               kypello-elladas   \n3                 supertaca-candido-de-oliveira   \n4                             russian-super-cup   \n5                                     supercopa   \n6                                uefa-super-cup   \n7                                   superligaen   \n8                                 europa-league   \n9                                        laliga   \n10                                      ligue-1   \n11                                      serie-a   \n12                                   eredivisie   \n13                                  russian-cup   \n14                           liga-portugal-bwin   \n15                             belgian-supercup   \n16                               premier-league   \n17                  europa-league-qualifikation   \n18                                      efl-cup   \n19                              sydbank-pokalen   \n20  uefa-europa-conference-league-qualifikation   \n21                                       fa-cup   \n22                              toto-knvb-beker   \n23                          ukrainian-super-cup   \n24                                 premier-liga   \n25                                 copa-del-rey   \n26                        uefa-champions-league   \n27                               super-league-1   \n28                                    super-lig   \n29                                  allianz-cup   \n30                             community-shield   \n31                                 fifa-klub-wm   \n32                                   bundesliga   \n33                                 premier-liga   \n34                         scottish-premiership   \n35                          supercoppa-italiana   \n36                           jupiler-pro-league   \n37          uefa-champions-league-qualifikation   \n38                                 dfl-supercup   \n39                                      sfa-cup   \n40                                ukrainian-cup   \n41                                    dfb-pokal   \n42                        trophee-des-champions   \n\n                                    sub_type               type  country_id  \\\n0                               domestic_cup       domestic_cup          75   \n1                         domestic_super_cup              other         122   \n2                               domestic_cup       domestic_cup          56   \n3                         domestic_super_cup              other         136   \n4                         domestic_super_cup              other         141   \n5                         domestic_super_cup              other         157   \n6                             uefa_super_cup              other          -1   \n7                                 first_tier    domestic_league          39   \n8                              europa_league  international_cup          -1   \n9                                 first_tier    domestic_league         157   \n10                                first_tier    domestic_league          50   \n11                                first_tier    domestic_league          75   \n12                                first_tier    domestic_league         122   \n13                              domestic_cup       domestic_cup         141   \n14                                first_tier    domestic_league         136   \n15                        domestic_super_cup              other          19   \n16                                first_tier    domestic_league         189   \n17                  europa_league_qualifying  international_cup          -1   \n18                                league_cup              other         189   \n19                              domestic_cup       domestic_cup          39   \n20  uefa_europa_conference_league_qualifiers  international_cup          -1   \n21                              domestic_cup       domestic_cup         189   \n22                              domestic_cup       domestic_cup         122   \n23                        domestic_super_cup              other         177   \n24                                first_tier    domestic_league         177   \n25                              domestic_cup       domestic_cup         157   \n26                     uefa_champions_league  international_cup          -1   \n27                                first_tier    domestic_league          56   \n28                                first_tier    domestic_league         174   \n29                              domestic_cup       domestic_cup         136   \n30                        domestic_super_cup              other         189   \n31                       fifa_club_world_cup              other          -1   \n32                                first_tier    domestic_league          40   \n33                                first_tier    domestic_league         141   \n34                                first_tier    domestic_league         190   \n35                        domestic_super_cup              other          75   \n36                                first_tier    domestic_league          19   \n37          uefa_champions_league_qualifying  international_cup          -1   \n38                        domestic_super_cup              other          40   \n39                              domestic_cup       domestic_cup         190   \n40                              domestic_cup       domestic_cup         177   \n41                              domestic_cup       domestic_cup          40   \n42                        domestic_super_cup              other          50   \n\n   country_name domestic_league_code confederation  \\\n0         Italy                  IT1        europa   \n1   Netherlands                  NL1        europa   \n2        Greece                  GR1        europa   \n3      Portugal                  PO1        europa   \n4        Russia                  RU1        europa   \n5         Spain                  ES1        europa   \n6           NaN                  NaN        europa   \n7       Denmark                  DK1        europa   \n8           NaN                  NaN        europa   \n9         Spain                  ES1        europa   \n10       France                  FR1        europa   \n11        Italy                  IT1        europa   \n12  Netherlands                  NL1        europa   \n13       Russia                  RU1        europa   \n14     Portugal                  PO1        europa   \n15      Belgium                  BE1        europa   \n16      England                  GB1        europa   \n17          NaN                  NaN        europa   \n18      England                  GB1        europa   \n19      Denmark                  DK1        europa   \n20          NaN                  NaN        europa   \n21      England                  GB1        europa   \n22  Netherlands                  NL1        europa   \n23      Ukraine                 UKR1        europa   \n24      Ukraine                 UKR1        europa   \n25        Spain                  ES1        europa   \n26          NaN                  NaN        europa   \n27       Greece                  GR1        europa   \n28       Turkey                  TR1        europa   \n29     Portugal                  PO1        europa   \n30      England                  GB1        europa   \n31          NaN                  NaN        europa   \n32      Germany                   L1        europa   \n33       Russia                  RU1        europa   \n34     Scotland                  SC1        europa   \n35        Italy                  IT1        europa   \n36      Belgium                  BE1        europa   \n37          NaN                  NaN        europa   \n38      Germany                   L1        europa   \n39     Scotland                  SC1        europa   \n40      Ukraine                 UKR1        europa   \n41      Germany                   L1        europa   \n42       France                  FR1        europa   \n\n                                                  url  \n0   https://www.transfermarkt.co.uk/italy-cup/star...  \n1   https://www.transfermarkt.co.uk/johan-cruijff-...  \n2   https://www.transfermarkt.co.uk/kypello-ellada...  \n3   https://www.transfermarkt.co.uk/supertaca-cand...  \n4   https://www.transfermarkt.co.uk/russian-super-...  \n5   https://www.transfermarkt.co.uk/supercopa/star...  \n6   https://www.transfermarkt.co.uk/uefa-super-cup...  \n7   https://www.transfermarkt.co.uk/superligaen/st...  \n8   https://www.transfermarkt.co.uk/europa-league/...  \n9   https://www.transfermarkt.co.uk/laliga/startse...  \n10  https://www.transfermarkt.co.uk/ligue-1/starts...  \n11  https://www.transfermarkt.co.uk/serie-a/starts...  \n12  https://www.transfermarkt.co.uk/eredivisie/sta...  \n13  https://www.transfermarkt.co.uk/russian-cup/st...  \n14  https://www.transfermarkt.co.uk/liga-portugal-...  \n15  https://www.transfermarkt.co.uk/belgian-superc...  \n16  https://www.transfermarkt.co.uk/premier-league...  \n17  https://www.transfermarkt.co.uk/europa-league-...  \n18  https://www.transfermarkt.co.uk/efl-cup/starts...  \n19  https://www.transfermarkt.co.uk/sydbank-pokale...  \n20  https://www.transfermarkt.co.uk/uefa-europa-co...  \n21  https://www.transfermarkt.co.uk/fa-cup/startse...  \n22  https://www.transfermarkt.co.uk/toto-knvb-beke...  \n23  https://www.transfermarkt.co.uk/ukrainian-supe...  \n24  https://www.transfermarkt.co.uk/premier-liga/s...  \n25  https://www.transfermarkt.co.uk/copa-del-rey/s...  \n26  https://www.transfermarkt.co.uk/uefa-champions...  \n27  https://www.transfermarkt.co.uk/super-league-1...  \n28  https://www.transfermarkt.co.uk/super-lig/star...  \n29  https://www.transfermarkt.co.uk/allianz-cup/st...  \n30  https://www.transfermarkt.co.uk/community-shie...  \n31  https://www.transfermarkt.co.uk/fifa-klub-wm/s...  \n32  https://www.transfermarkt.co.uk/bundesliga/sta...  \n33  https://www.transfermarkt.co.uk/premier-liga/s...  \n34  https://www.transfermarkt.co.uk/scottish-premi...  \n35  https://www.transfermarkt.co.uk/supercoppa-ita...  \n36  https://www.transfermarkt.co.uk/jupiler-pro-le...  \n37  https://www.transfermarkt.co.uk/uefa-champions...  \n38  https://www.transfermarkt.co.uk/dfl-supercup/s...  \n39  https://www.transfermarkt.co.uk/sfa-cup/starts...  \n40  https://www.transfermarkt.co.uk/ukrainian-cup/...  \n41  https://www.transfermarkt.co.uk/dfb-pokal/star...  \n42  https://www.transfermarkt.co.uk/trophee-des-ch...  ",
      "text/html": "<div>\n<style scoped>\n    .dataframe tbody tr th:only-of-type {\n        vertical-align: middle;\n    }\n\n    .dataframe tbody tr th {\n        vertical-align: top;\n    }\n\n    .dataframe thead th {\n        text-align: right;\n    }\n</style>\n<table border=\"1\" class=\"dataframe\">\n  <thead>\n    <tr style=\"text-align: right;\">\n      <th></th>\n      <th>_id</th>\n      <th>competition_id</th>\n      <th>competition_code</th>\n      <th>name</th>\n      <th>sub_type</th>\n      <th>type</th>\n      <th>country_id</th>\n      <th>country_name</th>\n      <th>domestic_league_code</th>\n      <th>confederation</th>\n      <th>url</th>\n    </tr>\n  </thead>\n  <tbody>\n    <tr>\n      <th>0</th>\n      <td>65944ea7b6c1148df9a9a6d2</td>\n      <td>CIT</td>\n      <td>italy-cup</td>\n      <td>italy-cup</td>\n      <td>domestic_cup</td>\n      <td>domestic_cup</td>\n      <td>75</td>\n      <td>Italy</td>\n      <td>IT1</td>\n      <td>europa</td>\n      <td>https://www.transfermarkt.co.uk/italy-cup/star...</td>\n    </tr>\n    <tr>\n      <th>1</th>\n      <td>65944ea7b6c1148df9a9a6d3</td>\n      <td>NLSC</td>\n      <td>johan-cruijff-schaal</td>\n      <td>johan-cruijff-schaal</td>\n      <td>domestic_super_cup</td>\n      <td>other</td>\n      <td>122</td>\n      <td>Netherlands</td>\n      <td>NL1</td>\n      <td>europa</td>\n      <td>https://www.transfermarkt.co.uk/johan-cruijff-...</td>\n    </tr>\n    <tr>\n      <th>2</th>\n      <td>65944ea7b6c1148df9a9a6d4</td>\n      <td>GRP</td>\n      <td>kypello-elladas</td>\n      <td>kypello-elladas</td>\n      <td>domestic_cup</td>\n      <td>domestic_cup</td>\n      <td>56</td>\n      <td>Greece</td>\n      <td>GR1</td>\n      <td>europa</td>\n      <td>https://www.transfermarkt.co.uk/kypello-ellada...</td>\n    </tr>\n    <tr>\n      <th>3</th>\n      <td>65944ea7b6c1148df9a9a6d5</td>\n      <td>POSU</td>\n      <td>supertaca-candido-de-oliveira</td>\n      <td>supertaca-candido-de-oliveira</td>\n      <td>domestic_super_cup</td>\n      <td>other</td>\n      <td>136</td>\n      <td>Portugal</td>\n      <td>PO1</td>\n      <td>europa</td>\n      <td>https://www.transfermarkt.co.uk/supertaca-cand...</td>\n    </tr>\n    <tr>\n      <th>4</th>\n      <td>65944ea7b6c1148df9a9a6d6</td>\n      <td>RUSS</td>\n      <td>russian-super-cup</td>\n      <td>russian-super-cup</td>\n      <td>domestic_super_cup</td>\n      <td>other</td>\n      <td>141</td>\n      <td>Russia</td>\n      <td>RU1</td>\n      <td>europa</td>\n      <td>https://www.transfermarkt.co.uk/russian-super-...</td>\n    </tr>\n    <tr>\n      <th>5</th>\n      <td>65944ea7b6c1148df9a9a6d7</td>\n      <td>SUC</td>\n      <td>supercopa</td>\n      <td>supercopa</td>\n      <td>domestic_super_cup</td>\n      <td>other</td>\n      <td>157</td>\n      <td>Spain</td>\n      <td>ES1</td>\n      <td>europa</td>\n      <td>https://www.transfermarkt.co.uk/supercopa/star...</td>\n    </tr>\n    <tr>\n      <th>6</th>\n      <td>65944ea7b6c1148df9a9a6d8</td>\n      <td>USC</td>\n      <td>uefa-super-cup</td>\n      <td>uefa-super-cup</td>\n      <td>uefa_super_cup</td>\n      <td>other</td>\n      <td>-1</td>\n      <td>NaN</td>\n      <td>NaN</td>\n      <td>europa</td>\n      <td>https://www.transfermarkt.co.uk/uefa-super-cup...</td>\n    </tr>\n    <tr>\n      <th>7</th>\n      <td>65944ea7b6c1148df9a9a6d9</td>\n      <td>DK1</td>\n      <td>superligaen</td>\n      <td>superligaen</td>\n      <td>first_tier</td>\n      <td>domestic_league</td>\n      <td>39</td>\n      <td>Denmark</td>\n      <td>DK1</td>\n      <td>europa</td>\n      <td>https://www.transfermarkt.co.uk/superligaen/st...</td>\n    </tr>\n    <tr>\n      <th>8</th>\n      <td>65944ea7b6c1148df9a9a6da</td>\n      <td>EL</td>\n      <td>europa-league</td>\n      <td>europa-league</td>\n      <td>europa_league</td>\n      <td>international_cup</td>\n      <td>-1</td>\n      <td>NaN</td>\n      <td>NaN</td>\n      <td>europa</td>\n      <td>https://www.transfermarkt.co.uk/europa-league/...</td>\n    </tr>\n    <tr>\n      <th>9</th>\n      <td>65944ea7b6c1148df9a9a6db</td>\n      <td>ES1</td>\n      <td>laliga</td>\n      <td>laliga</td>\n      <td>first_tier</td>\n      <td>domestic_league</td>\n      <td>157</td>\n      <td>Spain</td>\n      <td>ES1</td>\n      <td>europa</td>\n      <td>https://www.transfermarkt.co.uk/laliga/startse...</td>\n    </tr>\n    <tr>\n      <th>10</th>\n      <td>65944ea7b6c1148df9a9a6dc</td>\n      <td>FR1</td>\n      <td>ligue-1</td>\n      <td>ligue-1</td>\n      <td>first_tier</td>\n      <td>domestic_league</td>\n      <td>50</td>\n      <td>France</td>\n      <td>FR1</td>\n      <td>europa</td>\n      <td>https://www.transfermarkt.co.uk/ligue-1/starts...</td>\n    </tr>\n    <tr>\n      <th>11</th>\n      <td>65944ea7b6c1148df9a9a6dd</td>\n      <td>IT1</td>\n      <td>serie-a</td>\n      <td>serie-a</td>\n      <td>first_tier</td>\n      <td>domestic_league</td>\n      <td>75</td>\n      <td>Italy</td>\n      <td>IT1</td>\n      <td>europa</td>\n      <td>https://www.transfermarkt.co.uk/serie-a/starts...</td>\n    </tr>\n    <tr>\n      <th>12</th>\n      <td>65944ea7b6c1148df9a9a6de</td>\n      <td>NL1</td>\n      <td>eredivisie</td>\n      <td>eredivisie</td>\n      <td>first_tier</td>\n      <td>domestic_league</td>\n      <td>122</td>\n      <td>Netherlands</td>\n      <td>NL1</td>\n      <td>europa</td>\n      <td>https://www.transfermarkt.co.uk/eredivisie/sta...</td>\n    </tr>\n    <tr>\n      <th>13</th>\n      <td>65944ea7b6c1148df9a9a6df</td>\n      <td>RUP</td>\n      <td>russian-cup</td>\n      <td>russian-cup</td>\n      <td>domestic_cup</td>\n      <td>domestic_cup</td>\n      <td>141</td>\n      <td>Russia</td>\n      <td>RU1</td>\n      <td>europa</td>\n      <td>https://www.transfermarkt.co.uk/russian-cup/st...</td>\n    </tr>\n    <tr>\n      <th>14</th>\n      <td>65944ea7b6c1148df9a9a6e0</td>\n      <td>PO1</td>\n      <td>liga-portugal-bwin</td>\n      <td>liga-portugal-bwin</td>\n      <td>first_tier</td>\n      <td>domestic_league</td>\n      <td>136</td>\n      <td>Portugal</td>\n      <td>PO1</td>\n      <td>europa</td>\n      <td>https://www.transfermarkt.co.uk/liga-portugal-...</td>\n    </tr>\n    <tr>\n      <th>15</th>\n      <td>65944ea7b6c1148df9a9a6e1</td>\n      <td>BESC</td>\n      <td>belgian-supercup</td>\n      <td>belgian-supercup</td>\n      <td>domestic_super_cup</td>\n      <td>other</td>\n      <td>19</td>\n      <td>Belgium</td>\n      <td>BE1</td>\n      <td>europa</td>\n      <td>https://www.transfermarkt.co.uk/belgian-superc...</td>\n    </tr>\n    <tr>\n      <th>16</th>\n      <td>65944ea7b6c1148df9a9a6e2</td>\n      <td>GB1</td>\n      <td>premier-league</td>\n      <td>premier-league</td>\n      <td>first_tier</td>\n      <td>domestic_league</td>\n      <td>189</td>\n      <td>England</td>\n      <td>GB1</td>\n      <td>europa</td>\n      <td>https://www.transfermarkt.co.uk/premier-league...</td>\n    </tr>\n    <tr>\n      <th>17</th>\n      <td>65944ea7b6c1148df9a9a6e3</td>\n      <td>ELQ</td>\n      <td>europa-league-qualifikation</td>\n      <td>europa-league-qualifikation</td>\n      <td>europa_league_qualifying</td>\n      <td>international_cup</td>\n      <td>-1</td>\n      <td>NaN</td>\n      <td>NaN</td>\n      <td>europa</td>\n      <td>https://www.transfermarkt.co.uk/europa-league-...</td>\n    </tr>\n    <tr>\n      <th>18</th>\n      <td>65944ea7b6c1148df9a9a6e4</td>\n      <td>CGB</td>\n      <td>efl-cup</td>\n      <td>efl-cup</td>\n      <td>league_cup</td>\n      <td>other</td>\n      <td>189</td>\n      <td>England</td>\n      <td>GB1</td>\n      <td>europa</td>\n      <td>https://www.transfermarkt.co.uk/efl-cup/starts...</td>\n    </tr>\n    <tr>\n      <th>19</th>\n      <td>65944ea7b6c1148df9a9a6e5</td>\n      <td>DKP</td>\n      <td>sydbank-pokalen</td>\n      <td>sydbank-pokalen</td>\n      <td>domestic_cup</td>\n      <td>domestic_cup</td>\n      <td>39</td>\n      <td>Denmark</td>\n      <td>DK1</td>\n      <td>europa</td>\n      <td>https://www.transfermarkt.co.uk/sydbank-pokale...</td>\n    </tr>\n    <tr>\n      <th>20</th>\n      <td>65944ea7b6c1148df9a9a6e6</td>\n      <td>ECLQ</td>\n      <td>uefa-europa-conference-league-qualifikation</td>\n      <td>uefa-europa-conference-league-qualifikation</td>\n      <td>uefa_europa_conference_league_qualifiers</td>\n      <td>international_cup</td>\n      <td>-1</td>\n      <td>NaN</td>\n      <td>NaN</td>\n      <td>europa</td>\n      <td>https://www.transfermarkt.co.uk/uefa-europa-co...</td>\n    </tr>\n    <tr>\n      <th>21</th>\n      <td>65944ea7b6c1148df9a9a6e7</td>\n      <td>FAC</td>\n      <td>fa-cup</td>\n      <td>fa-cup</td>\n      <td>domestic_cup</td>\n      <td>domestic_cup</td>\n      <td>189</td>\n      <td>England</td>\n      <td>GB1</td>\n      <td>europa</td>\n      <td>https://www.transfermarkt.co.uk/fa-cup/startse...</td>\n    </tr>\n    <tr>\n      <th>22</th>\n      <td>65944ea7b6c1148df9a9a6e8</td>\n      <td>NLP</td>\n      <td>toto-knvb-beker</td>\n      <td>toto-knvb-beker</td>\n      <td>domestic_cup</td>\n      <td>domestic_cup</td>\n      <td>122</td>\n      <td>Netherlands</td>\n      <td>NL1</td>\n      <td>europa</td>\n      <td>https://www.transfermarkt.co.uk/toto-knvb-beke...</td>\n    </tr>\n    <tr>\n      <th>23</th>\n      <td>65944ea7b6c1148df9a9a6e9</td>\n      <td>UKRS</td>\n      <td>ukrainian-super-cup</td>\n      <td>ukrainian-super-cup</td>\n      <td>domestic_super_cup</td>\n      <td>other</td>\n      <td>177</td>\n      <td>Ukraine</td>\n      <td>UKR1</td>\n      <td>europa</td>\n      <td>https://www.transfermarkt.co.uk/ukrainian-supe...</td>\n    </tr>\n    <tr>\n      <th>24</th>\n      <td>65944ea7b6c1148df9a9a6ea</td>\n      <td>UKR1</td>\n      <td>premier-liga</td>\n      <td>premier-liga</td>\n      <td>first_tier</td>\n      <td>domestic_league</td>\n      <td>177</td>\n      <td>Ukraine</td>\n      <td>UKR1</td>\n      <td>europa</td>\n      <td>https://www.transfermarkt.co.uk/premier-liga/s...</td>\n    </tr>\n    <tr>\n      <th>25</th>\n      <td>65944ea7b6c1148df9a9a6eb</td>\n      <td>CDR</td>\n      <td>copa-del-rey</td>\n      <td>copa-del-rey</td>\n      <td>domestic_cup</td>\n      <td>domestic_cup</td>\n      <td>157</td>\n      <td>Spain</td>\n      <td>ES1</td>\n      <td>europa</td>\n      <td>https://www.transfermarkt.co.uk/copa-del-rey/s...</td>\n    </tr>\n    <tr>\n      <th>26</th>\n      <td>65944ea7b6c1148df9a9a6ec</td>\n      <td>CL</td>\n      <td>uefa-champions-league</td>\n      <td>uefa-champions-league</td>\n      <td>uefa_champions_league</td>\n      <td>international_cup</td>\n      <td>-1</td>\n      <td>NaN</td>\n      <td>NaN</td>\n      <td>europa</td>\n      <td>https://www.transfermarkt.co.uk/uefa-champions...</td>\n    </tr>\n    <tr>\n      <th>27</th>\n      <td>65944ea7b6c1148df9a9a6ed</td>\n      <td>GR1</td>\n      <td>super-league-1</td>\n      <td>super-league-1</td>\n      <td>first_tier</td>\n      <td>domestic_league</td>\n      <td>56</td>\n      <td>Greece</td>\n      <td>GR1</td>\n      <td>europa</td>\n      <td>https://www.transfermarkt.co.uk/super-league-1...</td>\n    </tr>\n    <tr>\n      <th>28</th>\n      <td>65944ea7b6c1148df9a9a6ee</td>\n      <td>TR1</td>\n      <td>super-lig</td>\n      <td>super-lig</td>\n      <td>first_tier</td>\n      <td>domestic_league</td>\n      <td>174</td>\n      <td>Turkey</td>\n      <td>TR1</td>\n      <td>europa</td>\n      <td>https://www.transfermarkt.co.uk/super-lig/star...</td>\n    </tr>\n    <tr>\n      <th>29</th>\n      <td>65944ea7b6c1148df9a9a6ef</td>\n      <td>POCP</td>\n      <td>allianz-cup</td>\n      <td>allianz-cup</td>\n      <td>domestic_cup</td>\n      <td>domestic_cup</td>\n      <td>136</td>\n      <td>Portugal</td>\n      <td>PO1</td>\n      <td>europa</td>\n      <td>https://www.transfermarkt.co.uk/allianz-cup/st...</td>\n    </tr>\n    <tr>\n      <th>30</th>\n      <td>65944ea7b6c1148df9a9a6f0</td>\n      <td>GBCS</td>\n      <td>community-shield</td>\n      <td>community-shield</td>\n      <td>domestic_super_cup</td>\n      <td>other</td>\n      <td>189</td>\n      <td>England</td>\n      <td>GB1</td>\n      <td>europa</td>\n      <td>https://www.transfermarkt.co.uk/community-shie...</td>\n    </tr>\n    <tr>\n      <th>31</th>\n      <td>65944ea7b6c1148df9a9a6f1</td>\n      <td>KLUB</td>\n      <td>fifa-klub-wm</td>\n      <td>fifa-klub-wm</td>\n      <td>fifa_club_world_cup</td>\n      <td>other</td>\n      <td>-1</td>\n      <td>NaN</td>\n      <td>NaN</td>\n      <td>europa</td>\n      <td>https://www.transfermarkt.co.uk/fifa-klub-wm/s...</td>\n    </tr>\n    <tr>\n      <th>32</th>\n      <td>65944ea7b6c1148df9a9a6f2</td>\n      <td>L1</td>\n      <td>bundesliga</td>\n      <td>bundesliga</td>\n      <td>first_tier</td>\n      <td>domestic_league</td>\n      <td>40</td>\n      <td>Germany</td>\n      <td>L1</td>\n      <td>europa</td>\n      <td>https://www.transfermarkt.co.uk/bundesliga/sta...</td>\n    </tr>\n    <tr>\n      <th>33</th>\n      <td>65944ea7b6c1148df9a9a6f3</td>\n      <td>RU1</td>\n      <td>premier-liga</td>\n      <td>premier-liga</td>\n      <td>first_tier</td>\n      <td>domestic_league</td>\n      <td>141</td>\n      <td>Russia</td>\n      <td>RU1</td>\n      <td>europa</td>\n      <td>https://www.transfermarkt.co.uk/premier-liga/s...</td>\n    </tr>\n    <tr>\n      <th>34</th>\n      <td>65944ea7b6c1148df9a9a6f4</td>\n      <td>SC1</td>\n      <td>scottish-premiership</td>\n      <td>scottish-premiership</td>\n      <td>first_tier</td>\n      <td>domestic_league</td>\n      <td>190</td>\n      <td>Scotland</td>\n      <td>SC1</td>\n      <td>europa</td>\n      <td>https://www.transfermarkt.co.uk/scottish-premi...</td>\n    </tr>\n    <tr>\n      <th>35</th>\n      <td>65944ea7b6c1148df9a9a6f5</td>\n      <td>SCI</td>\n      <td>supercoppa-italiana</td>\n      <td>supercoppa-italiana</td>\n      <td>domestic_super_cup</td>\n      <td>other</td>\n      <td>75</td>\n      <td>Italy</td>\n      <td>IT1</td>\n      <td>europa</td>\n      <td>https://www.transfermarkt.co.uk/supercoppa-ita...</td>\n    </tr>\n    <tr>\n      <th>36</th>\n      <td>65944ea7b6c1148df9a9a6f6</td>\n      <td>BE1</td>\n      <td>jupiler-pro-league</td>\n      <td>jupiler-pro-league</td>\n      <td>first_tier</td>\n      <td>domestic_league</td>\n      <td>19</td>\n      <td>Belgium</td>\n      <td>BE1</td>\n      <td>europa</td>\n      <td>https://www.transfermarkt.co.uk/jupiler-pro-le...</td>\n    </tr>\n    <tr>\n      <th>37</th>\n      <td>65944ea7b6c1148df9a9a6f7</td>\n      <td>CLQ</td>\n      <td>uefa-champions-league-qualifikation</td>\n      <td>uefa-champions-league-qualifikation</td>\n      <td>uefa_champions_league_qualifying</td>\n      <td>international_cup</td>\n      <td>-1</td>\n      <td>NaN</td>\n      <td>NaN</td>\n      <td>europa</td>\n      <td>https://www.transfermarkt.co.uk/uefa-champions...</td>\n    </tr>\n    <tr>\n      <th>38</th>\n      <td>65944ea7b6c1148df9a9a6f8</td>\n      <td>DFL</td>\n      <td>dfl-supercup</td>\n      <td>dfl-supercup</td>\n      <td>domestic_super_cup</td>\n      <td>other</td>\n      <td>40</td>\n      <td>Germany</td>\n      <td>L1</td>\n      <td>europa</td>\n      <td>https://www.transfermarkt.co.uk/dfl-supercup/s...</td>\n    </tr>\n    <tr>\n      <th>39</th>\n      <td>65944ea7b6c1148df9a9a6f9</td>\n      <td>SFA</td>\n      <td>sfa-cup</td>\n      <td>sfa-cup</td>\n      <td>domestic_cup</td>\n      <td>domestic_cup</td>\n      <td>190</td>\n      <td>Scotland</td>\n      <td>SC1</td>\n      <td>europa</td>\n      <td>https://www.transfermarkt.co.uk/sfa-cup/starts...</td>\n    </tr>\n    <tr>\n      <th>40</th>\n      <td>65944ea7b6c1148df9a9a6fa</td>\n      <td>UKRP</td>\n      <td>ukrainian-cup</td>\n      <td>ukrainian-cup</td>\n      <td>domestic_cup</td>\n      <td>domestic_cup</td>\n      <td>177</td>\n      <td>Ukraine</td>\n      <td>UKR1</td>\n      <td>europa</td>\n      <td>https://www.transfermarkt.co.uk/ukrainian-cup/...</td>\n    </tr>\n    <tr>\n      <th>41</th>\n      <td>65944ea7b6c1148df9a9a6fb</td>\n      <td>DFB</td>\n      <td>dfb-pokal</td>\n      <td>dfb-pokal</td>\n      <td>domestic_cup</td>\n      <td>domestic_cup</td>\n      <td>40</td>\n      <td>Germany</td>\n      <td>L1</td>\n      <td>europa</td>\n      <td>https://www.transfermarkt.co.uk/dfb-pokal/star...</td>\n    </tr>\n    <tr>\n      <th>42</th>\n      <td>65944ea7b6c1148df9a9a6fc</td>\n      <td>FRCH</td>\n      <td>trophee-des-champions</td>\n      <td>trophee-des-champions</td>\n      <td>domestic_super_cup</td>\n      <td>other</td>\n      <td>50</td>\n      <td>France</td>\n      <td>FR1</td>\n      <td>europa</td>\n      <td>https://www.transfermarkt.co.uk/trophee-des-ch...</td>\n    </tr>\n  </tbody>\n</table>\n</div>"
     },
     "execution_count": 10,
     "metadata": {},
     "output_type": "execute_result"
    }
   ],
   "source": [
    "#competitions\n",
    "def getCompetitions(db):\n",
    "    try: \n",
    "        collection = db[\"competitions\"]\n",
    "        competitions = list(collection.find())\n",
    "        return competitions\n",
    "    except Exception as e:\n",
    "            print(f\"Retrieval of Competitions failed: {e}\")\n",
    "            return []\n",
    "    \n",
    "CompetitionsInfo = getCompetitions(db)\n",
    "competitions_df = pd.DataFrame(CompetitionsInfo)\n",
    "competitions_df"
   ],
   "metadata": {
    "collapsed": false,
    "ExecuteTime": {
     "end_time": "2024-01-30T11:40:00.058477800Z",
     "start_time": "2024-01-30T11:39:59.990361300Z"
    }
   },
   "id": "cda81cf0e2d6b9d8"
  },
  {
   "cell_type": "markdown",
   "source": [
    "1.AVERAGE AGE OF THE TEAMS OF A CERTAIN COUNTRY"
   ],
   "metadata": {
    "collapsed": false
   },
   "id": "8b09249301863cbd"
  },
  {
   "cell_type": "markdown",
   "source": [
    "a. Function that given a competition id returns the club's names and its average_age."
   ],
   "metadata": {
    "collapsed": false
   },
   "id": "b88415b00a465eaa"
  },
  {
   "cell_type": "code",
   "execution_count": 11,
   "outputs": [
    {
     "data": {
      "text/plain": "                club_code  average_age domestic_competition_id\n3                  as-rom         27.4                     IT1\n32             fc-bologna         25.3                     IT1\n47         udinese-calcio         25.1                     IT1\n78             palermo-fc         25.6                     IT1\n79          inter-mailand         29.0                     IT1\n100         spezia-calcio         24.4                     IT1\n111            ssc-neapel         26.5                     IT1\n116     parma-calcio-1913         24.9                     IT1\n117             cesena-fc         26.0                     IT1\n123                  spal         26.0                     IT1\n124         hellas-verona         25.8                     IT1\n189         carpi-fc-1909         23.6                     IT1\n208   us-salernitana-1919         27.1                     IT1\n260        juventus-turin         26.7                     IT1\n274              ac-monza         27.0                     IT1\n279             lazio-rom         27.4                     IT1\n280      benevento-calcio         26.7                     IT1\n284           us-sassuolo         26.5                     IT1\n290        acn-siena-1904         25.5                     IT1\n291       cagliari-calcio         27.5                     IT1\n301  delfino-pescara-1936         24.6                     IT1\n306            ac-florenz         25.2                     IT1\n309            ac-mailand         26.3                     IT1\n323        catania-calcio         26.0                     IT1\n327          us-cremonese         25.4                     IT1\n328             genua-cfc         27.0                     IT1\n345         chievo-verona          NaN                     IT1\n346      frosinone-calcio         25.4                     IT1\n351        brescia-calcio         25.1                     IT1\n366              us-lecce         24.0                     IT1\n367       sampdoria-genua         24.3                     IT1\n369            as-livorno         24.1                     IT1\n387              fc-turin         25.4                     IT1\n393             fc-empoli         26.0                     IT1\n415            fc-crotone         27.0                     IT1\n420            venezia-fc         25.6                     IT1\n423      atalanta-bergamo         27.2                     IT1",
      "text/html": "<div>\n<style scoped>\n    .dataframe tbody tr th:only-of-type {\n        vertical-align: middle;\n    }\n\n    .dataframe tbody tr th {\n        vertical-align: top;\n    }\n\n    .dataframe thead th {\n        text-align: right;\n    }\n</style>\n<table border=\"1\" class=\"dataframe\">\n  <thead>\n    <tr style=\"text-align: right;\">\n      <th></th>\n      <th>club_code</th>\n      <th>average_age</th>\n      <th>domestic_competition_id</th>\n    </tr>\n  </thead>\n  <tbody>\n    <tr>\n      <th>3</th>\n      <td>as-rom</td>\n      <td>27.4</td>\n      <td>IT1</td>\n    </tr>\n    <tr>\n      <th>32</th>\n      <td>fc-bologna</td>\n      <td>25.3</td>\n      <td>IT1</td>\n    </tr>\n    <tr>\n      <th>47</th>\n      <td>udinese-calcio</td>\n      <td>25.1</td>\n      <td>IT1</td>\n    </tr>\n    <tr>\n      <th>78</th>\n      <td>palermo-fc</td>\n      <td>25.6</td>\n      <td>IT1</td>\n    </tr>\n    <tr>\n      <th>79</th>\n      <td>inter-mailand</td>\n      <td>29.0</td>\n      <td>IT1</td>\n    </tr>\n    <tr>\n      <th>100</th>\n      <td>spezia-calcio</td>\n      <td>24.4</td>\n      <td>IT1</td>\n    </tr>\n    <tr>\n      <th>111</th>\n      <td>ssc-neapel</td>\n      <td>26.5</td>\n      <td>IT1</td>\n    </tr>\n    <tr>\n      <th>116</th>\n      <td>parma-calcio-1913</td>\n      <td>24.9</td>\n      <td>IT1</td>\n    </tr>\n    <tr>\n      <th>117</th>\n      <td>cesena-fc</td>\n      <td>26.0</td>\n      <td>IT1</td>\n    </tr>\n    <tr>\n      <th>123</th>\n      <td>spal</td>\n      <td>26.0</td>\n      <td>IT1</td>\n    </tr>\n    <tr>\n      <th>124</th>\n      <td>hellas-verona</td>\n      <td>25.8</td>\n      <td>IT1</td>\n    </tr>\n    <tr>\n      <th>189</th>\n      <td>carpi-fc-1909</td>\n      <td>23.6</td>\n      <td>IT1</td>\n    </tr>\n    <tr>\n      <th>208</th>\n      <td>us-salernitana-1919</td>\n      <td>27.1</td>\n      <td>IT1</td>\n    </tr>\n    <tr>\n      <th>260</th>\n      <td>juventus-turin</td>\n      <td>26.7</td>\n      <td>IT1</td>\n    </tr>\n    <tr>\n      <th>274</th>\n      <td>ac-monza</td>\n      <td>27.0</td>\n      <td>IT1</td>\n    </tr>\n    <tr>\n      <th>279</th>\n      <td>lazio-rom</td>\n      <td>27.4</td>\n      <td>IT1</td>\n    </tr>\n    <tr>\n      <th>280</th>\n      <td>benevento-calcio</td>\n      <td>26.7</td>\n      <td>IT1</td>\n    </tr>\n    <tr>\n      <th>284</th>\n      <td>us-sassuolo</td>\n      <td>26.5</td>\n      <td>IT1</td>\n    </tr>\n    <tr>\n      <th>290</th>\n      <td>acn-siena-1904</td>\n      <td>25.5</td>\n      <td>IT1</td>\n    </tr>\n    <tr>\n      <th>291</th>\n      <td>cagliari-calcio</td>\n      <td>27.5</td>\n      <td>IT1</td>\n    </tr>\n    <tr>\n      <th>301</th>\n      <td>delfino-pescara-1936</td>\n      <td>24.6</td>\n      <td>IT1</td>\n    </tr>\n    <tr>\n      <th>306</th>\n      <td>ac-florenz</td>\n      <td>25.2</td>\n      <td>IT1</td>\n    </tr>\n    <tr>\n      <th>309</th>\n      <td>ac-mailand</td>\n      <td>26.3</td>\n      <td>IT1</td>\n    </tr>\n    <tr>\n      <th>323</th>\n      <td>catania-calcio</td>\n      <td>26.0</td>\n      <td>IT1</td>\n    </tr>\n    <tr>\n      <th>327</th>\n      <td>us-cremonese</td>\n      <td>25.4</td>\n      <td>IT1</td>\n    </tr>\n    <tr>\n      <th>328</th>\n      <td>genua-cfc</td>\n      <td>27.0</td>\n      <td>IT1</td>\n    </tr>\n    <tr>\n      <th>345</th>\n      <td>chievo-verona</td>\n      <td>NaN</td>\n      <td>IT1</td>\n    </tr>\n    <tr>\n      <th>346</th>\n      <td>frosinone-calcio</td>\n      <td>25.4</td>\n      <td>IT1</td>\n    </tr>\n    <tr>\n      <th>351</th>\n      <td>brescia-calcio</td>\n      <td>25.1</td>\n      <td>IT1</td>\n    </tr>\n    <tr>\n      <th>366</th>\n      <td>us-lecce</td>\n      <td>24.0</td>\n      <td>IT1</td>\n    </tr>\n    <tr>\n      <th>367</th>\n      <td>sampdoria-genua</td>\n      <td>24.3</td>\n      <td>IT1</td>\n    </tr>\n    <tr>\n      <th>369</th>\n      <td>as-livorno</td>\n      <td>24.1</td>\n      <td>IT1</td>\n    </tr>\n    <tr>\n      <th>387</th>\n      <td>fc-turin</td>\n      <td>25.4</td>\n      <td>IT1</td>\n    </tr>\n    <tr>\n      <th>393</th>\n      <td>fc-empoli</td>\n      <td>26.0</td>\n      <td>IT1</td>\n    </tr>\n    <tr>\n      <th>415</th>\n      <td>fc-crotone</td>\n      <td>27.0</td>\n      <td>IT1</td>\n    </tr>\n    <tr>\n      <th>420</th>\n      <td>venezia-fc</td>\n      <td>25.6</td>\n      <td>IT1</td>\n    </tr>\n    <tr>\n      <th>423</th>\n      <td>atalanta-bergamo</td>\n      <td>27.2</td>\n      <td>IT1</td>\n    </tr>\n  </tbody>\n</table>\n</div>"
     },
     "execution_count": 11,
     "metadata": {},
     "output_type": "execute_result"
    }
   ],
   "source": [
    "clubs_df.set_index('club_id')\n",
    "dfClubAverage = clubs_df[['club_code', 'average_age','domestic_competition_id']]\n",
    "dfItaly = dfClubAverage[dfClubAverage['domestic_competition_id'] == 'IT1']\n",
    "dfItaly"
   ],
   "metadata": {
    "collapsed": false,
    "ExecuteTime": {
     "end_time": "2024-01-30T11:40:00.126082Z",
     "start_time": "2024-01-30T11:40:00.014015900Z"
    }
   },
   "id": "76c2040dd2eca9fd"
  },
  {
   "cell_type": "markdown",
   "source": [
    "Plotting the data in a bar plot:"
   ],
   "metadata": {
    "collapsed": false
   },
   "id": "f95cdcdec746ca29"
  },
  {
   "cell_type": "code",
   "execution_count": 12,
   "outputs": [
    {
     "data": {
      "text/plain": "<Figure size 640x480 with 1 Axes>",
      "image/png": "[encoded data removed]"
     },
     "metadata": {},
     "output_type": "display_data"
    },
    {
     "data": {
      "text/plain": "<Figure size 1500x800 with 0 Axes>"
     },
     "metadata": {},
     "output_type": "display_data"
    }
   ],
   "source": [
    "sns.barplot(x='club_code', y='average_age', data=dfItaly)\n",
    "plt.title('Average Age per Club')\n",
    "plt.xlabel('Club Code')\n",
    "plt.ylabel('Average Age')\n",
    "plt.xticks(rotation=45, ha=\"right\")\n",
    "plt.figure(figsize=(15, 8))\n",
    "plt.show()"
   ],
   "metadata": {
    "collapsed": false,
    "ExecuteTime": {
     "end_time": "2024-01-30T11:40:00.672992400Z",
     "start_time": "2024-01-30T11:40:00.036336800Z"
    }
   },
   "id": "b729cb91883ab4e9"
  },
  {
   "cell_type": "markdown",
   "source": [
    "2.FOR A GIVEN TEAM THEIR GOALS AT HOME AND AWAY DURING A YEAR"
   ],
   "metadata": {
    "collapsed": false
   },
   "id": "8f5265444ef38b36"
  },
  {
   "cell_type": "code",
   "execution_count": 36,
   "outputs": [
    {
     "data": {
      "text/plain": "       season              home_club_name  home_club_goals  away_club_goals\n1374     2012  Real Madrid Club de Fútbol                2                0\n5124     2012  Real Madrid Club de Fútbol                5                1\n5136     2012  Real Madrid Club de Fútbol                3                2\n5143     2012  Real Madrid Club de Fútbol                4                0\n7140     2012  Real Madrid Club de Fútbol                5                1\n10875    2012  Real Madrid Club de Fútbol                6                2\n12621    2012  Real Madrid Club de Fútbol                2                2\n12623    2012  Real Madrid Club de Fútbol                1                1\n12625    2012  Real Madrid Club de Fútbol                2                0\n18335    2012  Real Madrid Club de Fútbol                4                0\n18340    2012  Real Madrid Club de Fútbol                5                1\n22016    2012  Real Madrid Club de Fútbol                3                0\n22020    2012  Real Madrid Club de Fútbol                2                1\n25936    2012  Real Madrid Club de Fútbol                2                0\n26369    2012  Real Madrid Club de Fútbol                4                3\n31595    2012  Real Madrid Club de Fútbol                3                0\n35345    2012  Real Madrid Club de Fútbol                3                1\n39066    2012  Real Madrid Club de Fútbol                2                2\n39067    2012  Real Madrid Club de Fútbol                4                0\n39074    2012  Real Madrid Club de Fútbol                4                1\n46670    2012  Real Madrid Club de Fútbol                4                3\n50377    2012  Real Madrid Club de Fútbol                5                2\n54168    2012  Real Madrid Club de Fútbol                2                0\n54173    2012  Real Madrid Club de Fútbol                1                1\n54184    2012  Real Madrid Club de Fútbol                1                1\n57497    2012  Real Madrid Club de Fútbol                4                1\n57513    2012  Real Madrid Club de Fútbol                3                0\n59901    2012  Real Madrid Club de Fútbol                4                2\n59904    2012  Real Madrid Club de Fútbol                2                1\n59916    2012  Real Madrid Club de Fútbol                2                0",
      "text/html": "<div>\n<style scoped>\n    .dataframe tbody tr th:only-of-type {\n        vertical-align: middle;\n    }\n\n    .dataframe tbody tr th {\n        vertical-align: top;\n    }\n\n    .dataframe thead th {\n        text-align: right;\n    }\n</style>\n<table border=\"1\" class=\"dataframe\">\n  <thead>\n    <tr style=\"text-align: right;\">\n      <th></th>\n      <th>season</th>\n      <th>home_club_name</th>\n      <th>home_club_goals</th>\n      <th>away_club_goals</th>\n    </tr>\n  </thead>\n  <tbody>\n    <tr>\n      <th>1374</th>\n      <td>2012</td>\n      <td>Real Madrid Club de Fútbol</td>\n      <td>2</td>\n      <td>0</td>\n    </tr>\n    <tr>\n      <th>5124</th>\n      <td>2012</td>\n      <td>Real Madrid Club de Fútbol</td>\n      <td>5</td>\n      <td>1</td>\n    </tr>\n    <tr>\n      <th>5136</th>\n      <td>2012</td>\n      <td>Real Madrid Club de Fútbol</td>\n      <td>3</td>\n      <td>2</td>\n    </tr>\n    <tr>\n      <th>5143</th>\n      <td>2012</td>\n      <td>Real Madrid Club de Fútbol</td>\n      <td>4</td>\n      <td>0</td>\n    </tr>\n    <tr>\n      <th>7140</th>\n      <td>2012</td>\n      <td>Real Madrid Club de Fútbol</td>\n      <td>5</td>\n      <td>1</td>\n    </tr>\n    <tr>\n      <th>10875</th>\n      <td>2012</td>\n      <td>Real Madrid Club de Fútbol</td>\n      <td>6</td>\n      <td>2</td>\n    </tr>\n    <tr>\n      <th>12621</th>\n      <td>2012</td>\n      <td>Real Madrid Club de Fútbol</td>\n      <td>2</td>\n      <td>2</td>\n    </tr>\n    <tr>\n      <th>12623</th>\n      <td>2012</td>\n      <td>Real Madrid Club de Fútbol</td>\n      <td>1</td>\n      <td>1</td>\n    </tr>\n    <tr>\n      <th>12625</th>\n      <td>2012</td>\n      <td>Real Madrid Club de Fútbol</td>\n      <td>2</td>\n      <td>0</td>\n    </tr>\n    <tr>\n      <th>18335</th>\n      <td>2012</td>\n      <td>Real Madrid Club de Fútbol</td>\n      <td>4</td>\n      <td>0</td>\n    </tr>\n    <tr>\n      <th>18340</th>\n      <td>2012</td>\n      <td>Real Madrid Club de Fútbol</td>\n      <td>5</td>\n      <td>1</td>\n    </tr>\n    <tr>\n      <th>22016</th>\n      <td>2012</td>\n      <td>Real Madrid Club de Fútbol</td>\n      <td>3</td>\n      <td>0</td>\n    </tr>\n    <tr>\n      <th>22020</th>\n      <td>2012</td>\n      <td>Real Madrid Club de Fútbol</td>\n      <td>2</td>\n      <td>1</td>\n    </tr>\n    <tr>\n      <th>25936</th>\n      <td>2012</td>\n      <td>Real Madrid Club de Fútbol</td>\n      <td>2</td>\n      <td>0</td>\n    </tr>\n    <tr>\n      <th>26369</th>\n      <td>2012</td>\n      <td>Real Madrid Club de Fútbol</td>\n      <td>4</td>\n      <td>3</td>\n    </tr>\n    <tr>\n      <th>31595</th>\n      <td>2012</td>\n      <td>Real Madrid Club de Fútbol</td>\n      <td>3</td>\n      <td>0</td>\n    </tr>\n    <tr>\n      <th>35345</th>\n      <td>2012</td>\n      <td>Real Madrid Club de Fútbol</td>\n      <td>3</td>\n      <td>1</td>\n    </tr>\n    <tr>\n      <th>39066</th>\n      <td>2012</td>\n      <td>Real Madrid Club de Fútbol</td>\n      <td>2</td>\n      <td>2</td>\n    </tr>\n    <tr>\n      <th>39067</th>\n      <td>2012</td>\n      <td>Real Madrid Club de Fútbol</td>\n      <td>4</td>\n      <td>0</td>\n    </tr>\n    <tr>\n      <th>39074</th>\n      <td>2012</td>\n      <td>Real Madrid Club de Fútbol</td>\n      <td>4</td>\n      <td>1</td>\n    </tr>\n    <tr>\n      <th>46670</th>\n      <td>2012</td>\n      <td>Real Madrid Club de Fútbol</td>\n      <td>4</td>\n      <td>3</td>\n    </tr>\n    <tr>\n      <th>50377</th>\n      <td>2012</td>\n      <td>Real Madrid Club de Fútbol</td>\n      <td>5</td>\n      <td>2</td>\n    </tr>\n    <tr>\n      <th>54168</th>\n      <td>2012</td>\n      <td>Real Madrid Club de Fútbol</td>\n      <td>2</td>\n      <td>0</td>\n    </tr>\n    <tr>\n      <th>54173</th>\n      <td>2012</td>\n      <td>Real Madrid Club de Fútbol</td>\n      <td>1</td>\n      <td>1</td>\n    </tr>\n    <tr>\n      <th>54184</th>\n      <td>2012</td>\n      <td>Real Madrid Club de Fútbol</td>\n      <td>1</td>\n      <td>1</td>\n    </tr>\n    <tr>\n      <th>57497</th>\n      <td>2012</td>\n      <td>Real Madrid Club de Fútbol</td>\n      <td>4</td>\n      <td>1</td>\n    </tr>\n    <tr>\n      <th>57513</th>\n      <td>2012</td>\n      <td>Real Madrid Club de Fútbol</td>\n      <td>3</td>\n      <td>0</td>\n    </tr>\n    <tr>\n      <th>59901</th>\n      <td>2012</td>\n      <td>Real Madrid Club de Fútbol</td>\n      <td>4</td>\n      <td>2</td>\n    </tr>\n    <tr>\n      <th>59904</th>\n      <td>2012</td>\n      <td>Real Madrid Club de Fútbol</td>\n      <td>2</td>\n      <td>1</td>\n    </tr>\n    <tr>\n      <th>59916</th>\n      <td>2012</td>\n      <td>Real Madrid Club de Fútbol</td>\n      <td>2</td>\n      <td>0</td>\n    </tr>\n  </tbody>\n</table>\n</div>"
     },
     "execution_count": 36,
     "metadata": {},
     "output_type": "execute_result"
    }
   ],
   "source": [
    "dfGamesHomeGoals = games_df[['season', 'home_club_name', 'home_club_goals', 'away_club_goals']]\n",
    "dfRealMadridHome = dfGamesHomeGoals[(dfGamesHomeGoals['home_club_name'] == 'Real Madrid Club de Fútbol') & (dfGamesHomeGoals['season'] == 2012)]\n",
    "dfRealMadridHome"
   ],
   "metadata": {
    "collapsed": false,
    "ExecuteTime": {
     "end_time": "2024-01-30T12:08:25.822200400Z",
     "start_time": "2024-01-30T12:08:25.734270600Z"
    }
   },
   "id": "808aaa87d9a2ec9f"
  },
  {
   "cell_type": "code",
   "execution_count": 59,
   "outputs": [
    {
     "data": {
      "text/plain": "   Season                        Team  Total_Goal_Home  Total_Goal_Away\n0    2012  Real Madrid Club de Fútbol               94               29",
      "text/html": "<div>\n<style scoped>\n    .dataframe tbody tr th:only-of-type {\n        vertical-align: middle;\n    }\n\n    .dataframe tbody tr th {\n        vertical-align: top;\n    }\n\n    .dataframe thead th {\n        text-align: right;\n    }\n</style>\n<table border=\"1\" class=\"dataframe\">\n  <thead>\n    <tr style=\"text-align: right;\">\n      <th></th>\n      <th>Season</th>\n      <th>Team</th>\n      <th>Total_Goal_Home</th>\n      <th>Total_Goal_Away</th>\n    </tr>\n  </thead>\n  <tbody>\n    <tr>\n      <th>0</th>\n      <td>2012</td>\n      <td>Real Madrid Club de Fútbol</td>\n      <td>94</td>\n      <td>29</td>\n    </tr>\n  </tbody>\n</table>\n</div>"
     },
     "execution_count": 59,
     "metadata": {},
     "output_type": "execute_result"
    }
   ],
   "source": [
    "total_home_goals = pd.DataFrame(\n",
    "    {'Season': [dfRealMadridHome['season'].iloc[0]], 'Team': [dfRealMadridHome['home_club_name'].iloc[0]], 'Total_Goal_Home': [dfRealMadridHome['home_club_goals'].sum()],\n",
    "     'Total_Goal_Away': [dfRealMadridHome['away_club_goals'].sum()]})\n",
    "total_home_goals"
   ],
   "metadata": {
    "collapsed": false,
    "ExecuteTime": {
     "end_time": "2024-01-30T12:25:41.741035800Z",
     "start_time": "2024-01-30T12:25:41.638107Z"
    }
   },
   "id": "e2f40569c73240eb"
  },
  {
   "cell_type": "code",
   "execution_count": 60,
   "outputs": [
    {
     "data": {
      "text/plain": "<Figure size 800x800 with 1 Axes>",
      "image/png": "[encoded data removed]"
     },
     "metadata": {},
     "output_type": "display_data"
    }
   ],
   "source": [
    "plt.figure(figsize=(8, 8))\n",
    "plt.pie([total_home_goals['Total_Goal_Home'].values[0], total_home_goals['Total_Goal_Away'].values[0]], labels=['Home Goals', 'Visitant Goals'], autopct='%1.1f%%', startangle=90)\n",
    "plt.title('Distribution of Goals')\n",
    "plt.show()"
   ],
   "metadata": {
    "collapsed": false,
    "ExecuteTime": {
     "end_time": "2024-01-30T12:25:42.440218100Z",
     "start_time": "2024-01-30T12:25:42.280110100Z"
    }
   },
   "id": "5b0c655bffaef54b"
  },
  {
   "cell_type": "code",
   "execution_count": 61,
   "outputs": [
    {
     "data": {
      "text/plain": "       season              away_club_name  home_club_goals  away_club_goals\n1183     2012  Real Madrid Club de Fútbol                3                2\n1184     2012  Real Madrid Club de Fútbol                4                1\n4851     2012  Real Madrid Club de Fútbol                1                2\n6945     2012  Real Madrid Club de Fútbol                1                2\n6946     2012  Real Madrid Club de Fútbol                2                3\n10659    2012  Real Madrid Club de Fútbol                3                2\n10660    2012  Real Madrid Club de Fútbol                1                0\n12403    2012  Real Madrid Club de Fútbol                1                1\n12407    2012  Real Madrid Club de Fútbol                2                1\n14377    2012  Real Madrid Club de Fútbol                1                1\n14378    2012  Real Madrid Club de Fútbol                1                0\n21813    2012  Real Madrid Club de Fútbol                3                2\n21827    2012  Real Madrid Club de Fútbol                1                1\n25934    2012  Real Madrid Club de Fútbol                3                3\n31397    2012  Real Madrid Club de Fútbol                0                0\n35056    2012  Real Madrid Club de Fútbol                0                5\n38865    2012  Real Madrid Club de Fútbol                2                1\n38887    2012  Real Madrid Club de Fútbol                1                3\n46464    2012  Real Madrid Club de Fútbol                2                1\n50175    2012  Real Madrid Club de Fútbol                1                2\n50176    2012  Real Madrid Club de Fútbol                1                1\n50189    2012  Real Madrid Club de Fútbol                2                1\n53958    2012  Real Madrid Club de Fútbol                2                2\n53962    2012  Real Madrid Club de Fútbol                1                2\n53963    2012  Real Madrid Club de Fútbol                0                3\n53975    2012  Real Madrid Club de Fútbol                1                4\n56733    2012  Real Madrid Club de Fútbol                1                0\n57816    2012  Real Madrid Club de Fútbol                1                4\n58017    2012  Real Madrid Club de Fútbol                0                2\n59676    2012  Real Madrid Club de Fútbol                0                5\n59678    2012  Real Madrid Club de Fútbol                1                2",
      "text/html": "<div>\n<style scoped>\n    .dataframe tbody tr th:only-of-type {\n        vertical-align: middle;\n    }\n\n    .dataframe tbody tr th {\n        vertical-align: top;\n    }\n\n    .dataframe thead th {\n        text-align: right;\n    }\n</style>\n<table border=\"1\" class=\"dataframe\">\n  <thead>\n    <tr style=\"text-align: right;\">\n      <th></th>\n      <th>season</th>\n      <th>away_club_name</th>\n      <th>home_club_goals</th>\n      <th>away_club_goals</th>\n    </tr>\n  </thead>\n  <tbody>\n    <tr>\n      <th>1183</th>\n      <td>2012</td>\n      <td>Real Madrid Club de Fútbol</td>\n      <td>3</td>\n      <td>2</td>\n    </tr>\n    <tr>\n      <th>1184</th>\n      <td>2012</td>\n      <td>Real Madrid Club de Fútbol</td>\n      <td>4</td>\n      <td>1</td>\n    </tr>\n    <tr>\n      <th>4851</th>\n      <td>2012</td>\n      <td>Real Madrid Club de Fútbol</td>\n      <td>1</td>\n      <td>2</td>\n    </tr>\n    <tr>\n      <th>6945</th>\n      <td>2012</td>\n      <td>Real Madrid Club de Fútbol</td>\n      <td>1</td>\n      <td>2</td>\n    </tr>\n    <tr>\n      <th>6946</th>\n      <td>2012</td>\n      <td>Real Madrid Club de Fútbol</td>\n      <td>2</td>\n      <td>3</td>\n    </tr>\n    <tr>\n      <th>10659</th>\n      <td>2012</td>\n      <td>Real Madrid Club de Fútbol</td>\n      <td>3</td>\n      <td>2</td>\n    </tr>\n    <tr>\n      <th>10660</th>\n      <td>2012</td>\n      <td>Real Madrid Club de Fútbol</td>\n      <td>1</td>\n      <td>0</td>\n    </tr>\n    <tr>\n      <th>12403</th>\n      <td>2012</td>\n      <td>Real Madrid Club de Fútbol</td>\n      <td>1</td>\n      <td>1</td>\n    </tr>\n    <tr>\n      <th>12407</th>\n      <td>2012</td>\n      <td>Real Madrid Club de Fútbol</td>\n      <td>2</td>\n      <td>1</td>\n    </tr>\n    <tr>\n      <th>14377</th>\n      <td>2012</td>\n      <td>Real Madrid Club de Fútbol</td>\n      <td>1</td>\n      <td>1</td>\n    </tr>\n    <tr>\n      <th>14378</th>\n      <td>2012</td>\n      <td>Real Madrid Club de Fútbol</td>\n      <td>1</td>\n      <td>0</td>\n    </tr>\n    <tr>\n      <th>21813</th>\n      <td>2012</td>\n      <td>Real Madrid Club de Fútbol</td>\n      <td>3</td>\n      <td>2</td>\n    </tr>\n    <tr>\n      <th>21827</th>\n      <td>2012</td>\n      <td>Real Madrid Club de Fútbol</td>\n      <td>1</td>\n      <td>1</td>\n    </tr>\n    <tr>\n      <th>25934</th>\n      <td>2012</td>\n      <td>Real Madrid Club de Fútbol</td>\n      <td>3</td>\n      <td>3</td>\n    </tr>\n    <tr>\n      <th>31397</th>\n      <td>2012</td>\n      <td>Real Madrid Club de Fútbol</td>\n      <td>0</td>\n      <td>0</td>\n    </tr>\n    <tr>\n      <th>35056</th>\n      <td>2012</td>\n      <td>Real Madrid Club de Fútbol</td>\n      <td>0</td>\n      <td>5</td>\n    </tr>\n    <tr>\n      <th>38865</th>\n      <td>2012</td>\n      <td>Real Madrid Club de Fútbol</td>\n      <td>2</td>\n      <td>1</td>\n    </tr>\n    <tr>\n      <th>38887</th>\n      <td>2012</td>\n      <td>Real Madrid Club de Fútbol</td>\n      <td>1</td>\n      <td>3</td>\n    </tr>\n    <tr>\n      <th>46464</th>\n      <td>2012</td>\n      <td>Real Madrid Club de Fútbol</td>\n      <td>2</td>\n      <td>1</td>\n    </tr>\n    <tr>\n      <th>50175</th>\n      <td>2012</td>\n      <td>Real Madrid Club de Fútbol</td>\n      <td>1</td>\n      <td>2</td>\n    </tr>\n    <tr>\n      <th>50176</th>\n      <td>2012</td>\n      <td>Real Madrid Club de Fútbol</td>\n      <td>1</td>\n      <td>1</td>\n    </tr>\n    <tr>\n      <th>50189</th>\n      <td>2012</td>\n      <td>Real Madrid Club de Fútbol</td>\n      <td>2</td>\n      <td>1</td>\n    </tr>\n    <tr>\n      <th>53958</th>\n      <td>2012</td>\n      <td>Real Madrid Club de Fútbol</td>\n      <td>2</td>\n      <td>2</td>\n    </tr>\n    <tr>\n      <th>53962</th>\n      <td>2012</td>\n      <td>Real Madrid Club de Fútbol</td>\n      <td>1</td>\n      <td>2</td>\n    </tr>\n    <tr>\n      <th>53963</th>\n      <td>2012</td>\n      <td>Real Madrid Club de Fútbol</td>\n      <td>0</td>\n      <td>3</td>\n    </tr>\n    <tr>\n      <th>53975</th>\n      <td>2012</td>\n      <td>Real Madrid Club de Fútbol</td>\n      <td>1</td>\n      <td>4</td>\n    </tr>\n    <tr>\n      <th>56733</th>\n      <td>2012</td>\n      <td>Real Madrid Club de Fútbol</td>\n      <td>1</td>\n      <td>0</td>\n    </tr>\n    <tr>\n      <th>57816</th>\n      <td>2012</td>\n      <td>Real Madrid Club de Fútbol</td>\n      <td>1</td>\n      <td>4</td>\n    </tr>\n    <tr>\n      <th>58017</th>\n      <td>2012</td>\n      <td>Real Madrid Club de Fútbol</td>\n      <td>0</td>\n      <td>2</td>\n    </tr>\n    <tr>\n      <th>59676</th>\n      <td>2012</td>\n      <td>Real Madrid Club de Fútbol</td>\n      <td>0</td>\n      <td>5</td>\n    </tr>\n    <tr>\n      <th>59678</th>\n      <td>2012</td>\n      <td>Real Madrid Club de Fútbol</td>\n      <td>1</td>\n      <td>2</td>\n    </tr>\n  </tbody>\n</table>\n</div>"
     },
     "execution_count": 61,
     "metadata": {},
     "output_type": "execute_result"
    }
   ],
   "source": [
    "dfGamesAwayGoals = games_df[['season', 'away_club_name', 'home_club_goals', 'away_club_goals']]\n",
    "dfRealMadridAway = dfGamesAwayGoals[(dfGamesAwayGoals['away_club_name'] == 'Real Madrid Club de Fútbol') & (dfGamesAwayGoals['season'] == 2012)]\n",
    "dfRealMadridAway"
   ],
   "metadata": {
    "collapsed": false,
    "ExecuteTime": {
     "end_time": "2024-01-30T12:25:43.395176100Z",
     "start_time": "2024-01-30T12:25:43.289134800Z"
    }
   },
   "id": "7fd1e0bff3255e20"
  },
  {
   "cell_type": "code",
   "execution_count": 62,
   "outputs": [
    {
     "data": {
      "text/plain": "   Season                        Team  Total_Goal_Home  Total_Goal_Away\n0    2012  Real Madrid Club de Fútbol               43               59",
      "text/html": "<div>\n<style scoped>\n    .dataframe tbody tr th:only-of-type {\n        vertical-align: middle;\n    }\n\n    .dataframe tbody tr th {\n        vertical-align: top;\n    }\n\n    .dataframe thead th {\n        text-align: right;\n    }\n</style>\n<table border=\"1\" class=\"dataframe\">\n  <thead>\n    <tr style=\"text-align: right;\">\n      <th></th>\n      <th>Season</th>\n      <th>Team</th>\n      <th>Total_Goal_Home</th>\n      <th>Total_Goal_Away</th>\n    </tr>\n  </thead>\n  <tbody>\n    <tr>\n      <th>0</th>\n      <td>2012</td>\n      <td>Real Madrid Club de Fútbol</td>\n      <td>43</td>\n      <td>59</td>\n    </tr>\n  </tbody>\n</table>\n</div>"
     },
     "execution_count": 62,
     "metadata": {},
     "output_type": "execute_result"
    }
   ],
   "source": [
    "total_away_goals = pd.DataFrame(\n",
    "    {'Season': [dfRealMadridAway['season'].iloc[0]], 'Team': [dfRealMadridAway['away_club_name'].iloc[0]], 'Total_Goal_Home': [dfRealMadridAway['home_club_goals'].sum()],\n",
    "     'Total_Goal_Away': [dfRealMadridAway['away_club_goals'].sum()]})\n",
    "total_away_goals"
   ],
   "metadata": {
    "collapsed": false,
    "ExecuteTime": {
     "end_time": "2024-01-30T12:25:44.577127600Z",
     "start_time": "2024-01-30T12:25:44.485848900Z"
    }
   },
   "id": "8b15c26dea73f115"
  },
  {
   "cell_type": "code",
   "execution_count": 63,
   "outputs": [
    {
     "data": {
      "text/plain": "<Figure size 800x800 with 1 Axes>",
      "image/png": "[encoded data removed]"
     },
     "metadata": {},
     "output_type": "display_data"
    }
   ],
   "source": [
    "plt.figure(figsize=(8, 8))\n",
    "plt.pie([total_away_goals['Total_Goal_Home'].values[0], total_away_goals['Total_Goal_Away'].values[0]], labels=['Home Goals', 'Visitant Goals'], autopct='%1.1f%%', startangle=90)\n",
    "plt.title('Distribution of Goals')\n",
    "plt.show()"
   ],
   "metadata": {
    "collapsed": false,
    "ExecuteTime": {
     "end_time": "2024-01-30T12:25:46.145660400Z",
     "start_time": "2024-01-30T12:25:46.020602400Z"
    }
   },
   "id": "4661aadbe066a014"
  },
  {
   "cell_type": "markdown",
   "source": [
    "3. NUMBER OF NATIONAL PLAYERS OF THE TEAMS OF A CERTAIN COMPETITION"
   ],
   "metadata": {
    "collapsed": false
   },
   "id": "659452bbb5c69ad1"
  },
  {
   "cell_type": "code",
   "outputs": [],
   "source": [
    "competition = \"IT1\""
   ],
   "metadata": {
    "collapsed": false,
    "ExecuteTime": {
     "start_time": "2024-01-30T11:40:03.752864800Z"
    }
   },
   "id": "9352eb956dd0493f",
   "execution_count": null
  },
  {
   "cell_type": "markdown",
   "source": [
    "Function that given a competition returns the name and the numer of the national players in the teams of the competition"
   ],
   "metadata": {
    "collapsed": false
   },
   "id": "6175f9bf01574384"
  },
  {
   "cell_type": "code",
   "execution_count": null,
   "outputs": [],
   "source": [
    "def getClubNameAndNumberOfNationalPlayers(db, competition):\n",
    "    try:\n",
    "        collection = db[\"clubs\"]\n",
    "        query = {\"domestic_competition_id\": competition}\n",
    "        clubs = list(collection.find(query))\n",
    "        club_info_list = [{\"name\": item.get(\"name\"), \"national_team_players\": item.get(\"national_team_players\")} for item in clubs]\n",
    "        return club_info_list\n",
    "    except Exception as e:\n",
    "            print(f\"Retrieval of Clubs failed: {e}\")\n",
    "            return []"
   ],
   "metadata": {
    "collapsed": false,
    "ExecuteTime": {
     "start_time": "2024-01-30T11:40:03.755855300Z"
    }
   },
   "id": "8d125586c66f1941"
  },
  {
   "cell_type": "markdown",
   "source": [
    "Given a tuple of the name of the teams and the number of national player it draws a horizontal bar chat"
   ],
   "metadata": {
    "collapsed": false
   },
   "id": "87dc28041040921a"
  },
  {
   "cell_type": "code",
   "execution_count": null,
   "outputs": [],
   "source": [
    "def plotHorizontalBarChart(data, competition):\n",
    "    names = [item[\"name\"] for item in data]\n",
    "    players = [item[\"national_team_players\"] for item in data]\n",
    "\n",
    "    \n",
    "    plt.figure(figsize=(10, len(data) // 2))\n",
    "\n",
    "    plt.barh(names, players)\n",
    "    plt.xlabel(\"National Team Players\")\n",
    "    plt.ylabel(\"Name\")\n",
    "    plt.title(f\"National Team Players by Name in {competition}\")\n",
    "    plt.show()\n"
   ],
   "metadata": {
    "collapsed": false,
    "ExecuteTime": {
     "start_time": "2024-01-30T11:40:03.758849200Z"
    }
   },
   "id": "cc3610a5d355b779"
  },
  {
   "cell_type": "code",
   "execution_count": null,
   "outputs": [],
   "source": [
    "data = getClubNameAndNumberOfNationalPlayers(db, competition)\n",
    "plotHorizontalBarChart(data, competition)"
   ],
   "metadata": {
    "collapsed": false,
    "ExecuteTime": {
     "start_time": "2024-01-30T11:40:03.761094900Z"
    }
   },
   "id": "ca77e563ab5accf8"
  },
  {
   "cell_type": "markdown",
   "source": [
    "4. THE MOST VALUE PLAYERS IN A COMPETICION"
   ],
   "metadata": {
    "collapsed": false
   },
   "id": "fed2f1509ecf5d3e"
  },
  {
   "cell_type": "code",
   "outputs": [],
   "source": [
    "competition = \"ES1\""
   ],
   "metadata": {
    "collapsed": false,
    "ExecuteTime": {
     "start_time": "2024-01-30T11:40:03.764085100Z"
    }
   },
   "id": "af39907d11626655",
   "execution_count": null
  },
  {
   "cell_type": "markdown",
   "source": [
    "Function that returns the name of a player by his ID"
   ],
   "metadata": {
    "collapsed": false
   },
   "id": "c6be4258aabade30"
  },
  {
   "cell_type": "code",
   "outputs": [],
   "source": [
    "def playerName(db, id):\n",
    "     try:\n",
    "        collection = db[\"players\"]\n",
    "        query = {\"player_id\": id}\n",
    "        player_name = list(collection.find(query, {\"name\": 1}))\n",
    "        return player_name[0].get(\"name\")\n",
    "     except Exception as e:\n",
    "        print(f\"Retrieval of Players failed: {e}\")\n",
    "        return []"
   ],
   "metadata": {
    "collapsed": false,
    "ExecuteTime": {
     "end_time": "2024-01-30T11:40:03.774806400Z",
     "start_time": "2024-01-30T11:40:03.767075Z"
    }
   },
   "id": "57984ba9be7e0c5e",
   "execution_count": null
  },
  {
   "cell_type": "markdown",
   "source": [
    "Function that given a competition returns the value, name and the year of the value for the first 200 highest values of players in a competition"
   ],
   "metadata": {
    "collapsed": false
   },
   "id": "aa59de173aa50e92"
  },
  {
   "cell_type": "code",
   "outputs": [],
   "source": [
    "def getMoreValuePlayerCompetition(db, competition):\n",
    "    try:\n",
    "        collection = db[\"player_valuations\"]\n",
    "        query = {\"player_club_domestic_competition_id\": competition}\n",
    "        value_players = list(collection.find(query).sort(\"market_value_in_eur\", -1).limit(200))\n",
    "        name_value = [{\"name\": playerName(db, item.get(\"player_id\")), \"value\": item.get(\"market_value_in_eur\"), \"date\": item.get(\"date\")} for item in value_players]\n",
    "        \n",
    "        max_value = {}\n",
    "\n",
    "        for player in name_value:\n",
    "            name = player['name']\n",
    "            value = player['value']\n",
    "            date = player['date']\n",
    "        \n",
    "            if name in max_value:\n",
    "                if value > max_value[name]['value']:\n",
    "                    max_value[name] = {'value': value, 'date': date}\n",
    "            else:\n",
    "                max_value[name] = {'value': value, 'date': date}\n",
    "        \n",
    "        player_value_list = [{'name': name, 'value': data['value'], 'date': data['date'].strftime('%Y')} for name, data in max_value.items()]\n",
    "\n",
    "        \n",
    "        return player_value_list\n",
    "    except Exception as e:\n",
    "            print(f\"Retrieval of Values failed: {e}\")\n",
    "            return []"
   ],
   "metadata": {
    "collapsed": false,
    "ExecuteTime": {
     "start_time": "2024-01-30T11:40:03.768580Z"
    }
   },
   "id": "a4a34921adec08c4",
   "execution_count": null
  },
  {
   "cell_type": "markdown",
   "source": [
    "Function that given a competition and a list of name, value, and year of value of a competition draws a bar chart graphic"
   ],
   "metadata": {
    "collapsed": false
   },
   "id": "469a6ba76bcda605"
  },
  {
   "cell_type": "code",
   "outputs": [],
   "source": [
    "def plotGraphValues(data, competition):\n",
    "    df = pd.DataFrame(data)\n",
    "\n",
    "    df['date'] = pd.to_datetime(df['date']).dt.year\n",
    "\n",
    "    df = df.sort_values(by=['date', 'name'])\n",
    "\n",
    "    plt.figure(figsize=(12, 6))\n",
    "    sns.barplot(x='name', y='value', hue='date', data=df, palette='viridis', errorbar=None)\n",
    "\n",
    "    plt.xlabel('Player')\n",
    "    plt.ylabel('Value of Market (in millions)')\n",
    "    plt.title(f'Market Values of Players Over Time for {competition}')\n",
    "    plt.legend(title='Year', loc='upper left', bbox_to_anchor=(1, 1))\n",
    "    plt.xticks(rotation=45, ha='right')\n",
    "    \n",
    "    plt.yticks(plt.yticks()[0], [f'{round(y/1000000)}M' for y in plt.yticks()[0]])\n",
    "\n",
    "    plt.tight_layout()\n",
    "    plt.show()"
   ],
   "metadata": {
    "collapsed": false,
    "ExecuteTime": {
     "start_time": "2024-01-30T11:40:03.771625Z"
    }
   },
   "id": "9adcb58a2ae5b306",
   "execution_count": null
  },
  {
   "cell_type": "code",
   "outputs": [],
   "source": [
    "data = getMoreValuePlayerCompetition(db, competition)\n",
    "print(data)"
   ],
   "metadata": {
    "collapsed": false,
    "ExecuteTime": {
     "start_time": "2024-01-30T11:40:03.774806400Z"
    }
   },
   "id": "60b3d0731bd5a6fc",
   "execution_count": null
  },
  {
   "cell_type": "code",
   "outputs": [],
   "source": [
    "plotGraphValues(data, competition)"
   ],
   "metadata": {
    "collapsed": false,
    "ExecuteTime": {
     "end_time": "2024-01-30T11:40:03.784141700Z",
     "start_time": "2024-01-30T11:40:03.776161800Z"
    }
   },
   "id": "26239f1cbb6660c8",
   "execution_count": null
  },
  {
   "cell_type": "markdown",
   "source": [
    "5.PLAYERS THAT HAVE ONE OR MORE HATTRICKS IN A CERTAIN COMPETITION"
   ],
   "metadata": {
    "collapsed": false
   },
   "id": "66295e9ae42af944"
  },
  {
   "cell_type": "code",
   "outputs": [],
   "source": [
    "competition = \"ES1\""
   ],
   "metadata": {
    "collapsed": false,
    "ExecuteTime": {
     "start_time": "2024-01-30T11:40:03.777167500Z"
    }
   },
   "id": "c802bc29c167b3e3",
   "execution_count": null
  },
  {
   "cell_type": "markdown",
   "source": [
    "a. Function that given a competition_id gives back the name of a hattrick scorer and the number of goals (3 always)"
   ],
   "metadata": {
    "collapsed": false
   },
   "id": "24f751b749eee670"
  },
  {
   "cell_type": "code",
   "execution_count": null,
   "outputs": [],
   "source": [
    "def getPlayerNameAndSumHattricks(db, competition_id):\n",
    "    try:\n",
    "        collection = db[\"appearances\"]\n",
    "        query = {\"competition_id\": competition_id, \"goals\": 3}\n",
    "        hattricks = list(collection.find(query))\n",
    "        hattricks_score = [{\"player\": item.get(\"player_name\"), \"goals\": item.get(\"goals\")} for item in hattricks]\n",
    "        return hattricks_score\n",
    "    except Exception as e:\n",
    "            print(f\"Retrieval of Appearances failed: {e}\")\n",
    "            return []"
   ],
   "metadata": {
    "collapsed": false,
    "ExecuteTime": {
     "start_time": "2024-01-30T11:40:03.779690900Z"
    }
   },
   "id": "5a23454bd0596b01"
  },
  {
   "cell_type": "code",
   "execution_count": null,
   "outputs": [],
   "source": [
    "HattricksSum = getPlayerNameAndSumHattricks(db, competition)\n",
    "HattricksSum"
   ],
   "metadata": {
    "collapsed": false,
    "ExecuteTime": {
     "start_time": "2024-01-30T11:40:03.781901300Z"
    }
   },
   "id": "e7a3132cff94628"
  },
  {
   "cell_type": "markdown",
   "source": [
    "b. Function that given the previous list, returns for each element of the list the player and his number of hattricks. There are not duplicated elements."
   ],
   "metadata": {
    "collapsed": false
   },
   "id": "f006f7f44654c617"
  },
  {
   "cell_type": "code",
   "execution_count": null,
   "outputs": [],
   "source": [
    "def setNumberOfHattricks(list):\n",
    "    appearances = {}\n",
    "\n",
    "    for element in list:\n",
    "        player = element['player']\n",
    "        appearances[player] = appearances.get(player, 0) + 1\n",
    "\n",
    "    new_list = []\n",
    "    for element in list:\n",
    "        player = element['player']\n",
    "        total_hattricks = appearances[player]\n",
    "        element['total_hattricks'] = total_hattricks\n",
    "        if element not in new_list:\n",
    "            new_list.append(element)\n",
    "\n",
    "    hattricks_list = [{\"player\": item.get(\"player\"), \"hattricks\": item.get(\"total_hattricks\")} for item in new_list]\n",
    "\n",
    "    return hattricks_list"
   ],
   "metadata": {
    "collapsed": false,
    "ExecuteTime": {
     "start_time": "2024-01-30T11:40:03.784141700Z"
    }
   },
   "id": "25c08a4ae855b21"
  },
  {
   "cell_type": "code",
   "execution_count": null,
   "outputs": [],
   "source": [
    "hattricks_register = setNumberOfHattricks(HattricksSum)\n",
    "hattricks_register"
   ],
   "metadata": {
    "collapsed": false,
    "ExecuteTime": {
     "end_time": "2024-01-30T11:40:03.796530100Z",
     "start_time": "2024-01-30T11:40:03.785226300Z"
    }
   },
   "id": "5a5cdcd52ae8bfb8"
  },
  {
   "cell_type": "markdown",
   "source": [
    "c. Function to draw a dispersion graphic for this particular case."
   ],
   "metadata": {
    "collapsed": false
   },
   "id": "39e79cbd068eefd2"
  },
  {
   "cell_type": "code",
   "execution_count": null,
   "outputs": [],
   "source": [
    "def getDispersionGraphicForHattricks(list_hattricks):\n",
    "    players = [player['player'] for player in list_hattricks]\n",
    "    hattricks = [player['hattricks'] for player in list_hattricks]\n",
    "\n",
    "    plt.figure(figsize=(12, 8))\n",
    "    \n",
    "    plt.scatter(players, hattricks, color='blue')\n",
    "\n",
    "    plt.title('Hattricks per Player')\n",
    "    plt.xlabel('Players')\n",
    "    plt.ylabel('Number of Hattricks')\n",
    "    plt.xticks(rotation=45, ha='right')\n",
    "\n",
    "    plt.tight_layout()\n",
    "    plt.show()"
   ],
   "metadata": {
    "collapsed": false,
    "ExecuteTime": {
     "start_time": "2024-01-30T11:40:03.787314Z"
    }
   },
   "id": "51a4da70ece4f6d8"
  },
  {
   "cell_type": "code",
   "execution_count": null,
   "outputs": [],
   "source": [
    "hattricks_register = [element for element in hattricks_register if element['hattricks'] >= 2] #For a better visualization of the graphic, it has been decided to show only the players who have 2 or more hattricks.\n",
    "getDispersionGraphicForHattricks(hattricks_register)"
   ],
   "metadata": {
    "collapsed": false,
    "ExecuteTime": {
     "start_time": "2024-01-30T11:40:03.792130800Z"
    }
   },
   "id": "e8eb6077d8466660"
  },
  {
   "cell_type": "markdown",
   "source": [
    "6. COMPARATIVE OF AVERAGE GOALS OF EACH OF THE 5 BIG EUROPEAN LEAGUES SINCE A CERTAIN YEAR"
   ],
   "metadata": {
    "collapsed": false
   },
   "id": "72627dc5048fa8c7"
  },
  {
   "cell_type": "code",
   "outputs": [],
   "source": [
    "competition = \"IT1\"\n",
    "season = 2012"
   ],
   "metadata": {
    "collapsed": false,
    "ExecuteTime": {
     "start_time": "2024-01-30T11:40:03.793267300Z"
    }
   },
   "id": "d96a04a6993a01d3",
   "execution_count": null
  },
  {
   "cell_type": "markdown",
   "source": [
    "a. Function that given a competition and a year gives us the number of home and away goals."
   ],
   "metadata": {
    "collapsed": false
   },
   "id": "2673e12b4bf2e48"
  },
  {
   "cell_type": "code",
   "execution_count": null,
   "outputs": [],
   "source": [
    "def getHomeAndAwayGoals(db, competition_id, year):\n",
    "    try:\n",
    "        collection = db[\"games\"]\n",
    "        query = {\"competition_id\": competition_id, \"season\": year}\n",
    "        results = list(collection.find(query))\n",
    "        results_filtered = [{\"competition\": item.get(\"competition_id\"), \"home_goals\": item.get(\"home_club_goals\"), \n",
    "                             \"away_goals\": item.get(\"away_club_goals\"), \"year\": item.get(\"season\")} for item in results]\n",
    "        return results_filtered\n",
    "    except Exception as e:\n",
    "            print(f\"Retrieval of Games failed: {e}\")\n",
    "            return []"
   ],
   "metadata": {
    "collapsed": false,
    "ExecuteTime": {
     "start_time": "2024-01-30T11:40:03.795320100Z"
    }
   },
   "id": "4fec044fd42c1ca7"
  },
  {
   "cell_type": "code",
   "execution_count": null,
   "outputs": [],
   "source": [
    "sumGoals = getHomeAndAwayGoals(db, competition, season)\n",
    "sumGoals"
   ],
   "metadata": {
    "collapsed": false,
    "ExecuteTime": {
     "end_time": "2024-01-30T11:40:04.331838700Z",
     "start_time": "2024-01-30T11:40:03.797560700Z"
    }
   },
   "id": "bbd3efbe1e85cb3e"
  },
  {
   "cell_type": "markdown",
   "source": [
    "b. Modification of the list so that we can get for each match of the competition in a year the number of goals"
   ],
   "metadata": {
    "collapsed": false
   },
   "id": "ce1baaf7c0896d4a"
  },
  {
   "cell_type": "code",
   "execution_count": null,
   "outputs": [],
   "source": [
    "def getGoalsInMatch(list):\n",
    "    for match in list:\n",
    "        match['goals_in_match'] = match['home_goals'] + match['away_goals']\n",
    "        del match['home_goals']\n",
    "        del match['away_goals']\n",
    "    return list"
   ],
   "metadata": {
    "collapsed": false,
    "ExecuteTime": {
     "start_time": "2024-01-30T11:40:03.800786700Z"
    }
   },
   "id": "894f701c828c7ef6"
  },
  {
   "cell_type": "code",
   "outputs": [],
   "source": [
    "l = getGoalsInMatch(sumGoals)\n",
    "l"
   ],
   "metadata": {
    "collapsed": false,
    "ExecuteTime": {
     "start_time": "2024-01-30T11:40:03.802800400Z"
    }
   },
   "id": "757eb7b420076ff",
   "execution_count": null
  },
  {
   "cell_type": "markdown",
   "source": [
    "c. Function that given the previous list returns the average goals of a season of certain competition."
   ],
   "metadata": {
    "collapsed": false
   },
   "id": "ca4c043b3933e646"
  },
  {
   "cell_type": "code",
   "execution_count": null,
   "outputs": [],
   "source": [
    "def getAverageGoals(list):\n",
    "    total_goals = sum(match['goals_in_match'] for match in list)\n",
    "    average_goals = round(total_goals / len(list), 2)\n",
    "\n",
    "    elem = {'competition': list[0]['competition'], 'year': list[0]['year'], 'average_goals_in_match': average_goals}\n",
    "    return elem"
   ],
   "metadata": {
    "collapsed": false,
    "ExecuteTime": {
     "start_time": "2024-01-30T11:40:03.806191100Z"
    }
   },
   "id": "116fc0417f0f6543"
  },
  {
   "cell_type": "code",
   "execution_count": null,
   "outputs": [],
   "source": [
    "elem = getAverageGoals(l)\n",
    "elem"
   ],
   "metadata": {
    "collapsed": false,
    "ExecuteTime": {
     "start_time": "2024-01-30T11:40:03.807389Z"
    }
   },
   "id": "2c257cdcdf2d688"
  },
  {
   "cell_type": "markdown",
   "source": [
    "d. Getting the information of each of the 5 leagues for the graphic"
   ],
   "metadata": {
    "collapsed": false
   },
   "id": "71c422e6d110293c"
  },
  {
   "cell_type": "code",
   "execution_count": null,
   "outputs": [],
   "source": [
    "#SPANISH LEAGUE\n",
    "home_away_goals_2020 = getHomeAndAwayGoals(db,\"ES1\",2020)\n",
    "home_away_goals_2021 = getHomeAndAwayGoals(db,\"ES1\",2021)\n",
    "home_away_goals_2022 = getHomeAndAwayGoals(db,\"ES1\",2022)\n",
    "home_away_goals_2023 = getHomeAndAwayGoals(db,\"ES1\",2023)\n",
    "\n",
    "goals_in_match_2020 = getGoalsInMatch(home_away_goals_2020)\n",
    "goals_in_match_2021 = getGoalsInMatch(home_away_goals_2021)\n",
    "goals_in_match_2022 = getGoalsInMatch(home_away_goals_2022)\n",
    "goals_in_match_2023 = getGoalsInMatch(home_away_goals_2023)\n",
    "\n",
    "average_goals_2020 = getAverageGoals(goals_in_match_2020)\n",
    "average_goals_2021 = getAverageGoals(goals_in_match_2021)\n",
    "average_goals_2022 = getAverageGoals(goals_in_match_2022)\n",
    "average_goals_2023 = getAverageGoals(goals_in_match_2023)\n",
    "\n",
    "average_goals_spain = [average_goals_2020, average_goals_2021,average_goals_2022, average_goals_2023]\n",
    "average_goals_spain"
   ],
   "metadata": {
    "collapsed": false,
    "ExecuteTime": {
     "start_time": "2024-01-30T11:40:03.811037100Z"
    }
   },
   "id": "eb846eb650075c4"
  },
  {
   "cell_type": "code",
   "execution_count": null,
   "outputs": [],
   "source": [
    "#ITALIAN LEAGUE\n",
    "home_away_goals_2020 = getHomeAndAwayGoals(db,\"IT1\",2020)\n",
    "home_away_goals_2021 = getHomeAndAwayGoals(db,\"IT1\",2021)\n",
    "home_away_goals_2022 = getHomeAndAwayGoals(db,\"IT1\",2022)\n",
    "home_away_goals_2023 = getHomeAndAwayGoals(db,\"IT1\",2023)\n",
    "\n",
    "goals_in_match_2020 = getGoalsInMatch(home_away_goals_2020)\n",
    "goals_in_match_2021 = getGoalsInMatch(home_away_goals_2021)\n",
    "goals_in_match_2022 = getGoalsInMatch(home_away_goals_2022)\n",
    "goals_in_match_2023 = getGoalsInMatch(home_away_goals_2023)\n",
    "\n",
    "average_goals_2020 = getAverageGoals(goals_in_match_2020)\n",
    "average_goals_2021 = getAverageGoals(goals_in_match_2021)\n",
    "average_goals_2022 = getAverageGoals(goals_in_match_2022)\n",
    "average_goals_2023 = getAverageGoals(goals_in_match_2023)\n",
    "\n",
    "average_goals_italy = [average_goals_2020, average_goals_2021,average_goals_2022, average_goals_2023]\n",
    "average_goals_italy"
   ],
   "metadata": {
    "collapsed": false,
    "ExecuteTime": {
     "start_time": "2024-01-30T11:40:03.813115Z"
    }
   },
   "id": "3492842064b9259"
  },
  {
   "cell_type": "code",
   "execution_count": null,
   "outputs": [],
   "source": [
    "#ENGLISH LEAGUE\n",
    "home_away_goals_2020 = getHomeAndAwayGoals(db,\"GB1\",2020)\n",
    "home_away_goals_2021 = getHomeAndAwayGoals(db,\"GB1\",2021)\n",
    "home_away_goals_2022 = getHomeAndAwayGoals(db,\"GB1\",2022)\n",
    "home_away_goals_2023 = getHomeAndAwayGoals(db,\"GB1\",2023)\n",
    "\n",
    "goals_in_match_2020 = getGoalsInMatch(home_away_goals_2020)\n",
    "goals_in_match_2021 = getGoalsInMatch(home_away_goals_2021)\n",
    "goals_in_match_2022 = getGoalsInMatch(home_away_goals_2022)\n",
    "goals_in_match_2023 = getGoalsInMatch(home_away_goals_2023)\n",
    "\n",
    "average_goals_2020 = getAverageGoals(goals_in_match_2020)\n",
    "average_goals_2021 = getAverageGoals(goals_in_match_2021)\n",
    "average_goals_2022 = getAverageGoals(goals_in_match_2022)\n",
    "average_goals_2023 = getAverageGoals(goals_in_match_2023)\n",
    "\n",
    "average_goals_england = [average_goals_2020, average_goals_2021,average_goals_2022, average_goals_2023]\n",
    "average_goals_england"
   ],
   "metadata": {
    "collapsed": false,
    "ExecuteTime": {
     "start_time": "2024-01-30T11:40:03.816153600Z"
    }
   },
   "id": "d481547ee3ffd3b"
  },
  {
   "cell_type": "code",
   "execution_count": null,
   "outputs": [],
   "source": [
    "#GERMAN LEAGUE\n",
    "home_away_goals_2020 = getHomeAndAwayGoals(db,\"FR1\",2020)\n",
    "home_away_goals_2021 = getHomeAndAwayGoals(db,\"FR1\",2021)\n",
    "home_away_goals_2022 = getHomeAndAwayGoals(db,\"FR1\",2022)\n",
    "home_away_goals_2023 = getHomeAndAwayGoals(db,\"FR1\",2023)\n",
    "\n",
    "goals_in_match_2020 = getGoalsInMatch(home_away_goals_2020)\n",
    "goals_in_match_2021 = getGoalsInMatch(home_away_goals_2021)\n",
    "goals_in_match_2022 = getGoalsInMatch(home_away_goals_2022)\n",
    "goals_in_match_2023 = getGoalsInMatch(home_away_goals_2023)\n",
    "\n",
    "average_goals_2020 = getAverageGoals(goals_in_match_2020)\n",
    "average_goals_2021 = getAverageGoals(goals_in_match_2021)\n",
    "average_goals_2022 = getAverageGoals(goals_in_match_2022)\n",
    "average_goals_2023 = getAverageGoals(goals_in_match_2023)\n",
    "\n",
    "average_goals_france = [average_goals_2020, average_goals_2021,average_goals_2022, average_goals_2023]\n",
    "average_goals_france"
   ],
   "metadata": {
    "collapsed": false,
    "ExecuteTime": {
     "start_time": "2024-01-30T11:40:03.818687300Z"
    }
   },
   "id": "33516e3cbf3567a3"
  },
  {
   "cell_type": "code",
   "execution_count": null,
   "outputs": [],
   "source": [
    "#GERMAN LEAGUE\n",
    "home_away_goals_2020 = getHomeAndAwayGoals(db,\"L1\",2020)\n",
    "home_away_goals_2021 = getHomeAndAwayGoals(db,\"L1\",2021)\n",
    "home_away_goals_2022 = getHomeAndAwayGoals(db,\"L1\",2022)\n",
    "home_away_goals_2023 = getHomeAndAwayGoals(db,\"L1\",2023)\n",
    "\n",
    "goals_in_match_2020 = getGoalsInMatch(home_away_goals_2020)\n",
    "goals_in_match_2021 = getGoalsInMatch(home_away_goals_2021)\n",
    "goals_in_match_2022 = getGoalsInMatch(home_away_goals_2022)\n",
    "goals_in_match_2023 = getGoalsInMatch(home_away_goals_2023)\n",
    "\n",
    "average_goals_2020 = getAverageGoals(goals_in_match_2020)\n",
    "average_goals_2021 = getAverageGoals(goals_in_match_2021)\n",
    "average_goals_2022 = getAverageGoals(goals_in_match_2022)\n",
    "average_goals_2023 = getAverageGoals(goals_in_match_2023)\n",
    "\n",
    "average_goals_germany = [average_goals_2020, average_goals_2021,average_goals_2022, average_goals_2023]\n",
    "average_goals_germany"
   ],
   "metadata": {
    "collapsed": false,
    "ExecuteTime": {
     "start_time": "2024-01-30T11:40:03.820886800Z"
    }
   },
   "id": "97d95ebb1cb3a684"
  },
  {
   "cell_type": "code",
   "execution_count": null,
   "outputs": [],
   "source": [
    "def drawPlot(average_spain, average_italy, average_germany, average_france, average_england):\n",
    "    color_map = {average_spain[0][\"competition\"]: 'blue', average_italy[0][\"competition\"]: 'green', \n",
    "                 average_germany[0][\"competition\"]: 'red', average_france[0][\"competition\"]: 'yellow',\n",
    "                 average_england[0][\"competition\"]: 'orange'}\n",
    "\n",
    "    plt.figure(figsize=(10, 6))\n",
    "\n",
    "    for competition_data in [average_spain, average_italy, average_germany, average_france, average_england]:\n",
    "        competition_name = competition_data[0][\"competition\"]\n",
    "        color = color_map.get(competition_name, 'black')\n",
    "        years = [entry['year'] for entry in competition_data]\n",
    "        average_goals = [entry['average_goals_in_match'] for entry in competition_data]\n",
    "        for year, avg_goals in zip(years, average_goals):\n",
    "            plt.plot(years, average_goals, label=competition_name, color=color, marker='o')\n",
    "            plt.text(year, avg_goals, f'{avg_goals:.2f}', ha='left', va='bottom', fontsize=8, color=color)\n",
    "\n",
    "\n",
    "\n",
    "    plt.title('Average Goals per Match Over Years in the Big 5 European Leagues')\n",
    "    plt.xlabel('Year')\n",
    "    plt.ylabel('Average Goals per Match')\n",
    "    plt.legend(loc='center left', bbox_to_anchor=(1, 0.5))\n",
    "    plt.grid(True)\n",
    "\n",
    "    plt.tight_layout()\n",
    "    plt.show()"
   ],
   "metadata": {
    "collapsed": false,
    "ExecuteTime": {
     "start_time": "2024-01-30T11:40:03.823255Z"
    }
   },
   "id": "c67933bca3646cfd"
  },
  {
   "cell_type": "code",
   "execution_count": null,
   "outputs": [],
   "source": [
    "drawPlot(average_goals_spain, average_goals_italy, average_goals_germany, average_goals_france, average_goals_england)"
   ],
   "metadata": {
    "collapsed": false,
    "ExecuteTime": {
     "start_time": "2024-01-30T11:40:03.825349Z"
    }
   },
   "id": "f27abce33e860142"
  },
  {
   "cell_type": "markdown",
   "source": [
    "7. GOAL EVOLUTION OF A PLAYER OVER THE YEARS"
   ],
   "metadata": {
    "collapsed": false
   },
   "id": "95444926faa4794e"
  },
  {
   "cell_type": "code",
   "outputs": [],
   "source": [
    "season = 2012\n",
    "player_id = 28003"
   ],
   "metadata": {
    "collapsed": false,
    "ExecuteTime": {
     "start_time": "2024-01-30T11:40:03.826409600Z"
    }
   },
   "id": "3dc866b44a6ab777",
   "execution_count": null
  },
  {
   "cell_type": "markdown",
   "source": [
    "a. Function that takes game_id of a single season."
   ],
   "metadata": {
    "collapsed": false
   },
   "id": "e45071d9bf0e6bba"
  },
  {
   "cell_type": "code",
   "execution_count": null,
   "outputs": [],
   "source": [
    "def getGameIDsFromSeason(db, season):\n",
    "    try: \n",
    "        collection = db[\"games\"]\n",
    "        query = {\"season\": season}\n",
    "        results = list(collection.find(query))\n",
    "        results_filtered = [{\"game_id\": item.get(\"game_id\"), \"year\": season} for item in results]\n",
    "        return results_filtered\n",
    "    except Exception as e:\n",
    "            print(f\"Retrieval of Clubs failed: {e}\")\n",
    "            return []"
   ],
   "metadata": {
    "collapsed": false,
    "ExecuteTime": {
     "start_time": "2024-01-30T11:40:03.828539900Z"
    }
   },
   "id": "ba0dda63fa1bfd18"
  },
  {
   "cell_type": "code",
   "execution_count": null,
   "outputs": [],
   "source": [
    "games = getGameIDsFromSeason(db, season)\n",
    "games"
   ],
   "metadata": {
    "collapsed": false,
    "ExecuteTime": {
     "start_time": "2024-01-30T11:40:03.829617Z"
    }
   },
   "id": "ed41ade048feb827"
  },
  {
   "cell_type": "markdown",
   "source": [
    "b. Function that gets the appearances of a certain player."
   ],
   "metadata": {
    "collapsed": false
   },
   "id": "84ac1f3fe8b72a0d"
  },
  {
   "cell_type": "code",
   "execution_count": null,
   "outputs": [],
   "source": [
    "def getPlayerAppearances(db, player_id):\n",
    "    try:\n",
    "        collection = db[\"appearances\"]\n",
    "        query = {\"player_id\": player_id}\n",
    "        player_appearances = list(collection.find(query))\n",
    "        results_filtered = [{\"game\": item.get(\"game_id\"), \"player\": item.get(\"player_id\"), \"goals\": item.get(\"goals\")} for item in player_appearances]\n",
    "        return results_filtered\n",
    "    except Exception as e:\n",
    "            print(f\"Retrieval of Clubs failed: {e}\")\n",
    "            return []"
   ],
   "metadata": {
    "collapsed": false,
    "ExecuteTime": {
     "start_time": "2024-01-30T11:40:03.830663Z"
    }
   },
   "id": "4e7204c0ab736257"
  },
  {
   "cell_type": "markdown",
   "source": [
    "c. In the next cell we take out of the player appearances those appearances whose game_id is not included in the 'games' list."
   ],
   "metadata": {
    "collapsed": false
   },
   "id": "a93feeb5c44b254f"
  },
  {
   "cell_type": "code",
   "execution_count": null,
   "outputs": [],
   "source": [
    "def filterPlayerAppearances(the_games, the_player_appearances):\n",
    "    game_ids = {game['game_id'] for game in the_games}\n",
    "    \n",
    "    filtered_player_appearances = [appearance for appearance in the_player_appearances if appearance['game'] in game_ids]\n",
    "    \n",
    "    for item in filtered_player_appearances:\n",
    "        item['year'] = the_games[0]['year']\n",
    "    return filtered_player_appearances"
   ],
   "metadata": {
    "collapsed": false,
    "ExecuteTime": {
     "start_time": "2024-01-30T11:40:03.831722700Z"
    }
   },
   "id": "6ee1bb16b4642d87"
  },
  {
   "cell_type": "markdown",
   "source": [
    "d. It is calculated now the total goals of a player in a certain year."
   ],
   "metadata": {
    "collapsed": false
   },
   "id": "6efb1a96f74e468d"
  },
  {
   "cell_type": "code",
   "execution_count": null,
   "outputs": [],
   "source": [
    "def getPlayerAppearancesInSeason(list):\n",
    "    sum_goals = sum(entry['goals'] for entry in list)\n",
    "    \n",
    "    goals_player_year = {'game':list[0]['game'],'player':list[0]['player'],'total_goals':sum_goals, 'year':list[0]['year']}\n",
    "    return goals_player_year"
   ],
   "metadata": {
    "collapsed": false,
    "ExecuteTime": {
     "start_time": "2024-01-30T11:40:03.833763700Z"
    }
   },
   "id": "d5d032dd9fa7f9a2"
  },
  {
   "cell_type": "code",
   "execution_count": null,
   "outputs": [],
   "source": [
    "total_appearances = getPlayerAppearances(db,player_id)\n",
    "\n",
    "games_2012 = getGameIDsFromSeason(db, 2012)\n",
    "games_2013 = getGameIDsFromSeason(db, 2013)\n",
    "games_2014 = getGameIDsFromSeason(db, 2014)\n",
    "games_2015 = getGameIDsFromSeason(db, 2015)\n",
    "games_2016 = getGameIDsFromSeason(db, 2016)\n",
    "games_2017 = getGameIDsFromSeason(db, 2017)\n",
    "games_2018 = getGameIDsFromSeason(db, 2018)\n",
    "games_2019 = getGameIDsFromSeason(db, 2019)\n",
    "games_2020 = getGameIDsFromSeason(db, 2020)\n",
    "games_2021 = getGameIDsFromSeason(db, 2021)\n",
    "games_2022 = getGameIDsFromSeason(db, 2022)\n",
    "\n",
    "appearances_in_games_2012 = filterPlayerAppearances(games_2012, total_appearances)\n",
    "appearances_in_games_2013 = filterPlayerAppearances(games_2013, total_appearances)\n",
    "appearances_in_games_2014 = filterPlayerAppearances(games_2014, total_appearances)\n",
    "appearances_in_games_2015 = filterPlayerAppearances(games_2015, total_appearances)\n",
    "appearances_in_games_2016 = filterPlayerAppearances(games_2016, total_appearances)\n",
    "appearances_in_games_2017 = filterPlayerAppearances(games_2017, total_appearances)\n",
    "appearances_in_games_2018 = filterPlayerAppearances(games_2018, total_appearances)\n",
    "appearances_in_games_2019 = filterPlayerAppearances(games_2019, total_appearances)\n",
    "appearances_in_games_2020 = filterPlayerAppearances(games_2020, total_appearances)\n",
    "appearances_in_games_2021 = filterPlayerAppearances(games_2021, total_appearances)\n",
    "appearances_in_games_2022 = filterPlayerAppearances(games_2022, total_appearances)\n",
    "\n",
    "goals_2012 = getPlayerAppearancesInSeason(appearances_in_games_2012)\n",
    "goals_2013 = getPlayerAppearancesInSeason(appearances_in_games_2013)\n",
    "goals_2014 = getPlayerAppearancesInSeason(appearances_in_games_2014)\n",
    "goals_2015 = getPlayerAppearancesInSeason(appearances_in_games_2015)\n",
    "goals_2016 = getPlayerAppearancesInSeason(appearances_in_games_2016)\n",
    "goals_2017 = getPlayerAppearancesInSeason(appearances_in_games_2017)\n",
    "goals_2018 = getPlayerAppearancesInSeason(appearances_in_games_2018)\n",
    "goals_2019 = getPlayerAppearancesInSeason(appearances_in_games_2019)\n",
    "goals_2020 = getPlayerAppearancesInSeason(appearances_in_games_2020)\n",
    "goals_2021 = getPlayerAppearancesInSeason(appearances_in_games_2021)\n",
    "goals_2022 = getPlayerAppearancesInSeason(appearances_in_games_2022)\n",
    "\n",
    "goals_years = [goals_2012,goals_2013,goals_2014,goals_2015,goals_2016,goals_2017,goals_2018,goals_2019,goals_2020,goals_2021,goals_2022]"
   ],
   "metadata": {
    "collapsed": false,
    "ExecuteTime": {
     "start_time": "2024-01-30T11:40:03.834304500Z"
    }
   },
   "id": "cdd9ca2089862e1b"
  },
  {
   "cell_type": "code",
   "execution_count": null,
   "outputs": [],
   "source": [
    "def drawFillPlot(goals_year):    \n",
    "    years = [element['year'] for element in goals_year]\n",
    "    total_goals = [element['total_goals'] for element in goals_year]\n",
    "    \n",
    "    plt.fill_between(years, 0, total_goals, alpha=0.5)\n",
    "    \n",
    "    plt.title('Area graphic')\n",
    "    plt.xlabel('Year')\n",
    "    plt.ylabel('Total Goals')\n",
    "    plt.grid(True)\n",
    "    \n",
    "    plt.show()\n"
   ],
   "metadata": {
    "collapsed": false,
    "ExecuteTime": {
     "start_time": "2024-01-30T11:40:03.835346700Z"
    }
   },
   "id": "a1aea1b071e69f53"
  },
  {
   "cell_type": "code",
   "execution_count": null,
   "outputs": [],
   "source": [
    "drawFillPlot(goals_years)"
   ],
   "metadata": {
    "collapsed": false,
    "ExecuteTime": {
     "start_time": "2024-01-30T11:40:03.837349700Z"
    }
   },
   "id": "815c81211373204d"
  },
  {
   "cell_type": "markdown",
   "source": [
    "8. FOR A GIVEN TEAM NAME THE PERCENTAGE OF EACH NATIONALITY OF HIS PLAYERS"
   ],
   "metadata": {
    "collapsed": false
   },
   "id": "ed72570bdf591476"
  },
  {
   "cell_type": "code",
   "outputs": [],
   "source": [
    "team_name = \"Real Madrid\""
   ],
   "metadata": {
    "collapsed": false,
    "ExecuteTime": {
     "start_time": "2024-01-30T11:40:03.838906600Z"
    }
   },
   "id": "cb5395d0589d0a94",
   "execution_count": null
  },
  {
   "cell_type": "markdown",
   "source": [
    "Function that given a team name returns a list of all the player of the team and their nationality"
   ],
   "metadata": {
    "collapsed": false
   },
   "id": "349a5a88a684784a"
  },
  {
   "cell_type": "code",
   "outputs": [],
   "source": [
    "def PlayersInTeam(db, team):\n",
    "    try:\n",
    "        collection = db[\"players\"]\n",
    "        query = {\"current_club_name\": team}\n",
    "        players = list(collection.find(query))\n",
    "        results = [{\"nationality\": item.get(\"country_of_citizenship\")} for item in players]\n",
    "        return results\n",
    "    except Exception as e:\n",
    "            print(f\"Retrieval of Players failed: {e}\")\n",
    "            return []"
   ],
   "metadata": {
    "collapsed": false,
    "ExecuteTime": {
     "start_time": "2024-01-30T11:40:03.840902800Z"
    }
   },
   "id": "98d216cd17949acc",
   "execution_count": null
  },
  {
   "cell_type": "markdown",
   "source": [
    "Function that given a players nationalities and a team draw a pie graphic of the percentage of each nationality in the team"
   ],
   "metadata": {
    "collapsed": false
   },
   "id": "dde92557c641bd28"
  },
  {
   "cell_type": "code",
   "outputs": [],
   "source": [
    "def graphTeamNationality(data, team):\n",
    "    \n",
    "    nationality_frequency = {}\n",
    "    for item in data:\n",
    "        nationality = item['nationality']\n",
    "        nationality_frequency[nationality] = nationality_frequency.get(nationality, 0) + 1\n",
    "    \n",
    "    labels = nationality_frequency.keys()\n",
    "    sizes = nationality_frequency.values()\n",
    "    \n",
    "    plt.figure(figsize=(12, 12))\n",
    "    plt.pie(sizes, labels=labels, autopct='%1.1f%%', startangle=200)\n",
    "    plt.title(f'Nationality distributor for {team}')\n",
    "    plt.show()"
   ],
   "metadata": {
    "collapsed": false,
    "ExecuteTime": {
     "start_time": "2024-01-30T11:40:03.841902800Z"
    }
   },
   "id": "113361b4b38c926",
   "execution_count": null
  },
  {
   "cell_type": "code",
   "outputs": [],
   "source": [
    "nationality_players = PlayersInTeam(db, team_name)\n",
    "nationality_players"
   ],
   "metadata": {
    "collapsed": false,
    "ExecuteTime": {
     "start_time": "2024-01-30T11:40:03.843896400Z"
    }
   },
   "id": "c8a400f2a48d9498",
   "execution_count": null
  },
  {
   "cell_type": "code",
   "outputs": [],
   "source": [
    "graphTeamNationality(nationality_players, team_name)"
   ],
   "metadata": {
    "collapsed": false,
    "ExecuteTime": {
     "start_time": "2024-01-30T11:40:03.844892800Z"
    }
   },
   "id": "fa0f0118f798f0db",
   "execution_count": null
  },
  {
   "cell_type": "markdown",
   "source": [
    "9. AGE DENSITY FOR EACH POSITION"
   ],
   "metadata": {
    "collapsed": false
   },
   "id": "65ab4d5ff2515046"
  },
  {
   "cell_type": "markdown",
   "source": [
    "a. Function that given a position returns all the players registered with that position."
   ],
   "metadata": {
    "collapsed": false
   },
   "id": "ac17d6a6c1034e3b"
  },
  {
   "cell_type": "code",
   "execution_count": null,
   "outputs": [],
   "source": [
    "def getPlayersFromPosition(db, position):\n",
    "    try:\n",
    "        collection = db[\"players\"]\n",
    "        query = {\"position\": position, \"date_of_birth\": {\"$ne\": None}}\n",
    "        result = list(collection.find(query))\n",
    "        results_filtered = [{\"last_season\": item.get(\"last_season\"), \"date_birth\": item.get(\"date_of_birth\"), \n",
    "                             \"position\": item.get(\"position\"),} for item in result]\n",
    "        return results_filtered\n",
    "    except Exception as e:\n",
    "            print(f\"Retrieval of Players failed: {e}\")\n",
    "            return []"
   ],
   "metadata": {
    "collapsed": false,
    "ExecuteTime": {
     "start_time": "2024-01-30T11:40:03.845889500Z"
    }
   },
   "id": "f437ecb3122fbbc0"
  },
  {
   "cell_type": "markdown",
   "source": [
    "b. Function that with the information of the previous function calculates the age of every player."
   ],
   "metadata": {
    "collapsed": false
   },
   "id": "ae9ad65f407bef91"
  },
  {
   "cell_type": "code",
   "execution_count": null,
   "outputs": [],
   "source": [
    "from datetime import datetime\n",
    "\n",
    "def calculateAges(position_list):\n",
    "    for g in position_list:\n",
    "        date_of_birth_str = str(g[\"date_birth\"])\n",
    "        date_of_birth = datetime.fromisoformat(date_of_birth_str)\n",
    "        g[\"date_birth\"] = date_of_birth.year\n",
    "        g[\"age\"] = g[\"last_season\"] - date_of_birth.year\n",
    "    return position_list\n",
    "        "
   ],
   "metadata": {
    "collapsed": false,
    "ExecuteTime": {
     "start_time": "2024-01-30T11:40:03.847882900Z"
    }
   },
   "id": "87e3ba8b9bfcd9d4"
  },
  {
   "cell_type": "markdown",
   "source": [
    "c. Get the lists for all the positions and then put them together to visualize the graphic."
   ],
   "metadata": {
    "collapsed": false
   },
   "id": "7943d3edfc36caaa"
  },
  {
   "cell_type": "code",
   "execution_count": null,
   "outputs": [],
   "source": [
    "goalkeepers_list = getPlayersFromPosition(db, \"Goalkeeper\")\n",
    "defenders_list = getPlayersFromPosition(db, \"Defender\")\n",
    "midfielders_list = getPlayersFromPosition(db, \"Midfield\")\n",
    "attackers_list = getPlayersFromPosition(db, \"Attack\")\n",
    "    \n",
    "goalkeepers = calculateAges(goalkeepers_list)\n",
    "defenders = calculateAges(defenders_list)\n",
    "midfielders = calculateAges(midfielders_list)\n",
    "attackers = calculateAges(attackers_list)\n",
    "\n",
    "total_positions = goalkeepers + defenders + midfielders + attackers"
   ],
   "metadata": {
    "collapsed": false,
    "ExecuteTime": {
     "start_time": "2024-01-30T11:40:03.848879500Z"
    }
   },
   "id": "663ea1ab4f6bdb96"
  },
  {
   "cell_type": "markdown",
   "source": [
    "d. Function that draws the violin plot with the information solved."
   ],
   "metadata": {
    "collapsed": false
   },
   "id": "411b1e7af8d46975"
  },
  {
   "cell_type": "code",
   "execution_count": null,
   "outputs": [],
   "source": [
    "def drawViolinPlot(list_positions):\n",
    "    df = pd.DataFrame(list_positions)\n",
    "    violin = sns.catplot(x='position', y='age', data=df, kind='violin', palette='Paired')\n",
    "    violin.set_xticklabels(rotation=45)\n",
    "    plt.show()"
   ],
   "metadata": {
    "collapsed": false,
    "ExecuteTime": {
     "start_time": "2024-01-30T11:40:03.850383500Z"
    }
   },
   "id": "b46e9cf4fd166fde"
  },
  {
   "cell_type": "code",
   "execution_count": null,
   "outputs": [],
   "source": [
    "drawViolinPlot(total_positions)"
   ],
   "metadata": {
    "collapsed": false,
    "ExecuteTime": {
     "start_time": "2024-01-30T11:40:03.851382600Z"
    }
   },
   "id": "b8fc37687d0d461f"
  },
  {
   "cell_type": "markdown",
   "source": [
    "10. EVOLUTION OF THE ATTENDANCE TO A CLUB STATION IN A YEAR"
   ],
   "metadata": {
    "collapsed": false
   },
   "id": "e1938cab78857570"
  },
  {
   "cell_type": "code",
   "outputs": [],
   "source": [
    "season = 2016\n",
    "team_name = \"Borussia Dortmund\""
   ],
   "metadata": {
    "collapsed": false,
    "ExecuteTime": {
     "start_time": "2024-01-30T11:40:03.852379700Z"
    }
   },
   "id": "14065165362c09ed",
   "execution_count": null
  },
  {
   "cell_type": "markdown",
   "source": [
    "Function that given a season and a club name return the attendance and the against team for all the games in the seaason"
   ],
   "metadata": {
    "collapsed": false
   },
   "id": "c91a939e29d6fb97"
  },
  {
   "cell_type": "code",
   "outputs": [],
   "source": [
    "def getHomeMatchesInfo(db, season, club_name):\n",
    "    try:\n",
    "        collection = db[\"games\"]\n",
    "        query = {\"season\": season, \"home_club_name\": club_name}\n",
    "        result = list(collection.find(query))\n",
    "        results_filtered = [{\"attendance\": item.get(\"attendance\"), \"against\": item.get(\"away_club_name\") or \"Undefined\"} for item in result]\n",
    "        return results_filtered\n",
    "    except Exception as e:\n",
    "            print(f\"Retrieval of Games failed: {e}\")\n",
    "            return []"
   ],
   "metadata": {
    "collapsed": false,
    "ExecuteTime": {
     "start_time": "2024-01-30T11:40:03.854373Z"
    }
   },
   "id": "1bef3d730e7c331b",
   "execution_count": null
  },
  {
   "cell_type": "markdown",
   "source": [
    "Function that given an attendance per game per season draws a graphic of the attendance for each game"
   ],
   "metadata": {
    "collapsed": false
   },
   "id": "826c293251378616"
  },
  {
   "cell_type": "code",
   "outputs": [],
   "source": [
    "def GraphAttendance(data, season, club_name):\n",
    "    teams = [game['against'] for game in data]\n",
    "    attendance = [game['attendance'] for game in data]\n",
    "    \n",
    "    plt.figure(figsize=(12, 6))\n",
    "    plt.stem(teams, attendance, label='Attendance', basefmt='b', linefmt='b-', markerfmt='bo')\n",
    "    \n",
    "    plt.ylim(min(attendance) - 10000, max(attendance) + 10000)\n",
    "    \n",
    "    plt.xticks(rotation=45, ha='right')\n",
    "    plt.xlabel('Against')\n",
    "    plt.ylabel('Attendance')\n",
    "    plt.title(f'Attendance for {club_name} in season {season}')\n",
    "    plt.legend()\n",
    "    plt.show()"
   ],
   "metadata": {
    "collapsed": false,
    "ExecuteTime": {
     "start_time": "2024-01-30T11:40:03.855369700Z"
    }
   },
   "id": "ae3fc410daf681f3",
   "execution_count": null
  },
  {
   "cell_type": "code",
   "outputs": [],
   "source": [
    "data = getHomeMatchesInfo(db, season, team_name)\n",
    "data"
   ],
   "metadata": {
    "collapsed": false,
    "ExecuteTime": {
     "start_time": "2024-01-30T11:40:03.856367400Z"
    }
   },
   "id": "fe235970fc8b7d91",
   "execution_count": null
  },
  {
   "cell_type": "code",
   "outputs": [],
   "source": [
    "GraphAttendance(data, season, team_name)"
   ],
   "metadata": {
    "collapsed": false,
    "ExecuteTime": {
     "start_time": "2024-01-30T11:40:03.857362700Z"
    }
   },
   "id": "fccd0c62b70875e8",
   "execution_count": null
  }
 ],
 "metadata": {
  "kernelspec": {
   "display_name": "Python 3",
   "language": "python",
   "name": "python3"
  },
  "language_info": {
   "codemirror_mode": {
    "name": "ipython",
    "version": 2
   },
   "file_extension": ".py",
   "mimetype": "text/x-python",
   "name": "python",
   "nbconvert_exporter": "python",
   "pygments_lexer": "ipython2",
   "version": "2.7.6"
  }
 },
 "nbformat": 4,
 "nbformat_minor": 5
}
